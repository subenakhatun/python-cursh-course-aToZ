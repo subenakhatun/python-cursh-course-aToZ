{
 "cells": [
  {
   "cell_type": "markdown",
   "id": "fd99c36c",
   "metadata": {},
   "source": [
    "A python program is made of many lines of code, stored in a file with a name like \"example.py\". It's natural to have a way to divide the lines code up into sensible sub-parts, and these are called functions. Almost all the code you work with in Python is inside a function."
   ]
  },
  {
   "cell_type": "markdown",
   "id": "35f88df1",
   "metadata": {},
   "source": [
    "When you want to perform a perticular task taht you have defined in a function, you call the function responsible for it. If you need to perform that task multiple times throughout your program uou don't need to type all the code for the same task again and again. you just call the function dedicated to handling that task and the call tells python to run the code inside the function. you will find that using fuinctions makes your programs easier to write , resd, test and fix"
   ]
  },
  {
   "cell_type": "markdown",
   "id": "58100a6a",
   "metadata": {},
   "source": [
    "# Defining a Function"
   ]
  },
  {
   "cell_type": "code",
   "execution_count": 3,
   "id": "dcbd05bf",
   "metadata": {},
   "outputs": [],
   "source": [
    "def greetUser():\n",
    "    \"\"\"Display a simple greeting\"\"\"\n",
    "    print(\"Hello Subena!\")"
   ]
  },
  {
   "cell_type": "code",
   "execution_count": 4,
   "id": "0beb37e8",
   "metadata": {},
   "outputs": [
    {
     "name": "stdout",
     "output_type": "stream",
     "text": [
      "Hello Subena!\n"
     ]
    }
   ],
   "source": [
    "# without calling a function does not work\n",
    "greetUser()"
   ]
  },
  {
   "cell_type": "code",
   "execution_count": 6,
   "id": "f067f3ec",
   "metadata": {},
   "outputs": [
    {
     "name": "stdout",
     "output_type": "stream",
     "text": [
      "Hello, Subena!\n"
     ]
    }
   ],
   "source": [
    "# Passing information to a Function\n",
    "def greetUser(name):\n",
    "    \"\"\"Display a simple greeting\"\"\"\n",
    "    print(f\"Hello, {name.title()}!\")\n",
    "greetUser(\"Subena\")"
   ]
  },
  {
   "cell_type": "markdown",
   "id": "eca0d86c",
   "metadata": {},
   "source": [
    "# Arguments and Parameters\n",
    "* Parameters: In the preceding grretUser() function , we defined hreetUser() to require a value for the varaible name. Once we called the function and gave it the information ( a person's name), it printed the right greeting.The variable name in the definition of greetUser() is an example of a parameter, a piec of information the function needs to do its job.\n",
    "* Arguments:  The value \"Subena\" in greetUser(\"Subena\") is an example of an argument. An argument is apiece of information that's passed from a function call to a function. When we call the function , we place the value we want the function to work with in parentheses. In this case the arguments \"subena\" was passed to the function greetUser() and the value was assigned to the parameter name."
   ]
  },
  {
   "cell_type": "markdown",
   "id": "8eb5bb46",
   "metadata": {},
   "source": [
    "# 8.1. Message: \n",
    "Write a function called displayMessage() that prints one sentence telling everyone whta you are learning about in this chapter. Call the function and make sure the message displays correctly."
   ]
  },
  {
   "cell_type": "code",
   "execution_count": 9,
   "id": "bf13d6ef",
   "metadata": {},
   "outputs": [
    {
     "name": "stdout",
     "output_type": "stream",
     "text": [
      "Today topic is function. So i learn how can i call a function and i can pass an arguments and parameter.\n"
     ]
    }
   ],
   "source": [
    "def displayMessage():\n",
    "    print(\"Today topic is function. So i learn how can i call a function and i can pass an arguments and parameter.\")\n",
    "displayMessage()"
   ]
  },
  {
   "cell_type": "markdown",
   "id": "4f551e7e",
   "metadata": {},
   "source": [
    "# 8.2. Favorite Book: \n",
    "Write a function called favouriteBook() that accepts one parameter , tile. The function should print a message, such as one of my favourite books is Alice in Wonderland. Call the function making sure to include title as an argument in the function call."
   ]
  },
  {
   "cell_type": "code",
   "execution_count": 10,
   "id": "0a2897cc",
   "metadata": {},
   "outputs": [
    {
     "name": "stdout",
     "output_type": "stream",
     "text": [
      "My FAvourite book name is Alice In Wonderland\n"
     ]
    }
   ],
   "source": [
    "def favouriteBook(bookName):\n",
    "    print(f\"My FAvourite book name is {bookName.title()}\")\n",
    "favouriteBook(\"alice in Wonderland\")"
   ]
  },
  {
   "cell_type": "markdown",
   "id": "34da7d78",
   "metadata": {},
   "source": [
    "# Passing Argumnets\n",
    "Because a function definition can have multiple parameters, a function call may need multple argumnets. You can pass argumnets to your functions in a number of ways. You can use positional arguments which need to be in the smae order the parameters were written; keyword argumnets, where each argumnet consists of a varaible name and a value and lis and dictionaries of values."
   ]
  },
  {
   "cell_type": "markdown",
   "id": "b9eceb8d",
   "metadata": {},
   "source": [
    "When you call a function , Python must each argumnets in the function call with a parameter in the function definition. The simplest way to do this is based on the order of the argumnets provided. Values matched up this way are called positional argumnets."
   ]
  },
  {
   "cell_type": "code",
   "execution_count": 11,
   "id": "558a0ffc",
   "metadata": {},
   "outputs": [
    {
     "name": "stdout",
     "output_type": "stream",
     "text": [
      "\n",
      "I have a cat.\n",
      "My cat's name is Cherry.'\n"
     ]
    }
   ],
   "source": [
    "def describePet(animalType, petName):\n",
    "    \"\"\"Display information about a pet\"\"\"\n",
    "    print(f\"\\nI have a {animalType}.\")\n",
    "    print(f\"My {animalType}'s name is {petName.title()}.'\")\n",
    "describePet(\"cat\",\"cherry\")"
   ]
  },
  {
   "cell_type": "code",
   "execution_count": 12,
   "id": "7203dfdc",
   "metadata": {},
   "outputs": [
    {
     "name": "stdout",
     "output_type": "stream",
     "text": [
      "\n",
      "I have a cat.\n",
      "My cat's name is Cherry.'\n",
      "\n",
      "I have a dog.\n",
      "My dog's name is Kalo.'\n",
      "\n",
      "I have a birds.\n",
      "My birds's name is Don'T Know.'\n"
     ]
    }
   ],
   "source": [
    "# Multiple function calls\n",
    "describePet(\"cat\",\"cherry\")\n",
    "describePet(\"dog\",\"Kalo\")\n",
    "describePet(\"birds\",\"Don't know\")"
   ]
  },
  {
   "cell_type": "code",
   "execution_count": 13,
   "id": "5f211716",
   "metadata": {},
   "outputs": [],
   "source": [
    "# Order matters in Positiinal Arguments\n",
    "# You can ge unexpected results if you mix uo the order of the argumnets in a function call when using positional argumnets"
   ]
  },
  {
   "cell_type": "markdown",
   "id": "98ea8fc7",
   "metadata": {},
   "source": [
    "# Keyword arguments\n",
    "A keyword argumnets is anme value pair that you pass to a function. You directly associate the name and the value within the argument so when you pass the argumnet to the function there's no confusion. Kewords argumnets free you from having to worry about correctly ordering your argmnets in  the function call and they clarify the role of each value in the function call. "
   ]
  },
  {
   "cell_type": "code",
   "execution_count": 14,
   "id": "69e9a7d1",
   "metadata": {},
   "outputs": [
    {
     "name": "stdout",
     "output_type": "stream",
     "text": [
      "\n",
      "I have a Hamster.\n",
      "My Hamster's name is Harry.'\n"
     ]
    }
   ],
   "source": [
    "def describePet(animalType, petName):\n",
    "    \"\"\"Display information about a pet\"\"\"\n",
    "    print(f\"\\nI have a {animalType}.\")\n",
    "    print(f\"My {animalType}'s name is {petName.title()}.'\")\n",
    "describePet(animalType = \"Hamster\",petName = \"harry\")"
   ]
  },
  {
   "cell_type": "markdown",
   "id": "a41d969b",
   "metadata": {},
   "source": [
    "# Defaults values\n",
    "When written a function you can a default value for each parameter. If an argument for a parameter is provided in the function call , Python uses the argumnet value. If not it uses the paramentes default value. Using default values can simplify your function calls and clarify the ways your functions are tyoically used."
   ]
  },
  {
   "cell_type": "code",
   "execution_count": 24,
   "id": "c701db36",
   "metadata": {},
   "outputs": [
    {
     "name": "stdout",
     "output_type": "stream",
     "text": [
      "\n",
      "I have a dog.\n",
      "My dog's name is Harry.'\n"
     ]
    }
   ],
   "source": [
    "def describePetpetName(petName, animalType = \"Hamster\" ):\n",
    "    \"\"\"Display information about a pet\"\"\"\n",
    "    print(f\"\\nI have a {animalType}.\")\n",
    "    print(f\"My {animalType}'s name is {petName.title()}.'\")\n",
    "describePet(petName  = \"harry\", animalType = \"dog\")"
   ]
  },
  {
   "cell_type": "code",
   "execution_count": 25,
   "id": "88036cbf",
   "metadata": {},
   "outputs": [
    {
     "name": "stdout",
     "output_type": "stream",
     "text": [
      "\n",
      "I have a dog.\n",
      "My dog's name is Wille.'\n"
     ]
    }
   ],
   "source": [
    "def pets(petNames, animalType = \"dog\"):\n",
    "    print(f\"\\nI have a {animalType}.\")\n",
    "    print(f\"My {animalType}'s name is {petNames.title()}.'\")\n",
    "pets(petNames = \"Wille\")"
   ]
  },
  {
   "cell_type": "code",
   "execution_count": 26,
   "id": "0f916568",
   "metadata": {},
   "outputs": [],
   "source": [
    "# Equivalent Function calls"
   ]
  },
  {
   "cell_type": "markdown",
   "id": "c48a70f6",
   "metadata": {},
   "source": [
    "# 8.3. T-shirt\n",
    "Write a function  called makeShirt() that accepts a size and the text of a message that sholud be printed on the shirt. The function should print a sentence summarizing the size of the shirt and the message printed on it.\n",
    "Call  the function once using positioibal argumnets to make a shirt. Call the function a second time using keyword arguments."
   ]
  },
  {
   "cell_type": "code",
   "execution_count": 27,
   "id": "0c4f0500",
   "metadata": {},
   "outputs": [
    {
     "name": "stdout",
     "output_type": "stream",
     "text": [
      "My shirt size is 40 and please make sure that my shirt color blue or red.\n"
     ]
    }
   ],
   "source": [
    "def makeShirt(size , message):\n",
    "    print(f\"My shirt size is {size} and {message}\")\n",
    "makeShirt(40,\"please make sure that my shirt color blue or red.\")"
   ]
  },
  {
   "cell_type": "markdown",
   "id": "4b5a1be1",
   "metadata": {},
   "source": [
    "# 8.4 . Large Shirts: \n",
    "Modify the makeShirt() function so that shirts are large by default with a message that reads I love Python. MAke a large shirt and a medium shirt the dafaukt message and a shirt of any size with a different message."
   ]
  },
  {
   "cell_type": "code",
   "execution_count": 28,
   "id": "191e3450",
   "metadata": {},
   "outputs": [
    {
     "name": "stdout",
     "output_type": "stream",
     "text": [
      "My shirt size is 40 and i love python\n"
     ]
    }
   ],
   "source": [
    "def makeShirt(size , message = \"i love python\"):\n",
    "    print(f\"My shirt size is {size} and {message}\")\n",
    "makeShirt(40)"
   ]
  },
  {
   "cell_type": "markdown",
   "id": "87c03dcc",
   "metadata": {},
   "source": [
    "# 8.5. Cities:\n",
    "Write a function called describeCity() that accepts the name of a city and its country. The function should print a simple sentece such as Reykhavik is in Iceland. Give the paramenter for the country a default value. CAll your function for three different cities at least one of which is not in the default country."
   ]
  },
  {
   "cell_type": "code",
   "execution_count": 29,
   "id": "b93fa20e",
   "metadata": {},
   "outputs": [
    {
     "name": "stdout",
     "output_type": "stream",
     "text": [
      "I live in Bangladesh. Name of it's city Dhaka\n"
     ]
    }
   ],
   "source": [
    "def describeCity(city,country):\n",
    "    print(f\"I live in {country.title()}. Name of it's city {city.title()}\")\n",
    "describeCity('Dhaka',\"bangladesh\")"
   ]
  },
  {
   "cell_type": "markdown",
   "id": "435d2332",
   "metadata": {},
   "source": [
    "# Return values\n",
    "A function doesnot always have to display its output directly. Instead it can process some data and then return a value or set of values. The value the function returns is called a return value. The return statement takes a value from inside a function and sends it back to the line that called the function. Return values allow you to move much of your programs grunt work into functions which can simplify the body of your program"
   ]
  },
  {
   "cell_type": "code",
   "execution_count": 33,
   "id": "26306f1d",
   "metadata": {},
   "outputs": [
    {
     "name": "stdout",
     "output_type": "stream",
     "text": [
      "subena khatun\n",
      "Subena Khatun\n"
     ]
    }
   ],
   "source": [
    "# Returning a Simple value\n",
    "def getFormattedName(fisrtName, lastName):\n",
    "    \"Return a full name , neatly formatted.\"\n",
    "    fullName = f\"{fisrtName} {lastName}\"\n",
    "    print(fullName)\n",
    "    return fullName.title()\n",
    "musician = getFormattedName(\"subena\",\"khatun\")\n",
    "print(musician)"
   ]
  },
  {
   "cell_type": "code",
   "execution_count": 36,
   "id": "1e1a9fd0",
   "metadata": {},
   "outputs": [
    {
     "name": "stdout",
     "output_type": "stream",
     "text": [
      "subena khatun. Mother of Dhoha.\n",
      "Subena Khatun. Mother Of Dhoha.\n"
     ]
    }
   ],
   "source": [
    "# Making an Argument Optional\n",
    "def getFormattedName(fisrtName,middleName, lastName):\n",
    "    \"Return a full name , neatly formatted.\"\n",
    "    fullName = f\"{fisrtName} {middleName} {lastName}\"\n",
    "    print(fullName)\n",
    "    return fullName.title()\n",
    "musician = getFormattedName(\"subena\",\"khatun.\",\"Mother of Dhoha.\")\n",
    "print(musician)"
   ]
  },
  {
   "cell_type": "code",
   "execution_count": 41,
   "id": "65f1c8f0",
   "metadata": {},
   "outputs": [
    {
     "name": "stdout",
     "output_type": "stream",
     "text": [
      "Subena Khatun.\n",
      "Subena Mother Of Dhoha. Khatun.\n"
     ]
    }
   ],
   "source": [
    "def getFormattedName(fisrtName, lastName, middleName=\"\"):\n",
    "    \"Return a full name , neatly formatted.\"\n",
    "    if middleName:\n",
    "        fullName = f\"{fisrtName} {middleName} {lastName}\"\n",
    "    else:\n",
    "         fullName = f\"{fisrtName} {lastName}\"\n",
    "    return fullName.title()\n",
    "musician = getFormattedName(\"subena\",\"khatun.\")\n",
    "print(musician)\n",
    "musician = getFormattedName(\"subena\",\"khatun.\",\"Mother of Dhoha.\")\n",
    "print(musician)"
   ]
  },
  {
   "cell_type": "code",
   "execution_count": 43,
   "id": "91983fce",
   "metadata": {},
   "outputs": [
    {
     "name": "stdout",
     "output_type": "stream",
     "text": [
      "{'first': 'Dhoha', 'Last': 'Subena'}\n"
     ]
    }
   ],
   "source": [
    "# Returing a Dictionary\n",
    "def buildPerson(fName,lName):\n",
    "    person = {\"first\":fName ,\"Last\":lName}\n",
    "    return person\n",
    "person = buildPerson(\"Dhoha\",\"Subena\")\n",
    "print(person)"
   ]
  },
  {
   "cell_type": "markdown",
   "id": "0ae38f8f",
   "metadata": {},
   "source": [
    "* You can easily extend this function to accept optional values like a middle name, an age , an occupation or any other information you want to store about a person."
   ]
  },
  {
   "cell_type": "code",
   "execution_count": 44,
   "id": "1f9fd4ed",
   "metadata": {},
   "outputs": [
    {
     "name": "stdout",
     "output_type": "stream",
     "text": [
      "{'first': 'Dhoha', 'Last': 'Subena', 'age': 27}\n"
     ]
    }
   ],
   "source": [
    "def buildPerson(fName,lName, age = None):\n",
    "    person = {\"first\":fName ,\"Last\":lName}\n",
    "    if age:\n",
    "        person[\"age\"] = age\n",
    "    return person\n",
    "person = buildPerson(\"Dhoha\",\"Subena\", age = 27)\n",
    "print(person)"
   ]
  },
  {
   "cell_type": "code",
   "execution_count": 45,
   "id": "0fc2335a",
   "metadata": {},
   "outputs": [
    {
     "name": "stdout",
     "output_type": "stream",
     "text": [
      "\n",
      "Please tell me your name:\n",
      "(enter 'q' at any time to quit)\n",
      "First name: subena\n",
      "Lat name: khatun\n",
      "\n",
      "Please tell me your name:\n",
      "(enter 'q' at any time to quit)\n",
      "First name: subena\n",
      "Lat name: quite\n",
      "\n",
      "Please tell me your name:\n",
      "(enter 'q' at any time to quit)\n",
      "First name: q\n",
      "q quite\n",
      "Q Quite\n"
     ]
    }
   ],
   "source": [
    "def getFormattedName(fisrtName, lastName):\n",
    "    \"Return a full name , neatly formatted.\"\n",
    "    fullName = f\"{fisrtName} {lastName}\"\n",
    "    print(fullName)\n",
    "    return fullName.title()\n",
    "while True:\n",
    "    print(\"\\nPlease tell me your name:\")\n",
    "    print(\"(enter 'q' at any time to quit)\")\n",
    "    fisrtName = input(\"First name: \")\n",
    "    if fisrtName == 'q':\n",
    "        break\n",
    "    lastName = input(\"Lat name: \")\n",
    "    if lastName == 'q':\n",
    "        break\n",
    "musician = getFormattedName(fisrtName, lastName)\n",
    "print(musician)"
   ]
  },
  {
   "cell_type": "markdown",
   "id": "5ee9bfb8",
   "metadata": {},
   "source": [
    "# 8.6. City Names:\n",
    "Write a function called cityCountry() that takes in the name of a city and its country. The function should return a string formatted like this: \"Santiago, Chile\"\n",
    "call your function with at least three city country pairs and print the values that ar returned"
   ]
  },
  {
   "cell_type": "code",
   "execution_count": 46,
   "id": "a40d0a37",
   "metadata": {},
   "outputs": [
    {
     "name": "stdout",
     "output_type": "stream",
     "text": [
      "{'Dhaka': 'BAngladesh', 'Mumbai': 'India', 'none': 'none'}\n"
     ]
    }
   ],
   "source": [
    "def cityCountry(country1,country2,country3):\n",
    "    countryNAme = {\"Dhaka\": country1, \"Mumbai\":country2, \"none\": country3 }\n",
    "    return countryNAme\n",
    "citys = cityCountry(\"BAngladesh\",\"India\",\"none\")\n",
    "print(citys)"
   ]
  },
  {
   "cell_type": "code",
   "execution_count": null,
   "id": "0cf66e62",
   "metadata": {},
   "outputs": [],
   "source": []
  }
 ],
 "metadata": {
  "kernelspec": {
   "display_name": "Python 3 (ipykernel)",
   "language": "python",
   "name": "python3"
  },
  "language_info": {
   "codemirror_mode": {
    "name": "ipython",
    "version": 3
   },
   "file_extension": ".py",
   "mimetype": "text/x-python",
   "name": "python",
   "nbconvert_exporter": "python",
   "pygments_lexer": "ipython3",
   "version": "3.11.5"
  }
 },
 "nbformat": 4,
 "nbformat_minor": 5
}
