{
 "cells": [
  {
   "cell_type": "markdown",
   "id": "4db1051f",
   "metadata": {},
   "source": [
    "A python program is made of many lines of code, stored in a file with a name like \"example.py\". It's natural to have a way to divide the lines code up into sensible sub-parts, and these are called functions. Almost all the code you work with in Python is inside a function."
   ]
  },
  {
   "cell_type": "markdown",
   "id": "d1ada08d",
   "metadata": {},
   "source": [
    "When you want to perform a perticular task taht you have defined in a function, you call the function responsible for it. If you need to perform that task multiple times throughout your program uou don't need to type all the code for the same task again and again. you just call the function dedicated to handling that task and the call tells python to run the code inside the function. you will find that using fuinctions makes your programs easier to write , resd, test and fix"
   ]
  },
  {
   "cell_type": "markdown",
   "id": "6de763e9",
   "metadata": {},
   "source": [
    "# Defining a Function"
   ]
  },
  {
   "cell_type": "code",
   "execution_count": 3,
   "id": "8bda5aab",
   "metadata": {},
   "outputs": [],
   "source": [
    "def greetUser():\n",
    "    \"\"\"Display a simple greeting\"\"\"\n",
    "    print(\"Hello Subena!\")"
   ]
  },
  {
   "cell_type": "code",
   "execution_count": 4,
   "id": "c88984f1",
   "metadata": {},
   "outputs": [
    {
     "name": "stdout",
     "output_type": "stream",
     "text": [
      "Hello Subena!\n"
     ]
    }
   ],
   "source": [
    "# without calling a function does not work\n",
    "greetUser()"
   ]
  },
  {
   "cell_type": "code",
   "execution_count": 6,
   "id": "fc13bd76",
   "metadata": {},
   "outputs": [
    {
     "name": "stdout",
     "output_type": "stream",
     "text": [
      "Hello, Subena!\n"
     ]
    }
   ],
   "source": [
    "# Passing information to a Function\n",
    "def greetUser(name):\n",
    "    \"\"\"Display a simple greeting\"\"\"\n",
    "    print(f\"Hello, {name.title()}!\")\n",
    "greetUser(\"Subena\")"
   ]
  },
  {
   "cell_type": "markdown",
   "id": "26e2ec4f",
   "metadata": {},
   "source": [
    "# Arguments and Parameters\n",
    "* Parameters: In the preceding grretUser() function , we defined hreetUser() to require a value for the varaible name. Once we called the function and gave it the information ( a person's name), it printed the right greeting.The variable name in the definition of greetUser() is an example of a parameter, a piec of information the function needs to do its job.\n",
    "* Arguments:  The value \"Subena\" in greetUser(\"Subena\") is an example of an argument. An argument is apiece of information that's passed from a function call to a function. When we call the function , we place the value we want the function to work with in parentheses. In this case the arguments \"subena\" was passed to the function greetUser() and the value was assigned to the parameter name."
   ]
  },
  {
   "cell_type": "markdown",
   "id": "f236edb2",
   "metadata": {},
   "source": [
    "# 8.1. Message: \n",
    "Write a function called displayMessage() that prints one sentence telling everyone whta you are learning about in this chapter. Call the function and make sure the message displays correctly."
   ]
  },
  {
   "cell_type": "code",
   "execution_count": 9,
   "id": "d434cf89",
   "metadata": {},
   "outputs": [
    {
     "name": "stdout",
     "output_type": "stream",
     "text": [
      "Today topic is function. So i learn how can i call a function and i can pass an arguments and parameter.\n"
     ]
    }
   ],
   "source": [
    "def displayMessage():\n",
    "    print(\"Today topic is function. So i learn how can i call a function and i can pass an arguments and parameter.\")\n",
    "displayMessage()"
   ]
  },
  {
   "cell_type": "markdown",
   "id": "9580d290",
   "metadata": {},
   "source": [
    "# 8.2. Favorite Book: \n",
    "Write a function called favouriteBook() that accepts one parameter , tile. The function should print a message, such as one of my favourite books is Alice in Wonderland. Call the function making sure to include title as an argument in the function call."
   ]
  },
  {
   "cell_type": "code",
   "execution_count": 10,
   "id": "4e03d239",
   "metadata": {},
   "outputs": [
    {
     "name": "stdout",
     "output_type": "stream",
     "text": [
      "My FAvourite book name is Alice In Wonderland\n"
     ]
    }
   ],
   "source": [
    "def favouriteBook(bookName):\n",
    "    print(f\"My FAvourite book name is {bookName.title()}\")\n",
    "favouriteBook(\"alice in Wonderland\")"
   ]
  },
  {
   "cell_type": "markdown",
   "id": "148b3f6c",
   "metadata": {},
   "source": [
    "# Passing Argumnets\n",
    "Because a function definition can have multiple parameters, a function call may need multple argumnets. You can pass argumnets to your functions in a number of ways. You can use positional arguments which need to be in the smae order the parameters were written; keyword argumnets, where each argumnet consists of a varaible name and a value and lis and dictionaries of values."
   ]
  },
  {
   "cell_type": "markdown",
   "id": "5de386a8",
   "metadata": {},
   "source": [
    "When you call a function , Python must each argumnets in the function call with a parameter in the function definition. The simplest way to do this is based on the order of the argumnets provided. Values matched up this way are called positional argumnets."
   ]
  },
  {
   "cell_type": "code",
   "execution_count": 11,
   "id": "22b5d831",
   "metadata": {},
   "outputs": [
    {
     "name": "stdout",
     "output_type": "stream",
     "text": [
      "\n",
      "I have a cat.\n",
      "My cat's name is Cherry.'\n"
     ]
    }
   ],
   "source": [
    "def describePet(animalType, petName):\n",
    "    \"\"\"Display information about a pet\"\"\"\n",
    "    print(f\"\\nI have a {animalType}.\")\n",
    "    print(f\"My {animalType}'s name is {petName.title()}.'\")\n",
    "describePet(\"cat\",\"cherry\")"
   ]
  },
  {
   "cell_type": "code",
   "execution_count": 12,
   "id": "4e828d8f",
   "metadata": {},
   "outputs": [
    {
     "name": "stdout",
     "output_type": "stream",
     "text": [
      "\n",
      "I have a cat.\n",
      "My cat's name is Cherry.'\n",
      "\n",
      "I have a dog.\n",
      "My dog's name is Kalo.'\n",
      "\n",
      "I have a birds.\n",
      "My birds's name is Don'T Know.'\n"
     ]
    }
   ],
   "source": [
    "# Multiple function calls\n",
    "describePet(\"cat\",\"cherry\")\n",
    "describePet(\"dog\",\"Kalo\")\n",
    "describePet(\"birds\",\"Don't know\")"
   ]
  },
  {
   "cell_type": "code",
   "execution_count": 13,
   "id": "331c7fc6",
   "metadata": {},
   "outputs": [],
   "source": [
    "# Order matters in Positiinal Arguments\n",
    "# You can ge unexpected results if you mix uo the order of the argumnets in a function call when using positional argumnets"
   ]
  },
  {
   "cell_type": "markdown",
   "id": "4056095b",
   "metadata": {},
   "source": [
    "# Keyword arguments\n",
    "A keyword argumnets is anme value pair that you pass to a function. You directly associate the name and the value within the argument so when you pass the argumnet to the function there's no confusion. Kewords argumnets free you from having to worry about correctly ordering your argmnets in  the function call and they clarify the role of each value in the function call. "
   ]
  },
  {
   "cell_type": "code",
   "execution_count": 14,
   "id": "b8f5dee1",
   "metadata": {},
   "outputs": [
    {
     "name": "stdout",
     "output_type": "stream",
     "text": [
      "\n",
      "I have a Hamster.\n",
      "My Hamster's name is Harry.'\n"
     ]
    }
   ],
   "source": [
    "def describePet(animalType, petName):\n",
    "    \"\"\"Display information about a pet\"\"\"\n",
    "    print(f\"\\nI have a {animalType}.\")\n",
    "    print(f\"My {animalType}'s name is {petName.title()}.'\")\n",
    "describePet(animalType = \"Hamster\",petName = \"harry\")"
   ]
  },
  {
   "cell_type": "markdown",
   "id": "7b4647d5",
   "metadata": {},
   "source": [
    "# Defaults values\n",
    "When written a function you can a default value for each parameter. If an argument for a parameter is provided in the function call , Python uses the argumnet value. If not it uses the paramentes default value. Using default values can simplify your function calls and clarify the ways your functions are tyoically used."
   ]
  },
  {
   "cell_type": "code",
   "execution_count": 24,
   "id": "714866e1",
   "metadata": {},
   "outputs": [
    {
     "name": "stdout",
     "output_type": "stream",
     "text": [
      "\n",
      "I have a dog.\n",
      "My dog's name is Harry.'\n"
     ]
    }
   ],
   "source": [
    "def describePetpetName(petName, animalType = \"Hamster\" ):\n",
    "    \"\"\"Display information about a pet\"\"\"\n",
    "    print(f\"\\nI have a {animalType}.\")\n",
    "    print(f\"My {animalType}'s name is {petName.title()}.'\")\n",
    "describePet(petName  = \"harry\", animalType = \"dog\")"
   ]
  },
  {
   "cell_type": "code",
   "execution_count": 25,
   "id": "80a43934",
   "metadata": {},
   "outputs": [
    {
     "name": "stdout",
     "output_type": "stream",
     "text": [
      "\n",
      "I have a dog.\n",
      "My dog's name is Wille.'\n"
     ]
    }
   ],
   "source": [
    "def pets(petNames, animalType = \"dog\"):\n",
    "    print(f\"\\nI have a {animalType}.\")\n",
    "    print(f\"My {animalType}'s name is {petNames.title()}.'\")\n",
    "pets(petNames = \"Wille\")"
   ]
  },
  {
   "cell_type": "code",
   "execution_count": 26,
   "id": "206c5478",
   "metadata": {},
   "outputs": [],
   "source": [
    "# Equivalent Function calls"
   ]
  },
  {
   "cell_type": "markdown",
   "id": "77d26e38",
   "metadata": {},
   "source": [
    "# 8.3. T-shirt\n",
    "Write a function  called makeShirt() that accepts a size and the text of a message that sholud be printed on the shirt. The function should print a sentence summarizing the size of the shirt and the message printed on it.\n",
    "Call  the function once using positioibal argumnets to make a shirt. Call the function a second time using keyword arguments."
   ]
  },
  {
   "cell_type": "code",
   "execution_count": 27,
   "id": "cd90882b",
   "metadata": {},
   "outputs": [
    {
     "name": "stdout",
     "output_type": "stream",
     "text": [
      "My shirt size is 40 and please make sure that my shirt color blue or red.\n"
     ]
    }
   ],
   "source": [
    "def makeShirt(size , message):\n",
    "    print(f\"My shirt size is {size} and {message}\")\n",
    "makeShirt(40,\"please make sure that my shirt color blue or red.\")"
   ]
  },
  {
   "cell_type": "markdown",
   "id": "7a65ceff",
   "metadata": {},
   "source": [
    "# 8.4 . Large Shirts: \n",
    "Modify the makeShirt() function so that shirts are large by default with a message that reads I love Python. MAke a large shirt and a medium shirt the dafaukt message and a shirt of any size with a different message."
   ]
  },
  {
   "cell_type": "code",
   "execution_count": 28,
   "id": "b0fb4a13",
   "metadata": {},
   "outputs": [
    {
     "name": "stdout",
     "output_type": "stream",
     "text": [
      "My shirt size is 40 and i love python\n"
     ]
    }
   ],
   "source": [
    "def makeShirt(size , message = \"i love python\"):\n",
    "    print(f\"My shirt size is {size} and {message}\")\n",
    "makeShirt(40)"
   ]
  },
  {
   "cell_type": "markdown",
   "id": "3dc2ed83",
   "metadata": {},
   "source": [
    "# 8.5. Cities:\n",
    "Write a function called describeCity() that accepts the name of a city and its country. The function should print a simple sentece such as Reykhavik is in Iceland. Give the paramenter for the country a default value. CAll your function for three different cities at least one of which is not in the default country."
   ]
  },
  {
   "cell_type": "code",
   "execution_count": 29,
   "id": "f38f5daf",
   "metadata": {},
   "outputs": [
    {
     "name": "stdout",
     "output_type": "stream",
     "text": [
      "I live in Bangladesh. Name of it's city Dhaka\n"
     ]
    }
   ],
   "source": [
    "def describeCity(city,country):\n",
    "    print(f\"I live in {country.title()}. Name of it's city {city.title()}\")\n",
    "describeCity('Dhaka',\"bangladesh\")"
   ]
  },
  {
   "cell_type": "markdown",
   "id": "124dc4ac",
   "metadata": {},
   "source": [
    "# Return values\n",
    "A function doesnot always have to display its output directly. Instead it can process some data and then return a value or set of values. The value the function returns is called a return value. The return statement takes a value from inside a function and sends it back to the line that called the function. Return values allow you to move much of your programs grunt work into functions which can simplify the body of your program"
   ]
  },
  {
   "cell_type": "code",
   "execution_count": 33,
   "id": "74b87e85",
   "metadata": {},
   "outputs": [
    {
     "name": "stdout",
     "output_type": "stream",
     "text": [
      "subena khatun\n",
      "Subena Khatun\n"
     ]
    }
   ],
   "source": [
    "# Returning a Simple value\n",
    "def getFormattedName(fisrtName, lastName):\n",
    "    \"Return a full name , neatly formatted.\"\n",
    "    fullName = f\"{fisrtName} {lastName}\"\n",
    "    print(fullName)\n",
    "    return fullName.title()\n",
    "musician = getFormattedName(\"subena\",\"khatun\")\n",
    "print(musician)"
   ]
  },
  {
   "cell_type": "code",
   "execution_count": 36,
   "id": "0bcdc2d1",
   "metadata": {},
   "outputs": [
    {
     "name": "stdout",
     "output_type": "stream",
     "text": [
      "subena khatun. Mother of Dhoha.\n",
      "Subena Khatun. Mother Of Dhoha.\n"
     ]
    }
   ],
   "source": [
    "# Making an Argument Optional\n",
    "def getFormattedName(fisrtName,middleName, lastName):\n",
    "    \"Return a full name , neatly formatted.\"\n",
    "    fullName = f\"{fisrtName} {middleName} {lastName}\"\n",
    "    print(fullName)\n",
    "    return fullName.title()\n",
    "musician = getFormattedName(\"subena\",\"khatun.\",\"Mother of Dhoha.\")\n",
    "print(musician)"
   ]
  },
  {
   "cell_type": "code",
   "execution_count": 41,
   "id": "518947a9",
   "metadata": {},
   "outputs": [
    {
     "name": "stdout",
     "output_type": "stream",
     "text": [
      "Subena Khatun.\n",
      "Subena Mother Of Dhoha. Khatun.\n"
     ]
    }
   ],
   "source": [
    "def getFormattedName(fisrtName, lastName, middleName=\"\"):\n",
    "    \"Return a full name , neatly formatted.\"\n",
    "    if middleName:\n",
    "        fullName = f\"{fisrtName} {middleName} {lastName}\"\n",
    "    else:\n",
    "         fullName = f\"{fisrtName} {lastName}\"\n",
    "    return fullName.title()\n",
    "musician = getFormattedName(\"subena\",\"khatun.\")\n",
    "print(musician)\n",
    "musician = getFormattedName(\"subena\",\"khatun.\",\"Mother of Dhoha.\")\n",
    "print(musician)"
   ]
  },
  {
   "cell_type": "code",
   "execution_count": 43,
   "id": "08c6e310",
   "metadata": {},
   "outputs": [
    {
     "name": "stdout",
     "output_type": "stream",
     "text": [
      "{'first': 'Dhoha', 'Last': 'Subena'}\n"
     ]
    }
   ],
   "source": [
    "# Returing a Dictionary\n",
    "def buildPerson(fName,lName):\n",
    "    person = {\"first\":fName ,\"Last\":lName}\n",
    "    return person\n",
    "person = buildPerson(\"Dhoha\",\"Subena\")\n",
    "print(person)"
   ]
  },
  {
   "cell_type": "markdown",
   "id": "49d46070",
   "metadata": {},
   "source": [
    "* You can easily extend this function to accept optional values like a middle name, an age , an occupation or any other information you want to store about a person."
   ]
  },
  {
   "cell_type": "code",
   "execution_count": 44,
   "id": "ce3d5736",
   "metadata": {},
   "outputs": [
    {
     "name": "stdout",
     "output_type": "stream",
     "text": [
      "{'first': 'Dhoha', 'Last': 'Subena', 'age': 27}\n"
     ]
    }
   ],
   "source": [
    "def buildPerson(fName,lName, age = None):\n",
    "    person = {\"first\":fName ,\"Last\":lName}\n",
    "    if age:\n",
    "        person[\"age\"] = age\n",
    "    return person\n",
    "person = buildPerson(\"Dhoha\",\"Subena\", age = 27)\n",
    "print(person)"
   ]
  },
  {
   "cell_type": "code",
   "execution_count": 45,
   "id": "995299ab",
   "metadata": {},
   "outputs": [
    {
     "name": "stdout",
     "output_type": "stream",
     "text": [
      "\n",
      "Please tell me your name:\n",
      "(enter 'q' at any time to quit)\n",
      "First name: subena\n",
      "Lat name: khatun\n",
      "\n",
      "Please tell me your name:\n",
      "(enter 'q' at any time to quit)\n",
      "First name: subena\n",
      "Lat name: quite\n",
      "\n",
      "Please tell me your name:\n",
      "(enter 'q' at any time to quit)\n",
      "First name: q\n",
      "q quite\n",
      "Q Quite\n"
     ]
    }
   ],
   "source": [
    "def getFormattedName(fisrtName, lastName):\n",
    "    \"Return a full name , neatly formatted.\"\n",
    "    fullName = f\"{fisrtName} {lastName}\"\n",
    "    print(fullName)\n",
    "    return fullName.title()\n",
    "while True:\n",
    "    print(\"\\nPlease tell me your name:\")\n",
    "    print(\"(enter 'q' at any time to quit)\")\n",
    "    fisrtName = input(\"First name: \")\n",
    "    if fisrtName == 'q':\n",
    "        break\n",
    "    lastName = input(\"Lat name: \")\n",
    "    if lastName == 'q':\n",
    "        break\n",
    "musician = getFormattedName(fisrtName, lastName)\n",
    "print(musician)"
   ]
  },
  {
   "cell_type": "markdown",
   "id": "390c9a8f",
   "metadata": {},
   "source": [
    "# 8.6. City Names:\n",
    "Write a function called cityCountry() that takes in the name of a city and its country. The function should return a string formatted like this: \"Santiago, Chile\"\n",
    "call your function with at least three city country pairs and print the values that ar returned"
   ]
  },
  {
   "cell_type": "code",
   "execution_count": 46,
   "id": "695b5d4c",
   "metadata": {},
   "outputs": [
    {
     "name": "stdout",
     "output_type": "stream",
     "text": [
      "{'Dhaka': 'BAngladesh', 'Mumbai': 'India', 'none': 'none'}\n"
     ]
    }
   ],
   "source": [
    "def cityCountry(country1,country2,country3):\n",
    "    countryNAme = {\"Dhaka\": country1, \"Mumbai\":country2, \"none\": country3 }\n",
    "    return countryNAme\n",
    "citys = cityCountry(\"BAngladesh\",\"India\",\"none\")\n",
    "print(citys)"
   ]
  },
  {
   "cell_type": "markdown",
   "id": "a17c7067",
   "metadata": {},
   "source": [
    "# 8-7.Album:\n",
    "Write a function called makeAlbum() that builds a dictionary describeing a music album. The function should take in an artist name and an album title and it should return a dictionary containing these two pieces of information. Use the function to make three dictionaries representing different albums. Print each return value to show that the dictionaries are storing the album information correctly.\n",
    "Use None to add an optional parameter to makeAlbum() that allows you to store the number of songs on an album. If the calling line includes a value for the number of songs add that value to the album's dictionary. Make at least one new function call that includes the number of songs on an album."
   ]
  },
  {
   "cell_type": "code",
   "execution_count": 53,
   "id": "751c2bc0",
   "metadata": {},
   "outputs": [
    {
     "name": "stdout",
     "output_type": "stream",
     "text": [
      "{'name': 'subena', 'title': 'singer'}\n",
      "{'name': 'dhoha', 'title': 'writter'}\n"
     ]
    }
   ],
   "source": [
    "def makeAlbum(name, title):\n",
    "    albums = {\"name\": name, \"title\": title}\n",
    "    for key,value in albums.items():\n",
    "        return albums\n",
    "musicians = makeAlbum(\"subena\", \"singer\")\n",
    "print(musicians)\n",
    "musicians = makeAlbum(\"dhoha\", \"writter\")\n",
    "print(musicians)"
   ]
  },
  {
   "cell_type": "code",
   "execution_count": 54,
   "id": "cf34ecae",
   "metadata": {},
   "outputs": [
    {
     "name": "stdout",
     "output_type": "stream",
     "text": [
      "{'name': 'subena', 'title': 'singer', 'new': 89}\n",
      "{'name': 'dhoha', 'title': 'writter'}\n"
     ]
    }
   ],
   "source": [
    "def makeAlbum(name, title, new = None):\n",
    "    albums = {\"name\": name, \"title\": title}\n",
    "    if new:\n",
    "        albums[\"new\"] = new\n",
    "    return albums\n",
    "musicians = makeAlbum(\"subena\", \"singer\", new = 89)\n",
    "print(musicians)\n",
    "musicians = makeAlbum(\"dhoha\", \"writter\")\n",
    "print(musicians)"
   ]
  },
  {
   "cell_type": "markdown",
   "id": "035ad67c",
   "metadata": {},
   "source": [
    "# 8-8: User Album:\n",
    "start with your program from ex8.7. Write a while loop that allows users to enter an album's artits and title. Once you have that information call makeAlbum() with the users input and print the dictionary that's created. Be sure to include a quit value in the while loop."
   ]
  },
  {
   "cell_type": "code",
   "execution_count": 56,
   "id": "1c1379f7",
   "metadata": {},
   "outputs": [
    {
     "data": {
      "text/plain": [
       "'def makeAlbum(name, title, new = None):\\n    albums = {\"name\": name, \"title\": title}\\n    if new:\\n        albums[\"new\"] = new\\n    return albums\\nmusicians = makeAlbum(\"subena\", \"singer\", new = 89)\\nprint(musicians)\\nmusicians = makeAlbum(\"dhoha\", \"writter\")\\nprint(musicians)'"
      ]
     },
     "execution_count": 56,
     "metadata": {},
     "output_type": "execute_result"
    }
   ],
   "source": [
    "# try it as like practies quit function\n",
    "\"\"\"def makeAlbum(name, title, new = None):\n",
    "    albums = {\"name\": name, \"title\": title}\n",
    "    if new:\n",
    "        albums[\"new\"] = new\n",
    "    return albums\n",
    "musicians = makeAlbum(\"subena\", \"singer\", new = 89)\n",
    "print(musicians)\n",
    "musicians = makeAlbum(\"dhoha\", \"writter\")\n",
    "print(musicians)\"\"\""
   ]
  },
  {
   "cell_type": "markdown",
   "id": "d9a89efe",
   "metadata": {},
   "source": [
    "# Passing a list:\n",
    "you will often find it useful to pass a list to a function, wheather it's a list of names, numbers or more complex objects such as dictionaries. When you pass a list to a function the function gets direct access to the contents of the list. Let's use function to make working with lists more efficient."
   ]
  },
  {
   "cell_type": "code",
   "execution_count": 58,
   "id": "eff4ec2d",
   "metadata": {},
   "outputs": [
    {
     "name": "stdout",
     "output_type": "stream",
     "text": [
      "Hello, Subena!\n",
      "Hello, Khatun!\n",
      "Hello, Don'T Know!\n"
     ]
    }
   ],
   "source": [
    "def greetUsers(names):\n",
    "    for name in names:\n",
    "        msg = f\"Hello, {name.title()}!\"\n",
    "        print(msg)\n",
    "usernames = [\"subena\",\"khatun\",\"don't know\"]\n",
    "greetUsers(usernames)"
   ]
  },
  {
   "cell_type": "code",
   "execution_count": 63,
   "id": "b0778f3a",
   "metadata": {},
   "outputs": [
    {
     "name": "stdout",
     "output_type": "stream",
     "text": [
      "Printing model: dodecahedron\n",
      "Printing model: robot pandant\n",
      "Printing model: phone case\n",
      "\n",
      "The following models have been printed:\n",
      "dodecahedron\n",
      "robot pandant\n",
      "phone case\n"
     ]
    }
   ],
   "source": [
    "# Modifying a list in a function\n",
    "unprintedDesigns = [\"phone case\",\"robot pandant\",\"dodecahedron\"]\n",
    "completeModels = []\n",
    "# Simulate printing each design, until noe ar left\n",
    "# Move each design to completedModeks after printing\n",
    "while unprintedDesigns:\n",
    "    currentDesign = unprintedDesigns.pop()\n",
    "    print(f\"Printing model: {currentDesign}\")\n",
    "    completeModels.append(currentDesign)\n",
    "# Display all completed models.\n",
    "print(\"\\nThe following models have been printed:\")\n",
    "for completedModel in completeModels:\n",
    "    print(completedModel)"
   ]
  },
  {
   "cell_type": "code",
   "execution_count": 65,
   "id": "db853509",
   "metadata": {},
   "outputs": [
    {
     "name": "stdout",
     "output_type": "stream",
     "text": [
      "Printing model: dodecahedron\n",
      "Printing model: robot pandant\n",
      "Printing model: phone case\n"
     ]
    },
    {
     "ename": "TypeError",
     "evalue": "'list' object is not callable",
     "output_type": "error",
     "traceback": [
      "\u001b[1;31m---------------------------------------------------------------------------\u001b[0m",
      "\u001b[1;31mTypeError\u001b[0m                                 Traceback (most recent call last)",
      "Cell \u001b[1;32mIn[65], line 14\u001b[0m\n\u001b[0;32m     11\u001b[0m completeModels \u001b[38;5;241m=\u001b[39m []\n\u001b[0;32m     13\u001b[0m printModels(unprintedDesigns,completeModels)\n\u001b[1;32m---> 14\u001b[0m completeModels(completeModels)\n",
      "\u001b[1;31mTypeError\u001b[0m: 'list' object is not callable"
     ]
    }
   ],
   "source": [
    "def printModels(unprintedDesigns,completeModels):\n",
    "    while unprintedDesigns:\n",
    "        currentDesign = unprintedDesigns.pop()\n",
    "        print(f\"Printing model: {currentDesign}\")\n",
    "        completeModels.append(currentDesign)\n",
    "def completeModels(completeModels):\n",
    "    print(\"\\nThe following models have been printed:\")\n",
    "    for completedModel in completeModels:\n",
    "        print(completedModel)\n",
    "unprintedDesigns = [\"phone case\",\"robot pandant\",\"dodecahedron\"]\n",
    "completeModels = []\n",
    "\n",
    "printModels(unprintedDesigns,completeModels)\n",
    "completeModels(completeModels)"
   ]
  },
  {
   "cell_type": "code",
   "execution_count": null,
   "id": "ff33c220",
   "metadata": {},
   "outputs": [],
   "source": []
  },
  {
   "cell_type": "code",
   "execution_count": null,
   "id": "a8223beb",
   "metadata": {},
   "outputs": [],
   "source": []
  },
  {
   "cell_type": "code",
   "execution_count": null,
   "id": "8548432d",
   "metadata": {},
   "outputs": [],
   "source": []
  },
  {
   "cell_type": "code",
   "execution_count": null,
   "id": "b79ac1ef",
   "metadata": {},
   "outputs": [],
   "source": []
  },
  {
   "cell_type": "code",
   "execution_count": null,
   "id": "90685029",
   "metadata": {},
   "outputs": [],
   "source": []
  },
  {
   "cell_type": "code",
   "execution_count": null,
   "id": "bc0e9751",
   "metadata": {},
   "outputs": [],
   "source": []
  },
  {
   "cell_type": "code",
   "execution_count": null,
   "id": "f8938348",
   "metadata": {},
   "outputs": [],
   "source": []
  },
  {
   "cell_type": "code",
   "execution_count": null,
   "id": "414c6989",
   "metadata": {},
   "outputs": [],
   "source": []
  }
 ],
 "metadata": {
  "kernelspec": {
   "display_name": "Python 3 (ipykernel)",
   "language": "python",
   "name": "python3"
  },
  "language_info": {
   "codemirror_mode": {
    "name": "ipython",
    "version": 3
   },
   "file_extension": ".py",
   "mimetype": "text/x-python",
   "name": "python",
   "nbconvert_exporter": "python",
   "pygments_lexer": "ipython3",
   "version": "3.11.5"
  }
 },
 "nbformat": 4,
 "nbformat_minor": 5
}
