{
 "cells": [
  {
   "cell_type": "markdown",
   "id": "218fd9ba",
   "metadata": {},
   "source": [
    "# If Statement"
   ]
  },
  {
   "cell_type": "markdown",
   "id": "cef7b3e4",
   "metadata": {},
   "source": [
    "Imagine you have a list of cars and you want to print out the names of each car. Car names are proper names so the names of most cars should be printed in title case. However the vale \"bmw\" sholud be printed ai all uppercase. The following code loops through a list of car names and looks for the value \"bmw\" . Whenever the value is  printed in uppercase instead of title case"
   ]
  },
  {
   "cell_type": "code",
   "execution_count": 1,
   "id": "59771bb4",
   "metadata": {},
   "outputs": [
    {
     "name": "stdout",
     "output_type": "stream",
     "text": [
      "Audi\n",
      "BMW\n",
      "Subaru\n",
      "Toyota\n"
     ]
    }
   ],
   "source": [
    "cars = [\"audi\",\"bmw\",\"subaru\",\"toyota\"]\n",
    "for car in cars:\n",
    "    # print(car)\n",
    "    if car == 'bmw':\n",
    "        print(car.upper())\n",
    "    else:\n",
    "        print(car.title())"
   ]
  },
  {
   "cell_type": "code",
   "execution_count": 2,
   "id": "5e30f458",
   "metadata": {},
   "outputs": [
    {
     "data": {
      "text/plain": [
       "False"
      ]
     },
     "execution_count": 2,
     "metadata": {},
     "output_type": "execute_result"
    }
   ],
   "source": [
    "# Checking for Enquality\n",
    "car == \"bmw\""
   ]
  },
  {
   "cell_type": "code",
   "execution_count": 3,
   "id": "f298b0d2",
   "metadata": {},
   "outputs": [
    {
     "data": {
      "text/plain": [
       "False"
      ]
     },
     "execution_count": 3,
     "metadata": {},
     "output_type": "execute_result"
    }
   ],
   "source": [
    "cars == \"bmw\""
   ]
  },
  {
   "cell_type": "code",
   "execution_count": 4,
   "id": "ec05da69",
   "metadata": {},
   "outputs": [
    {
     "data": {
      "text/plain": [
       "True"
      ]
     },
     "execution_count": 4,
     "metadata": {},
     "output_type": "execute_result"
    }
   ],
   "source": [
    "car = \"Audi\"\n",
    "car.lower() == \"audi\""
   ]
  },
  {
   "cell_type": "code",
   "execution_count": 5,
   "id": "c9306fee",
   "metadata": {},
   "outputs": [
    {
     "name": "stdout",
     "output_type": "stream",
     "text": [
      "Hold the anchovies\n"
     ]
    }
   ],
   "source": [
    "# checking for inequality\n",
    "requestedTopping = \"mushrooms\"\n",
    "if requestedTopping != \"acchovis\":\n",
    "    print(\"Hold the anchovies\")\n",
    "else:\n",
    "    print(requestedTopping)"
   ]
  },
  {
   "cell_type": "code",
   "execution_count": 6,
   "id": "80026190",
   "metadata": {},
   "outputs": [
    {
     "data": {
      "text/plain": [
       "True"
      ]
     },
     "execution_count": 6,
     "metadata": {},
     "output_type": "execute_result"
    }
   ],
   "source": [
    "# Numericak Comparisons\n",
    "age = 30\n",
    "age == 30"
   ]
  },
  {
   "cell_type": "code",
   "execution_count": 7,
   "id": "5931c85d",
   "metadata": {},
   "outputs": [
    {
     "data": {
      "text/plain": [
       "False"
      ]
     },
     "execution_count": 7,
     "metadata": {},
     "output_type": "execute_result"
    }
   ],
   "source": [
    "age != 30"
   ]
  },
  {
   "cell_type": "markdown",
   "id": "e76bfadc",
   "metadata": {},
   "source": [
    "you can test to see if two numbers are not equal . For example, the following code prints a message if the giveb answer is not correct."
   ]
  },
  {
   "cell_type": "code",
   "execution_count": 8,
   "id": "1c33f4a1",
   "metadata": {},
   "outputs": [
    {
     "name": "stdout",
     "output_type": "stream",
     "text": [
      "That is not the correct answer. Please try again!\n"
     ]
    }
   ],
   "source": [
    "age = 30\n",
    "if age != 42:\n",
    "    print(\"That is not the correct answer. Please try again!\")"
   ]
  },
  {
   "cell_type": "markdown",
   "id": "3d70f477",
   "metadata": {},
   "source": [
    "# Checking multiple conditions\n",
    "To check wheather two conditions are both True simultaneously, use the key-word and to combine the two conditions test if each test passes the overall expression evalutes to True. If either test fails or if both tests fails the expression evalutes to False:"
   ]
  },
  {
   "cell_type": "code",
   "execution_count": 9,
   "id": "9f10a15e",
   "metadata": {},
   "outputs": [
    {
     "data": {
      "text/plain": [
       "True"
      ]
     },
     "execution_count": 9,
     "metadata": {},
     "output_type": "execute_result"
    }
   ],
   "source": [
    "age1 = 30\n",
    "age2 = 35\n",
    "age1 >= 29 and age2 >= 21"
   ]
  },
  {
   "cell_type": "code",
   "execution_count": 10,
   "id": "fd41e38e",
   "metadata": {},
   "outputs": [
    {
     "data": {
      "text/plain": [
       "True"
      ]
     },
     "execution_count": 10,
     "metadata": {},
     "output_type": "execute_result"
    }
   ],
   "source": [
    "# Checking a whether a value is in a list\n",
    "lists = [2,4,7,8,9]\n",
    "4 in lists"
   ]
  },
  {
   "cell_type": "code",
   "execution_count": 11,
   "id": "3ea37a2a",
   "metadata": {},
   "outputs": [
    {
     "name": "stdout",
     "output_type": "stream",
     "text": [
      "please insert correct value\n"
     ]
    }
   ],
   "source": [
    "if 1 not in lists:\n",
    "    print(\"please insert correct value\")"
   ]
  },
  {
   "cell_type": "code",
   "execution_count": 12,
   "id": "91cec7a7",
   "metadata": {},
   "outputs": [],
   "source": [
    "# Boolean expressions\n",
    "gameActive = True\n",
    "gameEdit = False"
   ]
  },
  {
   "cell_type": "markdown",
   "id": "3839fdf8",
   "metadata": {},
   "source": [
    "# If statement"
   ]
  },
  {
   "cell_type": "markdown",
   "id": "d3db365b",
   "metadata": {},
   "source": [
    "# simple if statement\n",
    "if condition:\n",
    "    do something"
   ]
  },
  {
   "cell_type": "code",
   "execution_count": 13,
   "id": "201f0d81",
   "metadata": {},
   "outputs": [
    {
     "name": "stdout",
     "output_type": "stream",
     "text": [
      "you are old enough to vote!\n"
     ]
    }
   ],
   "source": [
    "age = 30 \n",
    "if age >= 18:\n",
    "    print(\"you are old enough to vote!\")"
   ]
  },
  {
   "cell_type": "code",
   "execution_count": 14,
   "id": "9a4f6091",
   "metadata": {},
   "outputs": [
    {
     "name": "stdout",
     "output_type": "stream",
     "text": [
      "Sorry, you are too young to vote\n",
      "Please register to vote as soon as you turn 18!\n"
     ]
    }
   ],
   "source": [
    "# if-else statement\n",
    "age = 17\n",
    "if age >= 18:\n",
    "    print(\"you are old enough to vote!\")\n",
    "    print(\"Have you registered to vote yet?\")\n",
    "else:\n",
    "    print(\"Sorry, you are too young to vote\")\n",
    "    print(\"Please register to vote as soon as you turn 18!\")"
   ]
  },
  {
   "cell_type": "markdown",
   "id": "c231eabd",
   "metadata": {},
   "source": [
    "# if-elif-else chain\n",
    "* Admission for anyone under age 4 is free\n",
    "* Admission for anyone between the gaes of 4 and 18 is $25\n",
    "* Admission for anyone is age 18 or older is $40. "
   ]
  },
  {
   "cell_type": "code",
   "execution_count": 15,
   "id": "7b1f00c9",
   "metadata": {},
   "outputs": [
    {
     "name": "stdout",
     "output_type": "stream",
     "text": [
      "Enter a age number: \n"
     ]
    },
    {
     "ename": "ValueError",
     "evalue": "invalid literal for int() with base 10: ''",
     "output_type": "error",
     "traceback": [
      "\u001b[1;31m---------------------------------------------------------------------------\u001b[0m",
      "\u001b[1;31mValueError\u001b[0m                                Traceback (most recent call last)",
      "Cell \u001b[1;32mIn[15], line 1\u001b[0m\n\u001b[1;32m----> 1\u001b[0m age \u001b[38;5;241m=\u001b[39m \u001b[38;5;28mint\u001b[39m(\u001b[38;5;28minput\u001b[39m(\u001b[38;5;124m\"\u001b[39m\u001b[38;5;124mEnter a age number: \u001b[39m\u001b[38;5;124m\"\u001b[39m))\n\u001b[0;32m      2\u001b[0m \u001b[38;5;28;01mif\u001b[39;00m age \u001b[38;5;241m<\u001b[39m \u001b[38;5;241m4\u001b[39m:\n\u001b[0;32m      3\u001b[0m     \u001b[38;5;28mprint\u001b[39m(\u001b[38;5;124m\"\u001b[39m\u001b[38;5;124mYour admission cost is free\u001b[39m\u001b[38;5;124m\"\u001b[39m)\n",
      "\u001b[1;31mValueError\u001b[0m: invalid literal for int() with base 10: ''"
     ]
    }
   ],
   "source": [
    "age = int(input(\"Enter a age number: \"))\n",
    "if age < 4:\n",
    "    print(\"Your admission cost is free\")\n",
    "elif age <= 18:\n",
    "    print(\"Your admission cost is $25\")\n",
    "else:\n",
    "    print(\"Your admission cost is $40\") "
   ]
  },
  {
   "cell_type": "code",
   "execution_count": 16,
   "id": "b3fbe0f0",
   "metadata": {},
   "outputs": [
    {
     "name": "stdout",
     "output_type": "stream",
     "text": [
      "Your admission cose is $25\n"
     ]
    }
   ],
   "source": [
    "age = 12\n",
    "if age < 4:\n",
    "    price = 0\n",
    "elif age <18:\n",
    "    price = 25\n",
    "else: \n",
    "    price = 40\n",
    "print(f\"Your admission cose is ${price}\")"
   ]
  },
  {
   "cell_type": "code",
   "execution_count": 17,
   "id": "ed8c3415",
   "metadata": {},
   "outputs": [
    {
     "name": "stdout",
     "output_type": "stream",
     "text": [
      "Enter any number of age: \n"
     ]
    },
    {
     "ename": "ValueError",
     "evalue": "invalid literal for int() with base 10: ''",
     "output_type": "error",
     "traceback": [
      "\u001b[1;31m---------------------------------------------------------------------------\u001b[0m",
      "\u001b[1;31mValueError\u001b[0m                                Traceback (most recent call last)",
      "Cell \u001b[1;32mIn[17], line 2\u001b[0m\n\u001b[0;32m      1\u001b[0m \u001b[38;5;66;03m# Using multiple ilif blocks\u001b[39;00m\n\u001b[1;32m----> 2\u001b[0m age \u001b[38;5;241m=\u001b[39m \u001b[38;5;28mint\u001b[39m(\u001b[38;5;28minput\u001b[39m(\u001b[38;5;124m\"\u001b[39m\u001b[38;5;124mEnter any number of age: \u001b[39m\u001b[38;5;124m\"\u001b[39m))\n\u001b[0;32m      3\u001b[0m \u001b[38;5;28;01mif\u001b[39;00m age \u001b[38;5;241m<\u001b[39m \u001b[38;5;241m4\u001b[39m:\n\u001b[0;32m      4\u001b[0m     price \u001b[38;5;241m=\u001b[39m \u001b[38;5;241m10\u001b[39m\n",
      "\u001b[1;31mValueError\u001b[0m: invalid literal for int() with base 10: ''"
     ]
    }
   ],
   "source": [
    "# Using multiple ilif blocks\n",
    "age = int(input(\"Enter any number of age: \"))\n",
    "if age < 4:\n",
    "    price = 10\n",
    "elif age < 18:\n",
    "    price = 25\n",
    "elif age < 25:\n",
    "    price = 40\n",
    "elif age < 30:\n",
    "    price = 50\n",
    "elif age < 35:\n",
    "    price = 60\n",
    "else: \n",
    "    price = 100\n",
    "print(f\"Your admission cose is ${price}\")"
   ]
  },
  {
   "cell_type": "code",
   "execution_count": 18,
   "id": "c0a84641",
   "metadata": {},
   "outputs": [
    {
     "name": "stdout",
     "output_type": "stream",
     "text": [
      "Adding mushrooms\n",
      "\n",
      " Finished making your pizza! \n"
     ]
    }
   ],
   "source": [
    "ingridients = [\"mushrooms\",\"pepperoni\",\"extra cheese\"]\n",
    "if \"mushrooms\" in ingridients:\n",
    "    print(\"Adding mushrooms\")\n",
    "elif \"pepperoni\" in ingridients:\n",
    "    print(\"Adding pepperoni\")\n",
    "elif \"extra cheese\" in ingridients:\n",
    "    print(\"Adding extra cheese\")\n",
    "print(\"\\n Finished making your pizza! \")"
   ]
  },
  {
   "cell_type": "code",
   "execution_count": 20,
   "id": "cbb7fd9e",
   "metadata": {},
   "outputs": [
    {
     "name": "stdout",
     "output_type": "stream",
     "text": [
      "Adding mushrooms\n",
      "Sorry, we don't have french fries\n",
      "Adding extra cheese\n",
      "\n",
      "Finished making your pizza!\n"
     ]
    }
   ],
   "source": [
    "# Using Muliple Lists\n",
    "ingridients = [\"mushrooms\",\"pepperoni\",\"extra cheese\",\"Olives\",\"Green peppers\",\"pineapple\"]\n",
    "requestedIngridients = [\"mushrooms\",\"french fries\",\"extra cheese\"]\n",
    "for requestedIngridient in requestedIngridients:\n",
    "    if requestedIngridient in ingridients:\n",
    "        print(f\"Adding {requestedIngridient}\")\n",
    "    else:\n",
    "        print(f\"Sorry, we don't have {requestedIngridient}\")\n",
    "print(\"\\nFinished making your pizza!\")"
   ]
  },
  {
   "cell_type": "markdown",
   "id": "6b5148ac",
   "metadata": {},
   "source": [
    "# 5-1: Conditional Tests:\n",
    "Write a series of conditional tests. Print a statement describing each test and prediction for the results of each test. Your code should look something like this.\n",
    "car = \"subaru\"\n",
    "print(\"Is car == 'subaru'? T predict True\")\n",
    "print(car == 'subaru')\n",
    "\n",
    "print(\"\\nIs car == 'audi'? I predict False\")\n",
    "print(car == 'audi')\n",
    "* llok closely at results and make sure you understand why each line evaluates to True or False\n",
    "* Create at least 10 tests . HAve at least 5 tests evaluate to True and another 5 tests evaluate to False."
   ]
  },
  {
   "cell_type": "code",
   "execution_count": 22,
   "id": "92b53a5a",
   "metadata": {},
   "outputs": [
    {
     "name": "stdout",
     "output_type": "stream",
     "text": [
      "car = Lamborghini Sian Roadster I predict False\n",
      "car = Pagani Huayra BC Roadster I predict False\n",
      "car = McLaren Speedtail I predict False\n",
      "car = Aston Martin Valkyrie I predict False\n",
      "car = Hennessey Venom GT I predict False\n",
      "car = Koenigsegg Jesko Absolut I predict False\n",
      "car = audi I predict True\n",
      "car = subaru I predict False\n",
      "car = audi I predict True\n",
      "car = audi I predict True\n"
     ]
    }
   ],
   "source": [
    "cars = [\"Lamborghini Sian Roadster\",\"Pagani Huayra BC Roadster\",\"McLaren Speedtail\",\"Aston Martin Valkyrie\",\n",
    "        \"Hennessey Venom GT\",\"Koenigsegg Jesko Absolut\",\"audi\",\"subaru\",\"audi\",\"audi\",]\n",
    "for car in cars:\n",
    "    if car == \"audi\":\n",
    "        print(f\"car = {car} I predict\", True)\n",
    "    else:\n",
    "        print(f\"car = {car} I predict\", False)"
   ]
  },
  {
   "cell_type": "markdown",
   "id": "b21c9c3f",
   "metadata": {},
   "source": [
    "# 5-2: More Conditional Tests: \n",
    "you don't have to limit the number of tests yoy create to 10. If you want to try more comparisions, write more tests and add them to conditional tests.py. Have at teast one true and one False result for each of the following:\n",
    "* Tests for equality and inequality with strings.\n",
    "* Tests using te lower() method\n",
    "* Numerical tests involving equality and inequality greater than and less than greater than or equal to and less than or equal to\n",
    "* Tests using the and keyword and the or  keyword\n",
    "* Test wether an item is in a list\n",
    "* Test wheather an item is not in a list"
   ]
  },
  {
   "cell_type": "code",
   "execution_count": 24,
   "id": "251874ef",
   "metadata": {},
   "outputs": [
    {
     "data": {
      "text/plain": [
       "True"
      ]
     },
     "execution_count": 24,
     "metadata": {},
     "output_type": "execute_result"
    }
   ],
   "source": [
    "checkStr = \"Subena\"\n",
    "\"Subena\" in checkStr"
   ]
  },
  {
   "cell_type": "code",
   "execution_count": 25,
   "id": "b6392a67",
   "metadata": {},
   "outputs": [
    {
     "data": {
      "text/plain": [
       "False"
      ]
     },
     "execution_count": 25,
     "metadata": {},
     "output_type": "execute_result"
    }
   ],
   "source": [
    "checkStr != \"Subena\""
   ]
  },
  {
   "cell_type": "code",
   "execution_count": 26,
   "id": "3fdde024",
   "metadata": {},
   "outputs": [
    {
     "data": {
      "text/plain": [
       "'subena'"
      ]
     },
     "execution_count": 26,
     "metadata": {},
     "output_type": "execute_result"
    }
   ],
   "source": [
    "checkStr.lower()"
   ]
  },
  {
   "cell_type": "code",
   "execution_count": 28,
   "id": "62e3c8eb",
   "metadata": {},
   "outputs": [
    {
     "name": "stdout",
     "output_type": "stream",
     "text": [
      "False\n"
     ]
    }
   ],
   "source": [
    "# Numerical tests involving equality and inequality greater than and less than greater than or equal to and less than or equal to\n",
    "numbers = 17\n",
    "print(numbers > 17)"
   ]
  },
  {
   "cell_type": "code",
   "execution_count": 30,
   "id": "e1d8de46",
   "metadata": {},
   "outputs": [
    {
     "data": {
      "text/plain": [
       "False"
      ]
     },
     "execution_count": 30,
     "metadata": {},
     "output_type": "execute_result"
    }
   ],
   "source": [
    "numbers < 17"
   ]
  },
  {
   "cell_type": "code",
   "execution_count": 31,
   "id": "19f25169",
   "metadata": {},
   "outputs": [
    {
     "data": {
      "text/plain": [
       "True"
      ]
     },
     "execution_count": 31,
     "metadata": {},
     "output_type": "execute_result"
    }
   ],
   "source": [
    "numbers == 17"
   ]
  },
  {
   "cell_type": "code",
   "execution_count": 33,
   "id": "95933db1",
   "metadata": {},
   "outputs": [
    {
     "data": {
      "text/plain": [
       "False"
      ]
     },
     "execution_count": 33,
     "metadata": {},
     "output_type": "execute_result"
    }
   ],
   "source": [
    "numbers != 17"
   ]
  },
  {
   "cell_type": "code",
   "execution_count": 34,
   "id": "4ad92249",
   "metadata": {},
   "outputs": [
    {
     "data": {
      "text/plain": [
       "True"
      ]
     },
     "execution_count": 34,
     "metadata": {},
     "output_type": "execute_result"
    }
   ],
   "source": [
    "numbers >= 17"
   ]
  },
  {
   "cell_type": "code",
   "execution_count": 35,
   "id": "933e7f9c",
   "metadata": {},
   "outputs": [
    {
     "data": {
      "text/plain": [
       "True"
      ]
     },
     "execution_count": 35,
     "metadata": {},
     "output_type": "execute_result"
    }
   ],
   "source": [
    "numbers <=17"
   ]
  },
  {
   "cell_type": "markdown",
   "id": "392ac569",
   "metadata": {},
   "source": [
    "# 5-3: Alien Colors 1:\n",
    "Imagine an alien was hust shot down in a game. create a varaible called alienColor and assign it a value of 'green', 'yellow' or \"red\" .\n",
    "* write an if statement to test wheather the alien's color is green. If it is print a message that the player just earned 5 points.\n",
    "* write one version of this program that passes the if test and another that fails. ) The version that fails have no output)"
   ]
  },
  {
   "cell_type": "code",
   "execution_count": 36,
   "id": "7f1787e3",
   "metadata": {},
   "outputs": [
    {
     "name": "stdout",
     "output_type": "stream",
     "text": [
      "The player just earned 5 points.\n",
      "\n",
      "\n"
     ]
    }
   ],
   "source": [
    "alienColors = [\"green\",\"yellow\",\"red\"]\n",
    "for alienColor in alienColors:\n",
    "    if alienColor == \"green\":\n",
    "        print(\"The player just earned 5 points.\")\n",
    "    else:\n",
    "        print()\n"
   ]
  },
  {
   "cell_type": "markdown",
   "id": "ed18e785",
   "metadata": {},
   "source": [
    "# 5-4: Alien colors 2: \n",
    "choose a color for an alien as you did in 5-3 and write an if-else chain\n",
    "* If the alien's color is green print a statement that the player just earned 5 points for shooting the alien.\n",
    "* If the alien's color isn't green, print a statement that the player just earned 10 points.\n",
    "* Write one version of this program that runs the if block and another that runs the else block."
   ]
  },
  {
   "cell_type": "code",
   "execution_count": 37,
   "id": "76555676",
   "metadata": {},
   "outputs": [
    {
     "name": "stdout",
     "output_type": "stream",
     "text": [
      "The player just earned 5 points.\n",
      "The player just earned 10 points.\n",
      "The player just earned 10 points.\n"
     ]
    }
   ],
   "source": [
    "alienColors = [\"green\",\"yellow\",\"red\"]\n",
    "for alienColor in alienColors:\n",
    "    if alienColor == \"green\":\n",
    "        print(\"The player just earned 5 points.\")\n",
    "    elif alienColor != \"green\":\n",
    "        print(\"The player just earned 10 points.\")\n",
    "    else:\n",
    "        print()"
   ]
  },
  {
   "cell_type": "markdown",
   "id": "ffb00ad6",
   "metadata": {},
   "source": [
    "# 5-5: Aliend color 3: \n",
    "turn your if-else chain from exercise 5-4 into an if-elif-else chain\n",
    "* If the alien is green, print a message that the player earned 5 points\n",
    "* If the alien ids yellow, print a message that the player earned 10 points\n",
    "* If the alien is red print a message that the player earned 15 points\n",
    "* Write three versions of this program making sure each message is printed foir the appropiate color alien."
   ]
  },
  {
   "cell_type": "code",
   "execution_count": 38,
   "id": "0b278284",
   "metadata": {},
   "outputs": [
    {
     "name": "stdout",
     "output_type": "stream",
     "text": [
      "The player just earned 5 points.\n",
      "The player just earned 10 points.\n",
      "The player just earned 15 points.\n"
     ]
    }
   ],
   "source": [
    "alienColors = [\"green\",\"yellow\",\"red\"]\n",
    "for alienColor in alienColors:\n",
    "    if alienColor == \"green\":\n",
    "        print(\"The player just earned 5 points.\")\n",
    "    elif alienColor == \"yellow\":\n",
    "        print(\"The player just earned 10 points.\")\n",
    "    elif alienColor == \"red\":\n",
    "        print(\"The player just earned 15 points.\")"
   ]
  },
  {
   "cell_type": "code",
   "execution_count": 39,
   "id": "afc138ad",
   "metadata": {},
   "outputs": [
    {
     "name": "stdout",
     "output_type": "stream",
     "text": [
      "The player just earned 15 points.\n"
     ]
    }
   ],
   "source": [
    "alienColors = [\"green\",\"yellow\",\"red\"]\n",
    "if alienColor == \"green\" in alienColors:\n",
    "     print(\"The player just earned 5 points.\")\n",
    "elif alienColor == \"yellow\" in alienColors:\n",
    "     print(\"The player just earned 10 points.\") \n",
    "elif alienColor == \"red\" in alienColors:\n",
    "    print(\"The player just earned 15 points.\")"
   ]
  },
  {
   "cell_type": "markdown",
   "id": "43ddb21a",
   "metadata": {},
   "source": [
    "# 5-6 Stages of life:\n",
    "Write an if-elif-else chain that determines a person's stage of life . Set a value for the variable age and then\n",
    "* IF the person is less than 2 years old, print a message that the person' is a baby\n",
    "* If the person is at least 2 years old but less than 4 print a message that the person is a toddler\n",
    "* If the person is at least 4 years old but less than 13, print a message that the person is a kid\n",
    "* If the person is at least 20 years old but less than 65, print a message that the person is an adult\n",
    "* If the person is age 65 or older print a message the person is an elder."
   ]
  },
  {
   "cell_type": "code",
   "execution_count": 42,
   "id": "0201c542",
   "metadata": {},
   "outputs": [
    {
     "name": "stdout",
     "output_type": "stream",
     "text": [
      "Enter a number of age: 40\n",
      "The person is a an adult.\n"
     ]
    }
   ],
   "source": [
    "personAge = int(input(\"Enter a number of age: \"))\n",
    "if personAge < 2:\n",
    "    print(\"The person's is a baby\")\n",
    "elif personAge <= 2 or personAge < 4:\n",
    "    print(\"The person is a Toddler.\")\n",
    "elif personAge <= 4 or personAge < 13:\n",
    "    print(\"The person is a Kid.\")\n",
    "elif personAge <= 20 or personAge < 65:\n",
    "    print(\"The person is a an adult.\")\n",
    "else:\n",
    "    print(\"The person is an elder.\")"
   ]
  },
  {
   "cell_type": "markdown",
   "id": "3d870153",
   "metadata": {},
   "source": [
    "# 5-7: Favorit Fruit: \n",
    "Make a list of your favourite fruits and then write a series of independent if statement taht check for certain fruits in your list.\n",
    "* Make a list of your three favourite fruits and call it favouriteFruits.\n",
    "* Write five if statemenet . Each should check whether a certain kind of fruit is in your list. If the fruit is in your list, the if block should print a statement, such as you really like bananas!"
   ]
  },
  {
   "cell_type": "code",
   "execution_count": 43,
   "id": "6a921751",
   "metadata": {},
   "outputs": [
    {
     "name": "stdout",
     "output_type": "stream",
     "text": [
      "I really like Bananas.\n"
     ]
    }
   ],
   "source": [
    "favouritFruits = [\"Bananas\",\"Watermelons\",\"Avocadoes\"]\n",
    "if \"Bananas\" in favouritFruits:\n",
    "    print(\"I really like Bananas.\")\n",
    "elif \"Watermelons\" in favouritFruits:\n",
    "    print(\"I really like Watermelons.\")\n",
    "elif \"Avocadoes\" in favouritFruits:\n",
    "    print(\"I really like Avocadoes.\")\n",
    "elif \"Mangoes\" in favouritFruits:\n",
    "    print(\"I really like MAngoes\")\n",
    "else:\n",
    "    print(\"I really like Apples.\")"
   ]
  },
  {
   "cell_type": "code",
   "execution_count": 44,
   "id": "0792204b",
   "metadata": {},
   "outputs": [
    {
     "name": "stdout",
     "output_type": "stream",
     "text": [
      "I really like Bananas.\n",
      "I really like Watermelons.\n",
      "I really like Avocadoes.\n"
     ]
    }
   ],
   "source": [
    "favouritFruits = [\"Bananas\",\"Watermelons\",\"Avocadoes\"]\n",
    "for favouritFruit in favouritFruits:\n",
    "    if \"Bananas\" in favouritFruit:\n",
    "        print(\"I really like Bananas.\")\n",
    "    elif \"Watermelons\" in favouritFruit:\n",
    "        print(\"I really like Watermelons.\")\n",
    "    elif \"Avocadoes\" in favouritFruit:\n",
    "        print(\"I really like Avocadoes.\")\n",
    "    elif \"Mangoes\" in favouritFruit:\n",
    "        print(\"I really like MAngoes\")\n",
    "    else:\n",
    "        print(\"I really like Apples.\")\n",
    "    "
   ]
  },
  {
   "cell_type": "markdown",
   "id": "2a729b2b",
   "metadata": {},
   "source": [
    "# 5-8: Hello Admin:\n",
    "Make a list of five or more username including the name \"admin\" . Imagine you are writting code that will print a greeting to each user after thy log in to a website. loop throuth the list and print a greeting to each user.\n",
    "* If the username is \"admin\" print a special greeting such as Hello admin, would you like to see a status report?\n",
    "* Otherwise print a generic greeting. such as Hello Jadan, thank you for logging in again"
   ]
  },
  {
   "cell_type": "code",
   "execution_count": 47,
   "id": "c6b7063a",
   "metadata": {},
   "outputs": [
    {
     "name": "stdout",
     "output_type": "stream",
     "text": [
      "Hello Jadan, thank you for logging in again\n"
     ]
    }
   ],
   "source": [
    "userNames = [\"Subena\", \"Duha\", \"Shafali\", \"Maisha\", \"Admin\"]\n",
    "for userName in userNames:\n",
    "    if userName == \"admin\":\n",
    "        print(\"Hello admin, would you like to see a status report\")\n",
    "print(\"Hello Jadan, thank you for logging in again\")\n"
   ]
  },
  {
   "cell_type": "markdown",
   "id": "abd12781",
   "metadata": {},
   "source": [
    "# 5-9: No users:\n",
    "Add an if else test to make sure the list of users is not empty.\n",
    "* If the list is empty print the message We need to find some users!\n",
    "* Remove all of the usernames from your list and make sure the correct ,essage is printed."
   ]
  },
  {
   "cell_type": "code",
   "execution_count": 48,
   "id": "2c14ddc5",
   "metadata": {},
   "outputs": [
    {
     "ename": "SyntaxError",
     "evalue": "invalid syntax (101375880.py, line 2)",
     "output_type": "error",
     "traceback": [
      "\u001b[1;36m  Cell \u001b[1;32mIn[48], line 2\u001b[1;36m\u001b[0m\n\u001b[1;33m    userNemes != []:\u001b[0m\n\u001b[1;37m                   ^\u001b[0m\n\u001b[1;31mSyntaxError\u001b[0m\u001b[1;31m:\u001b[0m invalid syntax\n"
     ]
    }
   ],
   "source": [
    "userNames = [\"Subena\", \"Duha\", \"Shafali\", \"Maisha\", \"Admin\"]\n",
    "userNemes != []:\n",
    "    print(userNames)"
   ]
  },
  {
   "cell_type": "markdown",
   "id": "83a74907",
   "metadata": {},
   "source": [
    "# 5-10: Checking Username:\n",
    "Do the following to create a program that simulates how websites ensure that everyone has a unique username.\n",
    "* Make a list of five or more usernames called currentUsers.\n",
    "* Make another list of five usernames called newUsers. Make sure one or two of the new usernames are also in the currentUsers list.\n",
    "* Loop through the newUsers list to see if each new username has already been used. If it has printa message that the person will need to enter a new musername. If a username has not been used print a message saying that the username is avaiable\n",
    "* Make sure your comparison is case insensitive. If \"John\" has been used \"JOHN\" should not be accepted. ( To do this, you will need to make a copy of currentUsers containg the lowercase versions of all existing users.)"
   ]
  },
  {
   "cell_type": "code",
   "execution_count": 53,
   "id": "63356e81",
   "metadata": {},
   "outputs": [
    {
     "name": "stdout",
     "output_type": "stream",
     "text": [
      "username is avaiable\n",
      "username is avaiable\n",
      "username is avaiable\n",
      "username is avaiable\n",
      "username has already been used\n"
     ]
    }
   ],
   "source": [
    "currentUsers = [\"subena\", \"Duha\", \"Shafali\", \"Maisha\", \"Admin\"]\n",
    "newUsers = [\"popy\", \"pinky\",\"rumi\",\"farzana\",\"subena\"]\n",
    "for newuser in newUsers:\n",
    "    if newuser in currentUsers:\n",
    "        print(\"username has already been used\")\n",
    "    else:\n",
    "        print(\"username is avaiable\")\n",
    "        "
   ]
  },
  {
   "cell_type": "markdown",
   "id": "bd26ecec",
   "metadata": {},
   "source": [
    "# 5-11: Ordinal Numbers:\n",
    "Ordinal numbers indicate their postion in a list, such as 1st or 2nd. Most ordinal numbers and in the except 1,2 and 3\n",
    "* Store the numbers 1 through 9 in a list\n",
    "* Loop through th list\n",
    "* Use an if-elif-else chain inside the loop to print the proper ordinal ending for each number. Your output should read \"\"1st 2nd 3rd 4th 6th 7th 8th 9th\", and each result be one a separate line."
   ]
  },
  {
   "cell_type": "code",
   "execution_count": 56,
   "id": "d92a5078",
   "metadata": {},
   "outputs": [
    {
     "name": "stdout",
     "output_type": "stream",
     "text": [
      "[1, 2, 3, 4, 5, 6, 7, 8, 9]\n"
     ]
    }
   ],
   "source": [
    "ordinalNumbers = list(range(1,10))\n",
    "print(ordinalNumbers)"
   ]
  },
  {
   "cell_type": "code",
   "execution_count": 57,
   "id": "e3282825",
   "metadata": {},
   "outputs": [
    {
     "name": "stdout",
     "output_type": "stream",
     "text": [
      "1\n",
      "2\n",
      "3\n",
      "4\n",
      "5\n",
      "6\n",
      "7\n",
      "8\n",
      "9\n"
     ]
    }
   ],
   "source": [
    "for ordinal in ordinalNumbers:\n",
    "    print(ordinal)"
   ]
  },
  {
   "cell_type": "code",
   "execution_count": null,
   "id": "0d672d15",
   "metadata": {},
   "outputs": [],
   "source": []
  }
 ],
 "metadata": {
  "kernelspec": {
   "display_name": "Python 3 (ipykernel)",
   "language": "python",
   "name": "python3"
  },
  "language_info": {
   "codemirror_mode": {
    "name": "ipython",
    "version": 3
   },
   "file_extension": ".py",
   "mimetype": "text/x-python",
   "name": "python",
   "nbconvert_exporter": "python",
   "pygments_lexer": "ipython3",
   "version": "3.11.5"
  }
 },
 "nbformat": 4,
 "nbformat_minor": 5
}
