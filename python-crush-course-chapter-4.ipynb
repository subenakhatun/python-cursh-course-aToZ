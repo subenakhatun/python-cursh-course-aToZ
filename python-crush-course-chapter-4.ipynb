{
 "cells": [
  {
   "cell_type": "markdown",
   "id": "27a45ded",
   "metadata": {},
   "source": [
    "# Working With LIsts"
   ]
  },
  {
   "cell_type": "code",
   "execution_count": 1,
   "id": "c0021269",
   "metadata": {},
   "outputs": [
    {
     "name": "stdout",
     "output_type": "stream",
     "text": [
      "Subena\n",
      "Duha\n",
      "Tarikul\n"
     ]
    }
   ],
   "source": [
    "# Looping through an entire list:\n",
    "# When you want to do the same action with every item in a list , you can use python's for loop\n",
    "\n",
    "magicians = [\"Subena\",\"Duha\",\"Tarikul\"]\n",
    "for magician in magicians:\n",
    "    print(magician)"
   ]
  },
  {
   "cell_type": "code",
   "execution_count": 2,
   "id": "013ddd39",
   "metadata": {},
   "outputs": [
    {
     "ename": "SyntaxError",
     "evalue": "incomplete input (2061840122.py, line 2)",
     "output_type": "error",
     "traceback": [
      "\u001b[1;36m  Cell \u001b[1;32mIn[2], line 2\u001b[1;36m\u001b[0m\n\u001b[1;33m    for magician in magicians:\u001b[0m\n\u001b[1;37m                              ^\u001b[0m\n\u001b[1;31mSyntaxError\u001b[0m\u001b[1;31m:\u001b[0m incomplete input\n"
     ]
    }
   ],
   "source": [
    "# A closer look at looping\n",
    "for magician in magicians:"
   ]
  },
  {
   "cell_type": "markdown",
   "id": "3194ad4d",
   "metadata": {},
   "source": [
    "* for cat in cats:\n",
    "* for dog in dogs:\n",
    "* for item in listOfItems:\n",
    "* These naming convention"
   ]
  },
  {
   "cell_type": "code",
   "execution_count": 3,
   "id": "4be5704d",
   "metadata": {},
   "outputs": [
    {
     "name": "stdout",
     "output_type": "stream",
     "text": [
      "Subena , That was a great trick!\n",
      "Duha , That was a great trick!\n",
      "Tarikul , That was a great trick!\n"
     ]
    }
   ],
   "source": [
    "# Doing more work with a forr lopp\n",
    "magicians = [\"Subena\",\"Duha\",\"Tarikul\"]\n",
    "for magician in magicians:\n",
    "    print(f\"{magician} , That was a great trick!\")"
   ]
  },
  {
   "cell_type": "code",
   "execution_count": 4,
   "id": "3fb5fbb5",
   "metadata": {},
   "outputs": [
    {
     "name": "stdout",
     "output_type": "stream",
     "text": [
      "Subena , That was a great trick!\n",
      "I can't wait to see your next trick, Subena\n",
      "Duha , That was a great trick!\n",
      "I can't wait to see your next trick, Duha\n",
      "Tarikul , That was a great trick!\n",
      "I can't wait to see your next trick, Tarikul\n"
     ]
    }
   ],
   "source": [
    "magicians = [\"Subena\",\"Duha\",\"Tarikul\"]\n",
    "for magician in magicians:\n",
    "    print(f\"{magician} , That was a great trick!\")\n",
    "    print(f\"I can't wait to see your next trick, {magician.title()}\")"
   ]
  },
  {
   "cell_type": "code",
   "execution_count": 5,
   "id": "61284616",
   "metadata": {},
   "outputs": [
    {
     "name": "stdout",
     "output_type": "stream",
     "text": [
      "Subena , That was a great trick!\n",
      "Duha , That was a great trick!\n",
      "Tarikul , That was a great trick!\n",
      "I can't wait to see your next trick, Tarikul\n"
     ]
    }
   ],
   "source": [
    "# Doing something after a for loop\n",
    "magicians = [\"Subena\",\"Duha\",\"Tarikul\"]\n",
    "for magician in magicians:\n",
    "    print(f\"{magician} , That was a great trick!\")\n",
    "print(f\"I can't wait to see your next trick, {magician.title()}\")"
   ]
  },
  {
   "cell_type": "markdown",
   "id": "0f508a2c",
   "metadata": {},
   "source": [
    "# 4-1: Pizzas:\n",
    "Think of at least three kinds of your favourite pizza. Store these pizza names in a list, and then use a for loop to print the name of each pizza.\n",
    "* Modify your loop to print a sentence using the name of the pizza, insteat of printing just the name of the pizza . For each pizza , you shilud have one line of output containing a simple statement like I like peperoni pizza.\n",
    "* Add a line at the end of your program, outside the for loop, that states how much you like pizza. The output should consist of three or more lines about the kinds of pizza you like and then an additional sentence, such as I really love pizza!"
   ]
  },
  {
   "cell_type": "code",
   "execution_count": 6,
   "id": "5247ac30",
   "metadata": {},
   "outputs": [
    {
     "name": "stdout",
     "output_type": "stream",
     "text": [
      "Margherita\n",
      "Pepperoni\n",
      "Hawaiian\n"
     ]
    }
   ],
   "source": [
    "pizzas = [\"Margherita\",\"Pepperoni\",\"Hawaiian\"]\n",
    "for pizza in pizzas:\n",
    "    print(pizza)"
   ]
  },
  {
   "cell_type": "code",
   "execution_count": 7,
   "id": "e16ae2fb",
   "metadata": {},
   "outputs": [
    {
     "name": "stdout",
     "output_type": "stream",
     "text": [
      "I like Margherita\n",
      "I like Pepperoni\n",
      "I like Hawaiian\n"
     ]
    }
   ],
   "source": [
    "pizzas = [\"Margherita\",\"Pepperoni\",\"Hawaiian\"]\n",
    "for pizza in pizzas:\n",
    "    print(f\"I like {pizza.title()}\")"
   ]
  },
  {
   "cell_type": "code",
   "execution_count": 8,
   "id": "7597e08d",
   "metadata": {},
   "outputs": [
    {
     "name": "stdout",
     "output_type": "stream",
     "text": [
      "I like Margherita\n",
      "I like Pepperoni\n",
      "I like Hawaiian\n",
      "I really love Pepperoni Pizza\n"
     ]
    }
   ],
   "source": [
    "pizzas = [\"Margherita\",\"Pepperoni\",\"Hawaiian\"]\n",
    "for pizza in pizzas:\n",
    "    print(f\"I like {pizza.title()}\")\n",
    "print(f\"I really love {pizzas[1].title()} Pizza\")"
   ]
  },
  {
   "cell_type": "markdown",
   "id": "3706c7ec",
   "metadata": {},
   "source": [
    "# 4-2: Animals:\n",
    "Think of at least three different animals that have a common characteristic. Store the names of these animals in a list, and then use a for loop to print out the name of each animal.\n",
    "* Modify your program to print a sttatement about each animal, such as A dog would make a great pet.\n",
    "* Add a line at the ned of your program, stating what these animals have in common. You could print a sentence, such as any of these animals would make a great pet!"
   ]
  },
  {
   "cell_type": "code",
   "execution_count": 9,
   "id": "1f1ded6a",
   "metadata": {},
   "outputs": [
    {
     "name": "stdout",
     "output_type": "stream",
     "text": [
      "Donkey\n",
      "Polar bear\n",
      "Rabbit\n"
     ]
    }
   ],
   "source": [
    "animals = [\"Donkey\",\"Polar bear\",\"Rabbit\"]\n",
    "for animal in animals:\n",
    "    print(animal)"
   ]
  },
  {
   "cell_type": "code",
   "execution_count": 10,
   "id": "7529cdda",
   "metadata": {},
   "outputs": [
    {
     "name": "stdout",
     "output_type": "stream",
     "text": [
      "A Donkey would make a grat pet.\n",
      "A Polar Bear would make a grat pet.\n",
      "A Rabbit would make a grat pet.\n"
     ]
    }
   ],
   "source": [
    "animals = [\"Donkey\",\"Polar bear\",\"Rabbit\"]\n",
    "for animal in animals:\n",
    "    print(f\"A {animal.title()} would make a grat pet.\")"
   ]
  },
  {
   "cell_type": "code",
   "execution_count": 11,
   "id": "9c052ec6",
   "metadata": {},
   "outputs": [
    {
     "name": "stdout",
     "output_type": "stream",
     "text": [
      "A Donkey would make a grat pet.\n",
      "A Polar Bear would make a grat pet.\n",
      "A Rabbit would make a grat pet.\n",
      "ALL of them are great pet\n"
     ]
    }
   ],
   "source": [
    "animals = [\"Donkey\",\"Polar bear\",\"Rabbit\"]\n",
    "for animal in animals:\n",
    "    print(f\"A {animal.title()} would make a grat pet.\")\n",
    "print(f\"ALL of them are great pet\")"
   ]
  },
  {
   "cell_type": "markdown",
   "id": "f3cf2a7a",
   "metadata": {},
   "source": [
    "# Making Numerical list"
   ]
  },
  {
   "cell_type": "code",
   "execution_count": 12,
   "id": "0bc4e5b1",
   "metadata": {},
   "outputs": [
    {
     "name": "stdout",
     "output_type": "stream",
     "text": [
      "1\n",
      "2\n",
      "3\n",
      "4\n",
      "5\n",
      "6\n",
      "7\n",
      "8\n",
      "9\n"
     ]
    }
   ],
   "source": [
    "# Using the rang() function\n",
    "# this range output will be 1-9\n",
    "for value in range(1,10):\n",
    "    print(value)"
   ]
  },
  {
   "cell_type": "code",
   "execution_count": 13,
   "id": "eb8f6019",
   "metadata": {},
   "outputs": [
    {
     "name": "stdout",
     "output_type": "stream",
     "text": [
      "[2, 5, 8, 11, 14]\n"
     ]
    }
   ],
   "source": [
    "# Using range() to make a list of numbers\n",
    "numbers = list(range(2,15,3))\n",
    "print(numbers)"
   ]
  },
  {
   "cell_type": "code",
   "execution_count": 14,
   "id": "7f07c005",
   "metadata": {},
   "outputs": [
    {
     "name": "stdout",
     "output_type": "stream",
     "text": [
      "[2, 4, 6, 8, 10, 12, 14]\n"
     ]
    }
   ],
   "source": [
    "# range start from 2 and end 15 but every step jum 2\n",
    "numbers = list(range(2,15,2))\n",
    "print(numbers)"
   ]
  },
  {
   "cell_type": "code",
   "execution_count": 15,
   "id": "03c3a614",
   "metadata": {},
   "outputs": [
    {
     "name": "stdout",
     "output_type": "stream",
     "text": [
      "[5, 8, 11, 14]\n"
     ]
    }
   ],
   "source": [
    "numbers = list(range(5,15,3))\n",
    "print(numbers)"
   ]
  },
  {
   "cell_type": "code",
   "execution_count": 16,
   "id": "59c16573",
   "metadata": {},
   "outputs": [
    {
     "data": {
      "text/plain": [
       "15"
      ]
     },
     "execution_count": 16,
     "metadata": {},
     "output_type": "execute_result"
    }
   ],
   "source": [
    "# Simple statistics with a list of numbers\n",
    "numbers = list(range(1,6))\n",
    "sum(numbers)"
   ]
  },
  {
   "cell_type": "code",
   "execution_count": 17,
   "id": "9cbf0e69",
   "metadata": {},
   "outputs": [
    {
     "data": {
      "text/plain": [
       "5"
      ]
     },
     "execution_count": 17,
     "metadata": {},
     "output_type": "execute_result"
    }
   ],
   "source": [
    "max(numbers)"
   ]
  },
  {
   "cell_type": "code",
   "execution_count": 18,
   "id": "88b939f0",
   "metadata": {},
   "outputs": [
    {
     "data": {
      "text/plain": [
       "1"
      ]
     },
     "execution_count": 18,
     "metadata": {},
     "output_type": "execute_result"
    }
   ],
   "source": [
    "min(numbers)"
   ]
  },
  {
   "cell_type": "code",
   "execution_count": 19,
   "id": "315423ff",
   "metadata": {},
   "outputs": [
    {
     "name": "stdout",
     "output_type": "stream",
     "text": [
      "[1, 4, 9, 16, 25]\n"
     ]
    }
   ],
   "source": [
    "# List Comprehensions\n",
    "# A list comprehension allows you to generate this smae list in just one line of code.\n",
    "numbers = [number**2 for number in range(1,6)]\n",
    "print(numbers)"
   ]
  },
  {
   "cell_type": "markdown",
   "id": "cc57671a",
   "metadata": {},
   "source": [
    "# 4-3. Counting to Twenty:\n",
    "Use a for lopp to print the numbes from 1 to 20 inclusive.\n",
    "# 4-4. One Million:\n",
    "Make a list of the numbes from one to one million and then use a for loop to print the numbes. (If the output is taking too long, stop it by pressing CTR-C or by closing the output window)\n",
    "# 4-5. Summing a Million:\n",
    "Make a list of the numbers from one to one million and then use min() and max() to make sure that your list actually starts at one and ends at one million. Also use the sum() function to see how quickly python can add a million numbers.\n",
    "# 4-6. Odd Numbers:\n",
    "Use the third arument of the range() function to make a list of the odd numbers from 1 to 20 . Use a fro loop to print each number.\n",
    "# 4-7. Three\n",
    "Make a list of the multiples of 3 from 3 to 30 . Use a for loop to print the numbers in your list\n",
    "# 4-8.Cubes:\n",
    "A number raised to the third power is called a cube. for example, the cube of 2 is written 2**3 in Python. Mke a list  of the first 10 cubes that ise the cube of each integer from 1 through 10 and use a fro loop to print out the value of each cube.\n",
    "# 4-9. Cube Comprehensjion:\n",
    "Use a list comprehension to generate a list of the first 10 cubes"
   ]
  },
  {
   "cell_type": "code",
   "execution_count": 20,
   "id": "c7e4e37f",
   "metadata": {},
   "outputs": [
    {
     "name": "stdout",
     "output_type": "stream",
     "text": [
      "1\n",
      "2\n",
      "3\n",
      "4\n",
      "5\n",
      "6\n",
      "7\n",
      "8\n",
      "9\n",
      "10\n",
      "11\n",
      "12\n",
      "13\n",
      "14\n",
      "15\n",
      "16\n",
      "17\n",
      "18\n",
      "19\n",
      "20\n"
     ]
    }
   ],
   "source": [
    "# 4-3. Counting to Twenty\n",
    "values = list(range(1,21))\n",
    "for value in values:\n",
    "    print(value)"
   ]
  },
  {
   "cell_type": "code",
   "execution_count": 21,
   "id": "0a80d176",
   "metadata": {},
   "outputs": [],
   "source": [
    "#4-4. One Million:\n",
    "#for value in range(1,1000001):\n",
    "    #print(value)"
   ]
  },
  {
   "cell_type": "code",
   "execution_count": 22,
   "id": "13ae2473",
   "metadata": {},
   "outputs": [
    {
     "name": "stdout",
     "output_type": "stream",
     "text": [
      "1\n"
     ]
    }
   ],
   "source": [
    "#4-5. Summing a Million:\n",
    "num = list(range(1, 1000001))\n",
    "print(min(num))"
   ]
  },
  {
   "cell_type": "code",
   "execution_count": 23,
   "id": "a225cf15",
   "metadata": {},
   "outputs": [
    {
     "name": "stdout",
     "output_type": "stream",
     "text": [
      "500000500000\n"
     ]
    }
   ],
   "source": [
    "num1 = list(range(1, 1000001))\n",
    "print(sum(num1))"
   ]
  },
  {
   "cell_type": "code",
   "execution_count": 24,
   "id": "476f49b9",
   "metadata": {},
   "outputs": [
    {
     "name": "stdout",
     "output_type": "stream",
     "text": [
      "1000000\n"
     ]
    }
   ],
   "source": [
    "num = list(range(1, 1000001))\n",
    "print(max(num))"
   ]
  },
  {
   "cell_type": "code",
   "execution_count": 25,
   "id": "c53d3819",
   "metadata": {},
   "outputs": [
    {
     "name": "stdout",
     "output_type": "stream",
     "text": [
      "500000500000\n"
     ]
    }
   ],
   "source": [
    "num = list(range(1, 1000001))\n",
    "print(sum(num))\n",
    "# how can i solve this problem?"
   ]
  },
  {
   "cell_type": "code",
   "execution_count": 26,
   "id": "e04f54d0",
   "metadata": {},
   "outputs": [
    {
     "name": "stdout",
     "output_type": "stream",
     "text": [
      "[1, 3, 5, 7, 9, 11, 13, 15, 17, 19]\n"
     ]
    }
   ],
   "source": [
    "#4-6. Odd Numbers:\n",
    "numbers = list(range(1,20,2))\n",
    "print(numbers)"
   ]
  },
  {
   "cell_type": "code",
   "execution_count": 27,
   "id": "1c094703",
   "metadata": {},
   "outputs": [
    {
     "name": "stdout",
     "output_type": "stream",
     "text": [
      "3\n",
      "6\n",
      "9\n",
      "12\n",
      "15\n",
      "18\n",
      "21\n",
      "24\n",
      "27\n"
     ]
    }
   ],
   "source": [
    "#4-7. Three\n",
    "numbers = list(range(3,30))\n",
    "for num in numbers:\n",
    "    if num % 3 == 0:\n",
    "        print(num)"
   ]
  },
  {
   "cell_type": "code",
   "execution_count": 28,
   "id": "0ad28978",
   "metadata": {},
   "outputs": [
    {
     "name": "stdout",
     "output_type": "stream",
     "text": [
      "[1, 8, 27, 64, 125, 216, 343, 512, 729]\n"
     ]
    }
   ],
   "source": [
    "#4-8.Cubes\n",
    "# Make another list for answer\n",
    "numbers = list(range(1,10))\n",
    "newNumber = []\n",
    "for num in numbers:\n",
    "    newNumber.append(num**3)\n",
    "print(newNumber)\n",
    "    "
   ]
  },
  {
   "cell_type": "code",
   "execution_count": 29,
   "id": "10c78fc3",
   "metadata": {},
   "outputs": [
    {
     "name": "stdout",
     "output_type": "stream",
     "text": [
      "[1, 8, 27, 64, 125, 216, 343, 512, 729]\n"
     ]
    }
   ],
   "source": [
    "# 4-9. Cube Comprehensjion:\n",
    "numbers = [num**3 for num in range(1,10)]\n",
    "print(numbers)"
   ]
  },
  {
   "cell_type": "markdown",
   "id": "a6841e59",
   "metadata": {},
   "source": [
    "# Working with Part of a list"
   ]
  },
  {
   "cell_type": "code",
   "execution_count": 30,
   "id": "4052b671",
   "metadata": {},
   "outputs": [
    {
     "name": "stdout",
     "output_type": "stream",
     "text": [
      "['midul', 'maisha', 'subena', 'tanisha', 'duha']\n"
     ]
    }
   ],
   "source": [
    "# Slicing a list \n",
    "#  to make a slice you specify the index of the first and last elements you want to work with. \n",
    "players = ['midul','maisha','subena','tanisha','duha']\n",
    "print(players)"
   ]
  },
  {
   "cell_type": "code",
   "execution_count": 31,
   "id": "b595880f",
   "metadata": {},
   "outputs": [
    {
     "name": "stdout",
     "output_type": "stream",
     "text": [
      "['maisha', 'subena']\n"
     ]
    }
   ],
   "source": [
    "print(players[1:3])"
   ]
  },
  {
   "cell_type": "code",
   "execution_count": 32,
   "id": "e3cbef9c",
   "metadata": {},
   "outputs": [
    {
     "name": "stdout",
     "output_type": "stream",
     "text": [
      "['midul', 'maisha', 'subena', 'tanisha']\n"
     ]
    }
   ],
   "source": [
    "# 0 to 3 posotion values\n",
    "print(players[:4])"
   ]
  },
  {
   "cell_type": "code",
   "execution_count": 33,
   "id": "f462930d",
   "metadata": {},
   "outputs": [
    {
     "name": "stdout",
     "output_type": "stream",
     "text": [
      "['subena', 'tanisha', 'duha']\n"
     ]
    }
   ],
   "source": [
    "print(players[2:])"
   ]
  },
  {
   "cell_type": "code",
   "execution_count": 34,
   "id": "35e34c08",
   "metadata": {},
   "outputs": [
    {
     "name": "stdout",
     "output_type": "stream",
     "text": [
      "['subena', 'tanisha', 'duha']\n"
     ]
    }
   ],
   "source": [
    "print(players[-3:])"
   ]
  },
  {
   "cell_type": "code",
   "execution_count": 35,
   "id": "e9fdd71c",
   "metadata": {},
   "outputs": [
    {
     "name": "stdout",
     "output_type": "stream",
     "text": [
      "['midul', 'maisha']\n"
     ]
    }
   ],
   "source": [
    "print(players[:-3])"
   ]
  },
  {
   "cell_type": "code",
   "execution_count": 36,
   "id": "26c1be0e",
   "metadata": {},
   "outputs": [
    {
     "name": "stdout",
     "output_type": "stream",
     "text": [
      "Midul\n",
      "Maisha\n",
      "Subena\n"
     ]
    }
   ],
   "source": [
    "# Looping through a slices\n",
    "players = ['midul','maisha','subena','tanisha','duha']\n",
    "for player in players[:3]:\n",
    "    print(player.title())"
   ]
  },
  {
   "cell_type": "code",
   "execution_count": 37,
   "id": "a6556684",
   "metadata": {},
   "outputs": [
    {
     "name": "stdout",
     "output_type": "stream",
     "text": [
      "['Tengra', 'alor dom', 'cake', 'banana', 'cha']\n"
     ]
    }
   ],
   "source": [
    "# Coping a list\n",
    "# To copy a list you can make  a slice that includes the entire original list \n",
    "# by omitting the first index and the second index([:])\n",
    "myFood = [\"Tengra\",\"alor dom\",\"cake\",\"banana\",\"cha\"]\n",
    "newFood = myFood[:]\n",
    "print(newFood)"
   ]
  },
  {
   "cell_type": "code",
   "execution_count": 38,
   "id": "b825728a",
   "metadata": {},
   "outputs": [
    {
     "name": "stdout",
     "output_type": "stream",
     "text": [
      "['Tengra', 'alor dom', 'cake', 'banana', 'cha', 'ice cream']\n"
     ]
    }
   ],
   "source": [
    "newFood.append(\"ice cream\")\n",
    "print(newFood)"
   ]
  },
  {
   "cell_type": "code",
   "execution_count": 39,
   "id": "e6308af8",
   "metadata": {},
   "outputs": [
    {
     "name": "stdout",
     "output_type": "stream",
     "text": [
      "['Tengra', 'alor dom', 'cake', 'banana', 'cha']\n"
     ]
    }
   ],
   "source": [
    "print(myFood)"
   ]
  },
  {
   "cell_type": "markdown",
   "id": "c290d5a9",
   "metadata": {},
   "source": [
    "# 4-10: Slices\n",
    "Using one of the programs you wrote in this chapter add several lines to the end of the program that do the following:\n",
    "* Print the message The first three items in the list are: Then use a slice to print the first three items from that program's list.\n",
    "* Print the message Three items from the middle of the list are: Then use a slice to print three iteams from the middle of the list\n",
    "* Print the message The last three items in the list are: Then use a slice to print the last three items in the list.\n",
    "\n",
    "# 4-11. My Pizzas, Your pizzas:\n",
    "Start withyour program from exercise 4-1. Make a copy of the list of pizzas and call it friendPizzas. Then do the following: \n",
    "* Add a new pizza to the original list.\n",
    "* Add a different pizza to the list friend_pizzas.\n",
    "* Prove that you have a two sepearte list. Print the message My favortie pizzas are and then use a for loop to print the first list. Print the message My friends favourite pizzas are and then use a for loop to print the second list. Make sure each new pizza is stored in the appropriate list.\n",
    "# 4-12: Moore loops: \n",
    "All versions of food.py in this secion have avoided using for loops when printing to save space. Choose a version of foods.py and write two for loops to print each list of foods."
   ]
  },
  {
   "cell_type": "code",
   "execution_count": 40,
   "id": "dde2a10e",
   "metadata": {},
   "outputs": [
    {
     "name": "stdout",
     "output_type": "stream",
     "text": [
      "Gorilla\n",
      "Wild Boar\t\n",
      "Crocodile\n",
      "Monkey\n",
      "Hippopotamus\n",
      "Rhinoceros\n",
      "Crocodile\n",
      "Panda\n"
     ]
    }
   ],
   "source": [
    "# 4-10: Slices\n",
    "animals = [\"Gorilla\",\"Wild Boar\t\",\"Crocodile\",\"Monkey\",\"Hippopotamus\",\"Rhinoceros\",\"Crocodile\",\"Panda\"]\n",
    "for animal in animals:\n",
    "    print(animal)"
   ]
  },
  {
   "cell_type": "code",
   "execution_count": 46,
   "id": "633e64e7",
   "metadata": {},
   "outputs": [
    {
     "name": "stdout",
     "output_type": "stream",
     "text": [
      "The first three animals are: ['Gorilla', 'Wild Boar', 'Crocodile']\n"
     ]
    }
   ],
   "source": [
    "animals = [\"Gorilla\",\"Wild Boar\",\"Crocodile\",\"Monkey\",\"Hippopotamus\",\"Rhinoceros\",\"Crocodile\",\"Panda\"]\n",
    "# print(animals[:3])\n",
    "print(\"The first three animals are:\", animals[:3])"
   ]
  },
  {
   "cell_type": "code",
   "execution_count": 47,
   "id": "326643eb",
   "metadata": {},
   "outputs": [
    {
     "name": "stdout",
     "output_type": "stream",
     "text": [
      "The Last three animals are: ['Rhinoceros', 'Crocodile', 'Panda']\n"
     ]
    }
   ],
   "source": [
    "print(\"The Last three animals are:\", animals[-3:])"
   ]
  },
  {
   "cell_type": "code",
   "execution_count": 49,
   "id": "98a1ce97",
   "metadata": {},
   "outputs": [
    {
     "name": "stdout",
     "output_type": "stream",
     "text": [
      "The Middle three animals are: Crocodile\n"
     ]
    }
   ],
   "source": [
    "print(\"The Middle three animals are:\", animals[2])"
   ]
  },
  {
   "cell_type": "code",
   "execution_count": 50,
   "id": "21446d3b",
   "metadata": {},
   "outputs": [],
   "source": [
    "# 4-11. My Pizzas, Your pizzas:\n",
    "pizzas = [\"Margherita\",\"Pepperoni\",\"Hawaiian\"]"
   ]
  },
  {
   "cell_type": "code",
   "execution_count": 52,
   "id": "de5a3009",
   "metadata": {},
   "outputs": [
    {
     "name": "stdout",
     "output_type": "stream",
     "text": [
      "['Margherita', 'Pepperoni', 'Hawaiian']\n"
     ]
    }
   ],
   "source": [
    "nnwPizzas = pizzas[:]\n",
    "print(nnwPizzas)"
   ]
  },
  {
   "cell_type": "code",
   "execution_count": 54,
   "id": "3748c12d",
   "metadata": {},
   "outputs": [
    {
     "name": "stdout",
     "output_type": "stream",
     "text": [
      "['Margherita', 'Pepperoni', 'Hawaiian', 'sarda']\n"
     ]
    }
   ],
   "source": [
    "nnwPizzas.append(\"sarda\")\n",
    "print(nnwPizzas)"
   ]
  },
  {
   "cell_type": "code",
   "execution_count": 56,
   "id": "9a75edf9",
   "metadata": {},
   "outputs": [
    {
     "name": "stdout",
     "output_type": "stream",
     "text": [
      "My favourite pizzas are:  ['Margherita', 'Pepperoni', 'Hawaiian', 'sarda']\n",
      "My firends favourite Pizzas are: ['Margherita', 'Pepperoni', 'Hawaiian']\n"
     ]
    }
   ],
   "source": [
    "print(\"My favourite pizzas are: \", nnwPizzas )\n",
    "print(\"My firends favourite Pizzas are:\", pizzas)"
   ]
  },
  {
   "cell_type": "markdown",
   "id": "f4ae0b7c",
   "metadata": {},
   "source": [
    "# Tuples \n",
    "Lists work well for sorting collections of items that can change throught the life of a program. The ability to modify lists is particularly important when your are working with a list of users on a website or a list of characters in a game. Sometimes you'll want to create a list of iteams that cannot change. Tuples alllow you to do just that. Pthon refers to values that cannot changes as immutable and immutable list is called a tuple."
   ]
  },
  {
   "cell_type": "code",
   "execution_count": 57,
   "id": "7b1f78a8",
   "metadata": {},
   "outputs": [
    {
     "name": "stdout",
     "output_type": "stream",
     "text": [
      "30\n"
     ]
    }
   ],
   "source": [
    "# Defining a Tuple:\n",
    "tupls = (30,10)\n",
    "print(tupls[0])"
   ]
  },
  {
   "cell_type": "markdown",
   "id": "258d1759",
   "metadata": {},
   "source": [
    "# 4-13: Buffet: \n",
    "A buffet-style restaurent offers only five basic foods. Think of five simple foods and store them in a tuple.\n",
    "* Use a for loop to print each food the restaureant offers.\n",
    "* Try to modify one of the items and make sure that python rejects the change.\n",
    "* The restaurenat its manue replacing two of the items with different foods. Add a line that rewrites the tuple and then use a for loop to print each of the items on the revised menu."
   ]
  },
  {
   "cell_type": "code",
   "execution_count": 58,
   "id": "b6ceaf9a",
   "metadata": {},
   "outputs": [
    {
     "name": "stdout",
     "output_type": "stream",
     "text": [
      "Fingerfood\n",
      "Vegetables\n",
      "Meat\n",
      "Supplement\n",
      "Pizza\n"
     ]
    }
   ],
   "source": [
    "buffets = (\"Fingerfood\",\"Vegetables\",\"Meat\",\"Supplement\",\"Pizza\")\n",
    "for buffet in buffets:\n",
    "    print(buffet.title())"
   ]
  },
  {
   "cell_type": "code",
   "execution_count": 59,
   "id": "e7e06f80",
   "metadata": {},
   "outputs": [
    {
     "ename": "TypeError",
     "evalue": "'tuple' object does not support item assignment",
     "output_type": "error",
     "traceback": [
      "\u001b[1;31m---------------------------------------------------------------------------\u001b[0m",
      "\u001b[1;31mTypeError\u001b[0m                                 Traceback (most recent call last)",
      "Cell \u001b[1;32mIn[59], line 1\u001b[0m\n\u001b[1;32m----> 1\u001b[0m buffets[\u001b[38;5;241m1\u001b[39m] \u001b[38;5;241m=\u001b[39m \u001b[38;5;124m\"\u001b[39m\u001b[38;5;124mBaking \u001b[39m\u001b[38;5;124m\"\u001b[39m\n\u001b[0;32m      2\u001b[0m \u001b[38;5;28mprint\u001b[39m(buffets)\n",
      "\u001b[1;31mTypeError\u001b[0m: 'tuple' object does not support item assignment"
     ]
    }
   ],
   "source": [
    "buffets[1] = \"Baking \"\n",
    "print(buffets)"
   ]
  },
  {
   "cell_type": "code",
   "execution_count": 60,
   "id": "91ebe727",
   "metadata": {},
   "outputs": [
    {
     "name": "stdout",
     "output_type": "stream",
     "text": [
      "Baking\n",
      "Vegetables\n",
      "Sweets\n",
      "Supplement\n",
      "Pizza\n"
     ]
    }
   ],
   "source": [
    "newBuffets = (\"Baking\",\"Vegetables\",\"Sweets\",\"Supplement\",\"Pizza\")\n",
    "for newbf in newBuffets:\n",
    "    print(newbf)"
   ]
  },
  {
   "cell_type": "code",
   "execution_count": null,
   "id": "4e563656",
   "metadata": {},
   "outputs": [],
   "source": []
  },
  {
   "cell_type": "code",
   "execution_count": null,
   "id": "79a9032c",
   "metadata": {},
   "outputs": [],
   "source": []
  },
  {
   "cell_type": "code",
   "execution_count": null,
   "id": "8e0a7903",
   "metadata": {},
   "outputs": [],
   "source": []
  },
  {
   "cell_type": "code",
   "execution_count": null,
   "id": "0542a542",
   "metadata": {},
   "outputs": [],
   "source": []
  },
  {
   "cell_type": "code",
   "execution_count": null,
   "id": "14199aa5",
   "metadata": {},
   "outputs": [],
   "source": []
  },
  {
   "cell_type": "code",
   "execution_count": null,
   "id": "15840dfa",
   "metadata": {},
   "outputs": [],
   "source": []
  },
  {
   "cell_type": "code",
   "execution_count": null,
   "id": "31c10942",
   "metadata": {},
   "outputs": [],
   "source": []
  },
  {
   "cell_type": "code",
   "execution_count": null,
   "id": "52432f2f",
   "metadata": {},
   "outputs": [],
   "source": []
  },
  {
   "cell_type": "code",
   "execution_count": null,
   "id": "14feaa7e",
   "metadata": {},
   "outputs": [],
   "source": []
  },
  {
   "cell_type": "code",
   "execution_count": null,
   "id": "0ade99d6",
   "metadata": {},
   "outputs": [],
   "source": []
  },
  {
   "cell_type": "code",
   "execution_count": null,
   "id": "3d824ec7",
   "metadata": {},
   "outputs": [],
   "source": []
  },
  {
   "cell_type": "code",
   "execution_count": null,
   "id": "8dad98b2",
   "metadata": {},
   "outputs": [],
   "source": []
  },
  {
   "cell_type": "code",
   "execution_count": null,
   "id": "0b097ef7",
   "metadata": {},
   "outputs": [],
   "source": []
  },
  {
   "cell_type": "code",
   "execution_count": null,
   "id": "5959fd86",
   "metadata": {},
   "outputs": [],
   "source": []
  },
  {
   "cell_type": "code",
   "execution_count": null,
   "id": "f1db3fe1",
   "metadata": {},
   "outputs": [],
   "source": []
  },
  {
   "cell_type": "code",
   "execution_count": null,
   "id": "3476543f",
   "metadata": {},
   "outputs": [],
   "source": []
  },
  {
   "cell_type": "code",
   "execution_count": null,
   "id": "7479e4ec",
   "metadata": {},
   "outputs": [],
   "source": []
  },
  {
   "cell_type": "code",
   "execution_count": null,
   "id": "a71b547c",
   "metadata": {},
   "outputs": [],
   "source": []
  },
  {
   "cell_type": "code",
   "execution_count": null,
   "id": "c6a5522e",
   "metadata": {},
   "outputs": [],
   "source": []
  },
  {
   "cell_type": "code",
   "execution_count": null,
   "id": "27a8e0d8",
   "metadata": {},
   "outputs": [],
   "source": []
  },
  {
   "cell_type": "code",
   "execution_count": null,
   "id": "cc246ebb",
   "metadata": {},
   "outputs": [],
   "source": []
  },
  {
   "cell_type": "code",
   "execution_count": null,
   "id": "8d1767bb",
   "metadata": {},
   "outputs": [],
   "source": []
  },
  {
   "cell_type": "code",
   "execution_count": null,
   "id": "1bbe1b66",
   "metadata": {},
   "outputs": [],
   "source": []
  },
  {
   "cell_type": "code",
   "execution_count": null,
   "id": "621525f6",
   "metadata": {},
   "outputs": [],
   "source": []
  },
  {
   "cell_type": "code",
   "execution_count": null,
   "id": "e0c9023d",
   "metadata": {},
   "outputs": [],
   "source": []
  },
  {
   "cell_type": "code",
   "execution_count": null,
   "id": "0d608aa9",
   "metadata": {},
   "outputs": [],
   "source": []
  },
  {
   "cell_type": "code",
   "execution_count": null,
   "id": "cc3c5e04",
   "metadata": {},
   "outputs": [],
   "source": []
  },
  {
   "cell_type": "code",
   "execution_count": null,
   "id": "1c4ac70f",
   "metadata": {},
   "outputs": [],
   "source": []
  },
  {
   "cell_type": "code",
   "execution_count": null,
   "id": "74004759",
   "metadata": {},
   "outputs": [],
   "source": []
  },
  {
   "cell_type": "code",
   "execution_count": null,
   "id": "140fed04",
   "metadata": {},
   "outputs": [],
   "source": []
  },
  {
   "cell_type": "code",
   "execution_count": null,
   "id": "c6892638",
   "metadata": {},
   "outputs": [],
   "source": []
  },
  {
   "cell_type": "code",
   "execution_count": null,
   "id": "a218367c",
   "metadata": {},
   "outputs": [],
   "source": []
  },
  {
   "cell_type": "code",
   "execution_count": null,
   "id": "c7b49bd2",
   "metadata": {},
   "outputs": [],
   "source": []
  },
  {
   "cell_type": "code",
   "execution_count": null,
   "id": "eecd117d",
   "metadata": {},
   "outputs": [],
   "source": []
  },
  {
   "cell_type": "code",
   "execution_count": null,
   "id": "2b7b0047",
   "metadata": {},
   "outputs": [],
   "source": []
  },
  {
   "cell_type": "code",
   "execution_count": null,
   "id": "2959969e",
   "metadata": {},
   "outputs": [],
   "source": []
  },
  {
   "cell_type": "code",
   "execution_count": null,
   "id": "e79e54ca",
   "metadata": {},
   "outputs": [],
   "source": []
  },
  {
   "cell_type": "code",
   "execution_count": null,
   "id": "a45c4d60",
   "metadata": {},
   "outputs": [],
   "source": []
  },
  {
   "cell_type": "code",
   "execution_count": null,
   "id": "5a718e48",
   "metadata": {},
   "outputs": [],
   "source": []
  },
  {
   "cell_type": "code",
   "execution_count": null,
   "id": "53293ea0",
   "metadata": {},
   "outputs": [],
   "source": []
  },
  {
   "cell_type": "code",
   "execution_count": null,
   "id": "97aab1b9",
   "metadata": {},
   "outputs": [],
   "source": []
  },
  {
   "cell_type": "code",
   "execution_count": null,
   "id": "eb1a0842",
   "metadata": {},
   "outputs": [],
   "source": []
  },
  {
   "cell_type": "code",
   "execution_count": null,
   "id": "bef85bc4",
   "metadata": {},
   "outputs": [],
   "source": []
  },
  {
   "cell_type": "code",
   "execution_count": null,
   "id": "b1b89078",
   "metadata": {},
   "outputs": [],
   "source": []
  },
  {
   "cell_type": "code",
   "execution_count": null,
   "id": "e4120214",
   "metadata": {},
   "outputs": [],
   "source": []
  },
  {
   "cell_type": "code",
   "execution_count": null,
   "id": "f36c19f6",
   "metadata": {},
   "outputs": [],
   "source": []
  },
  {
   "cell_type": "code",
   "execution_count": null,
   "id": "5173b654",
   "metadata": {},
   "outputs": [],
   "source": []
  },
  {
   "cell_type": "code",
   "execution_count": null,
   "id": "7a87aae6",
   "metadata": {},
   "outputs": [],
   "source": []
  },
  {
   "cell_type": "code",
   "execution_count": null,
   "id": "6629dfcf",
   "metadata": {},
   "outputs": [],
   "source": []
  },
  {
   "cell_type": "code",
   "execution_count": null,
   "id": "ecd22970",
   "metadata": {},
   "outputs": [],
   "source": []
  },
  {
   "cell_type": "code",
   "execution_count": null,
   "id": "94281bd0",
   "metadata": {},
   "outputs": [],
   "source": []
  },
  {
   "cell_type": "code",
   "execution_count": null,
   "id": "35191ff6",
   "metadata": {},
   "outputs": [],
   "source": []
  },
  {
   "cell_type": "code",
   "execution_count": null,
   "id": "9e772e4c",
   "metadata": {},
   "outputs": [],
   "source": []
  },
  {
   "cell_type": "code",
   "execution_count": null,
   "id": "a186d5ac",
   "metadata": {},
   "outputs": [],
   "source": []
  },
  {
   "cell_type": "code",
   "execution_count": null,
   "id": "a15e02e2",
   "metadata": {},
   "outputs": [],
   "source": []
  },
  {
   "cell_type": "code",
   "execution_count": null,
   "id": "9d625f57",
   "metadata": {},
   "outputs": [],
   "source": []
  },
  {
   "cell_type": "code",
   "execution_count": null,
   "id": "4b5343ff",
   "metadata": {},
   "outputs": [],
   "source": []
  },
  {
   "cell_type": "code",
   "execution_count": null,
   "id": "189499ee",
   "metadata": {},
   "outputs": [],
   "source": []
  },
  {
   "cell_type": "code",
   "execution_count": null,
   "id": "e3b7de50",
   "metadata": {},
   "outputs": [],
   "source": []
  },
  {
   "cell_type": "code",
   "execution_count": null,
   "id": "1696c10e",
   "metadata": {},
   "outputs": [],
   "source": []
  },
  {
   "cell_type": "code",
   "execution_count": null,
   "id": "1219f634",
   "metadata": {},
   "outputs": [],
   "source": []
  },
  {
   "cell_type": "code",
   "execution_count": null,
   "id": "98571bd3",
   "metadata": {},
   "outputs": [],
   "source": []
  },
  {
   "cell_type": "code",
   "execution_count": null,
   "id": "f2c7653b",
   "metadata": {},
   "outputs": [],
   "source": []
  },
  {
   "cell_type": "code",
   "execution_count": null,
   "id": "ca5c5ba6",
   "metadata": {},
   "outputs": [],
   "source": []
  },
  {
   "cell_type": "code",
   "execution_count": null,
   "id": "278d063f",
   "metadata": {},
   "outputs": [],
   "source": []
  },
  {
   "cell_type": "code",
   "execution_count": null,
   "id": "ca2a6d9a",
   "metadata": {},
   "outputs": [],
   "source": []
  },
  {
   "cell_type": "code",
   "execution_count": null,
   "id": "18042ac5",
   "metadata": {},
   "outputs": [],
   "source": []
  },
  {
   "cell_type": "code",
   "execution_count": null,
   "id": "93cee566",
   "metadata": {},
   "outputs": [],
   "source": []
  },
  {
   "cell_type": "code",
   "execution_count": null,
   "id": "cc1215c5",
   "metadata": {},
   "outputs": [],
   "source": []
  },
  {
   "cell_type": "code",
   "execution_count": null,
   "id": "845823ea",
   "metadata": {},
   "outputs": [],
   "source": []
  },
  {
   "cell_type": "code",
   "execution_count": null,
   "id": "e80ad494",
   "metadata": {},
   "outputs": [],
   "source": []
  },
  {
   "cell_type": "code",
   "execution_count": null,
   "id": "b411653b",
   "metadata": {},
   "outputs": [],
   "source": []
  },
  {
   "cell_type": "code",
   "execution_count": null,
   "id": "45316a6a",
   "metadata": {},
   "outputs": [],
   "source": []
  },
  {
   "cell_type": "code",
   "execution_count": null,
   "id": "d3699d3c",
   "metadata": {},
   "outputs": [],
   "source": []
  },
  {
   "cell_type": "code",
   "execution_count": null,
   "id": "5732b007",
   "metadata": {},
   "outputs": [],
   "source": []
  },
  {
   "cell_type": "code",
   "execution_count": null,
   "id": "b13b1ca3",
   "metadata": {},
   "outputs": [],
   "source": []
  },
  {
   "cell_type": "code",
   "execution_count": null,
   "id": "482635c1",
   "metadata": {},
   "outputs": [],
   "source": []
  },
  {
   "cell_type": "code",
   "execution_count": null,
   "id": "3167bfa5",
   "metadata": {},
   "outputs": [],
   "source": []
  },
  {
   "cell_type": "code",
   "execution_count": null,
   "id": "f6a7ab75",
   "metadata": {},
   "outputs": [],
   "source": []
  },
  {
   "cell_type": "code",
   "execution_count": null,
   "id": "d66cd12a",
   "metadata": {},
   "outputs": [],
   "source": []
  },
  {
   "cell_type": "code",
   "execution_count": null,
   "id": "3f52d01f",
   "metadata": {},
   "outputs": [],
   "source": []
  },
  {
   "cell_type": "code",
   "execution_count": null,
   "id": "d051bb46",
   "metadata": {},
   "outputs": [],
   "source": []
  },
  {
   "cell_type": "code",
   "execution_count": null,
   "id": "77fcd2e6",
   "metadata": {},
   "outputs": [],
   "source": []
  },
  {
   "cell_type": "code",
   "execution_count": null,
   "id": "798329ec",
   "metadata": {},
   "outputs": [],
   "source": []
  },
  {
   "cell_type": "code",
   "execution_count": null,
   "id": "e61e72c1",
   "metadata": {},
   "outputs": [],
   "source": []
  },
  {
   "cell_type": "code",
   "execution_count": null,
   "id": "194c016d",
   "metadata": {},
   "outputs": [],
   "source": []
  },
  {
   "cell_type": "code",
   "execution_count": null,
   "id": "358c5b44",
   "metadata": {},
   "outputs": [],
   "source": []
  },
  {
   "cell_type": "code",
   "execution_count": null,
   "id": "07b2c153",
   "metadata": {},
   "outputs": [],
   "source": []
  },
  {
   "cell_type": "code",
   "execution_count": null,
   "id": "9e962b71",
   "metadata": {},
   "outputs": [],
   "source": []
  },
  {
   "cell_type": "code",
   "execution_count": null,
   "id": "34dfe4ca",
   "metadata": {},
   "outputs": [],
   "source": []
  },
  {
   "cell_type": "code",
   "execution_count": null,
   "id": "70629cf1",
   "metadata": {},
   "outputs": [],
   "source": []
  },
  {
   "cell_type": "code",
   "execution_count": null,
   "id": "fc3821a6",
   "metadata": {},
   "outputs": [],
   "source": []
  },
  {
   "cell_type": "code",
   "execution_count": null,
   "id": "7e191e23",
   "metadata": {},
   "outputs": [],
   "source": []
  },
  {
   "cell_type": "code",
   "execution_count": null,
   "id": "c3a1ebdf",
   "metadata": {},
   "outputs": [],
   "source": []
  },
  {
   "cell_type": "code",
   "execution_count": null,
   "id": "cab3a5cc",
   "metadata": {},
   "outputs": [],
   "source": []
  },
  {
   "cell_type": "code",
   "execution_count": null,
   "id": "aec3c2e0",
   "metadata": {},
   "outputs": [],
   "source": []
  }
 ],
 "metadata": {
  "kernelspec": {
   "display_name": "Python 3 (ipykernel)",
   "language": "python",
   "name": "python3"
  },
  "language_info": {
   "codemirror_mode": {
    "name": "ipython",
    "version": 3
   },
   "file_extension": ".py",
   "mimetype": "text/x-python",
   "name": "python",
   "nbconvert_exporter": "python",
   "pygments_lexer": "ipython3",
   "version": "3.11.5"
  }
 },
 "nbformat": 4,
 "nbformat_minor": 5
}
