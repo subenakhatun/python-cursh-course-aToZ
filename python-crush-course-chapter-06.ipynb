{
 "cells": [
  {
   "cell_type": "markdown",
   "id": "f0886064",
   "metadata": {},
   "source": [
    "# Dictionary"
   ]
  },
  {
   "cell_type": "markdown",
   "id": "21c950c5",
   "metadata": {},
   "source": [
    "# A simple Dictionary"
   ]
  },
  {
   "cell_type": "code",
   "execution_count": 2,
   "id": "a80d41d1",
   "metadata": {},
   "outputs": [
    {
     "name": "stdout",
     "output_type": "stream",
     "text": [
      "{'color': 'green', 'points': 5}\n"
     ]
    }
   ],
   "source": [
    "# consider a game featuring aliens that can have different color and print values. \n",
    "aliens = {\"color\": \"green\", \"points\": 5}\n",
    "print(aliens)"
   ]
  },
  {
   "cell_type": "code",
   "execution_count": 4,
   "id": "f8431085",
   "metadata": {},
   "outputs": [
    {
     "name": "stdout",
     "output_type": "stream",
     "text": [
      "green\n"
     ]
    }
   ],
   "source": [
    "# key, values format\n",
    "print(aliens[\"color\"])"
   ]
  },
  {
   "cell_type": "code",
   "execution_count": 5,
   "id": "7ac70097",
   "metadata": {},
   "outputs": [
    {
     "name": "stdout",
     "output_type": "stream",
     "text": [
      "color\n",
      "points\n"
     ]
    }
   ],
   "source": [
    "for alien in aliens:\n",
    "    print(alien)"
   ]
  },
  {
   "cell_type": "code",
   "execution_count": 6,
   "id": "51d103a4",
   "metadata": {},
   "outputs": [
    {
     "name": "stdout",
     "output_type": "stream",
     "text": [
      "5\n"
     ]
    }
   ],
   "source": [
    "# Accessing Values in a Dictionary\n",
    "print(aliens[\"points\"])"
   ]
  },
  {
   "cell_type": "code",
   "execution_count": 8,
   "id": "823711d2",
   "metadata": {},
   "outputs": [
    {
     "name": "stdout",
     "output_type": "stream",
     "text": [
      "You just earned 5!\n"
     ]
    }
   ],
   "source": [
    "newPoints  = aliens[\"points\"]\n",
    "print(f\"You just earned {newPoints}!\")"
   ]
  },
  {
   "cell_type": "code",
   "execution_count": 9,
   "id": "a354536c",
   "metadata": {},
   "outputs": [
    {
     "name": "stdout",
     "output_type": "stream",
     "text": [
      "{'color': 'green', 'points': 5, 'xPosition': 0, 'yPosition': 25}\n"
     ]
    }
   ],
   "source": [
    "# Adding New Kye-Value Pairs\n",
    "aliens = {\"color\": \"green\", \"points\": 5}\n",
    "aliens[\"xPosition\"] = 0\n",
    "aliens[\"yPosition\"] = 25\n",
    "print(aliens)"
   ]
  },
  {
   "cell_type": "code",
   "execution_count": 10,
   "id": "27a8299b",
   "metadata": {},
   "outputs": [
    {
     "name": "stdout",
     "output_type": "stream",
     "text": [
      "{'color': 'green', 'points': 5}\n"
     ]
    }
   ],
   "source": [
    "# Startinf with an Empty Dictionary and add some key values.\n",
    "newAliens = {}\n",
    "newAliens[\"color\"] = \"green\"\n",
    "newAliens[\"points\"] = 5\n",
    "print(newAliens)"
   ]
  },
  {
   "cell_type": "code",
   "execution_count": 11,
   "id": "10b235b4",
   "metadata": {},
   "outputs": [
    {
     "name": "stdout",
     "output_type": "stream",
     "text": [
      "{'color': 'yellow', 'points': 5}\n"
     ]
    }
   ],
   "source": [
    "# Modifying Values in a Dictionary\n",
    "newAliens[\"color\"] = \"yellow\"\n",
    "print(newAliens)"
   ]
  },
  {
   "cell_type": "code",
   "execution_count": 13,
   "id": "a67d87f2",
   "metadata": {},
   "outputs": [
    {
     "name": "stdout",
     "output_type": "stream",
     "text": [
      "2\n"
     ]
    }
   ],
   "source": [
    "aliens1 = {\"speed\": \"medium\", 'xIncrement': 0, 'yIncrement': 25}\n",
    "if aliens1[\"speed\"] == \"slow\":\n",
    "    xIncrement = 1\n",
    "elif aliens1[\"speed\"] == \"medium\":\n",
    "    xIncrement = 2\n",
    "else:\n",
    "    xIncrement = 3\n",
    "aliens1[\"xIncrement\"] = aliens1[\"xIncrement\"] + xIncrement\n",
    "print(aliens1[\"xIncrement\"])"
   ]
  },
  {
   "cell_type": "code",
   "execution_count": 15,
   "id": "c135d057",
   "metadata": {},
   "outputs": [
    {
     "name": "stdout",
     "output_type": "stream",
     "text": [
      "{'xIncrement': 2, 'yIncrement': 25}\n"
     ]
    }
   ],
   "source": [
    "# Removing Key values pair\n",
    "del aliens1[\"speed\"]\n",
    "print(aliens1)"
   ]
  },
  {
   "cell_type": "code",
   "execution_count": 19,
   "id": "7781b53f",
   "metadata": {},
   "outputs": [
    {
     "name": "stdout",
     "output_type": "stream",
     "text": [
      "Python is the favourite language of Subena\n"
     ]
    }
   ],
   "source": [
    "# A Dictionary of Similar Objects\n",
    "favouriteLanguages = {\n",
    "    \"subena\": \"Python\",\n",
    "    \"duha\": \"physics\",\n",
    "    \"samira\": \"python\",\n",
    "    \"ahona\": \"none\",\n",
    "    \"humayra\": \"English\"\n",
    "}\n",
    "fav = favouriteLanguages[\"subena\"]\n",
    "print(f\"{fav} is the favourite language of Subena\")"
   ]
  },
  {
   "cell_type": "code",
   "execution_count": 21,
   "id": "c27e2a81",
   "metadata": {},
   "outputs": [
    {
     "name": "stdout",
     "output_type": "stream",
     "text": [
      "English\n"
     ]
    }
   ],
   "source": [
    "# Using get() to access values\n",
    "fav1 = favouriteLanguages.get(\"humayra\",\"English\")\n",
    "print(fav1)"
   ]
  },
  {
   "cell_type": "markdown",
   "id": "bcd00b52",
   "metadata": {},
   "source": [
    "# Looping Through a Dictionary"
   ]
  },
  {
   "cell_type": "code",
   "execution_count": 29,
   "id": "b97ccc4f",
   "metadata": {},
   "outputs": [
    {
     "name": "stdout",
     "output_type": "stream",
     "text": [
      "username : Subena\n",
      "first : subena\n",
      "last : khatun\n"
     ]
    }
   ],
   "source": [
    "# Looping Through ALL key-Value Pairs\n",
    "username1 = {\n",
    "    \"username\": \"Subena\",\n",
    "    \"first\" : \"subena\",\n",
    "    \"last\" : \"khatun\"\n",
    "}\n",
    "for key, value in username1.items():\n",
    "    print(key, \":\", value)"
   ]
  },
  {
   "cell_type": "code",
   "execution_count": 34,
   "id": "fe347520",
   "metadata": {},
   "outputs": [
    {
     "name": "stdout",
     "output_type": "stream",
     "text": [
      "Subena's favourite language is Python\n",
      "Duha's favourite language is Physics\n",
      "Samira's favourite language is Python\n",
      "Ahona's favourite language is None\n",
      "Humayra's favourite language is English\n"
     ]
    }
   ],
   "source": [
    "# all items print with key and values\n",
    "favouriteLanguages = {\n",
    "    \"subena\": \"Python\",\n",
    "    \"duha\": \"physics\",\n",
    "    \"samira\": \"python\",\n",
    "    \"ahona\": \"none\",\n",
    "    \"humayra\": \"English\"\n",
    "}\n",
    "for name, values in favouriteLanguages.items():\n",
    "    print(f\"{name.title()}'s favourite language is {values.title()}\")"
   ]
  },
  {
   "cell_type": "code",
   "execution_count": 35,
   "id": "225aec30",
   "metadata": {},
   "outputs": [
    {
     "name": "stdout",
     "output_type": "stream",
     "text": [
      "subena\n",
      "duha\n",
      "samira\n",
      "ahona\n",
      "humayra\n"
     ]
    }
   ],
   "source": [
    "# only key values print\n",
    "for keyvalues in favouriteLanguages.keys():\n",
    "    print(keyvalues)"
   ]
  },
  {
   "cell_type": "code",
   "execution_count": 36,
   "id": "ddefc259",
   "metadata": {},
   "outputs": [
    {
     "name": "stdout",
     "output_type": "stream",
     "text": [
      "Python\n",
      "physics\n",
      "python\n",
      "none\n",
      "English\n"
     ]
    }
   ],
   "source": [
    "# only values prite\n",
    "for values in favouriteLanguages.values():\n",
    "    print(values)"
   ]
  },
  {
   "cell_type": "code",
   "execution_count": 37,
   "id": "9883f539",
   "metadata": {},
   "outputs": [
    {
     "name": "stdout",
     "output_type": "stream",
     "text": [
      "ahona\n",
      "duha\n",
      "humayra\n",
      "samira\n",
      "subena\n"
     ]
    }
   ],
   "source": [
    "# Looping Through a Dictionary keys in a particular order\n",
    "# Sometimes through you will want to loop through a dictionary in a different order. \n",
    "# One way to do this is sort keys as they are returned in the for loop. you can use the sorted() function \n",
    "# to get a copy of the keys in order\n",
    "favouriteLanguages = {\n",
    "    \"subena\": \"Python\",\n",
    "    \"duha\": \"physics\",\n",
    "    \"samira\": \"python\",\n",
    "    \"ahona\": \"none\",\n",
    "    \"humayra\": \"English\"\n",
    "}\n",
    "for name in sorted(favouriteLanguages.keys()):\n",
    "    print(name)\n"
   ]
  },
  {
   "cell_type": "markdown",
   "id": "489c96ed",
   "metadata": {},
   "source": [
    "# Nesting"
   ]
  },
  {
   "cell_type": "code",
   "execution_count": 39,
   "id": "5739e8b2",
   "metadata": {},
   "outputs": [
    {
     "name": "stdout",
     "output_type": "stream",
     "text": [
      "{'subena': 'Data Scientist', 'samira': 'animator', 'Duha': 'not sure'}\n",
      "{'pinky': 'Englisg lecturer', 'ahona': 'not sure', 'humayra': 'doctor'}\n",
      "{'pinky': 'Englisg lecturer', 'ahona': 'not sure', 'humayra': 'doctor'}\n"
     ]
    }
   ],
   "source": [
    "# A list of Dictionaries\n",
    "namelist1 = {\n",
    "    \"subena\": \"Data Scientist\",\n",
    "    \"samira\": \"animator\",\n",
    "    \"Duha\": \"not sure\"\n",
    "}\n",
    "namelist2 = {\n",
    "    \"farzana\": \"homemaker\",\n",
    "    \"popy\": \"accounted\",\n",
    "    \"rumi\": \"fashion designer\"\n",
    "}\n",
    "namelist2 = {\n",
    "    \"pinky\": \"Englisg lecturer\",\n",
    "    \"ahona\": \"not sure\",\n",
    "    \"humayra\": \"doctor\"\n",
    "}\n",
    "allnameLists = [namelist1, namelist2, namelist2]\n",
    "for allnameList in allnameLists:\n",
    "    print(allnameList)\n"
   ]
  },
  {
   "cell_type": "code",
   "execution_count": 43,
   "id": "e3d2eb5b",
   "metadata": {},
   "outputs": [
    {
     "name": "stdout",
     "output_type": "stream",
     "text": [
      "{'pinky': 'Englisg lecturer', 'ahona': 'not sure', 'humayra': 'doctor'}\n",
      "{'pinky': 'Englisg lecturer', 'ahona': 'not sure', 'humayra': 'doctor'}\n",
      "{'pinky': 'Englisg lecturer', 'ahona': 'not sure', 'humayra': 'doctor'}\n",
      "{'pinky': 'Englisg lecturer', 'ahona': 'not sure', 'humayra': 'doctor'}\n"
     ]
    }
   ],
   "source": [
    "# making an empty list for sorting aliens\n",
    "aliens =[]\n",
    "# make 30 green aliens\n",
    "for alien in range(30):\n",
    "    newAlien = {\n",
    "                \"pinky\": \"Englisg lecturer\",\n",
    "                \"ahona\": \"not sure\",\n",
    "                \"humayra\": \"doctor\"\n",
    "            }\n",
    "    aliens.append(newAlien)\n",
    "for alien1 in aliens[:4]:\n",
    "    print(alien1)\n",
    "    "
   ]
  },
  {
   "cell_type": "code",
   "execution_count": 51,
   "id": "0d45dcb1",
   "metadata": {},
   "outputs": [
    {
     "name": "stdout",
     "output_type": "stream",
     "text": [
      "crust: thick\n",
      "toppings: ['mushrooms', 'extra cheese']\n",
      "\n",
      "\n",
      "crust\n",
      "toppings\n",
      "\n",
      "\n",
      "thick\n",
      "['mushrooms', 'extra cheese']\n",
      "\n",
      "\n",
      "mushrooms\n",
      "extra cheese\n"
     ]
    }
   ],
   "source": [
    "# A list in a dictionary\n",
    "# store information about a pizza beign ordered\n",
    "pizza = {\n",
    "    \"crust\" : \"thick\",\n",
    "    \"toppings\": [\"mushrooms\",\"extra cheese\"]\n",
    "}\n",
    "for keys, values in pizza.items():\n",
    "    print(f\"{keys}: {values}\")\n",
    "print(\"\\n\")\n",
    "\n",
    "for keys in pizza.keys():\n",
    "    print(keys)\n",
    "print(\"\\n\")\n",
    "\n",
    "for values in pizza.values():\n",
    "    print(values)\n",
    "print(\"\\n\")\n",
    "# summarize the order\n",
    "for topping in pizza[\"toppings\"]:\n",
    "    print(topping)"
   ]
  },
  {
   "cell_type": "code",
   "execution_count": 53,
   "id": "cf386195",
   "metadata": {},
   "outputs": [
    {
     "name": "stdout",
     "output_type": "stream",
     "text": [
      "subena: {'first': 'subena', 'last': 'khatun', 'location': 'bangladesh'}\n",
      "Hasan: {'first': 'mehedi', 'last': 'hasan', 'location': 'USA'}\n"
     ]
    }
   ],
   "source": [
    "# A dictionary in a Dictionary\n",
    "users = {\n",
    "    \"subena\": {\n",
    "        \"first\": \"subena\",\n",
    "        \"last\": \"khatun\",\n",
    "        \"location\": \"bangladesh\"\n",
    "    },\n",
    "    \"Hasan\": {\n",
    "        \"first\": \"mehedi\",\n",
    "        \"last\": \"hasan\",\n",
    "        \"location\": \"USA\"\n",
    "    }\n",
    "}\n",
    "\n",
    "for keys, values in users.items():\n",
    "    print(f\"{keys}: {values}\")"
   ]
  },
  {
   "cell_type": "markdown",
   "id": "2d89a8f6",
   "metadata": {},
   "source": [
    "# Exercise"
   ]
  },
  {
   "cell_type": "markdown",
   "id": "4a3e9cd0",
   "metadata": {},
   "source": [
    "# 6-1: Person:\n",
    "Use a dictionary to share information about a person you know. Store their first name, last name , age and the city in which they live. You should have keys such as firstName , lastName, age  and city . Print each piece of information stored in your dictionary."
   ]
  },
  {
   "cell_type": "code",
   "execution_count": 1,
   "id": "81ddf81b",
   "metadata": {},
   "outputs": [
    {
     "name": "stdout",
     "output_type": "stream",
     "text": [
      "{'First Name': 'Subena', 'Last Name': 'Khatun', 'Age': '30', 'City': 'Bangladesh'}\n"
     ]
    }
   ],
   "source": [
    "personInfo = {\"First Name\":\"Subena\",\"Last Name\":\"Khatun\",\"Age\":\"30\",\"City\":\"Bangladesh\"}\n",
    "print(personInfo)"
   ]
  },
  {
   "cell_type": "code",
   "execution_count": 2,
   "id": "3d6ecf00",
   "metadata": {},
   "outputs": [
    {
     "name": "stdout",
     "output_type": "stream",
     "text": [
      "dict_values(['Subena', 'Khatun', '30', 'Bangladesh'])\n"
     ]
    }
   ],
   "source": [
    "print(personInfo.values())"
   ]
  },
  {
   "cell_type": "code",
   "execution_count": 9,
   "id": "597bec77",
   "metadata": {},
   "outputs": [
    {
     "name": "stdout",
     "output_type": "stream",
     "text": [
      "First Name = Subena\n",
      "Last Name = Khatun\n",
      "Age = 30\n",
      "City = Bangladesh\n"
     ]
    }
   ],
   "source": [
    "for values,keys in personInfo.items():\n",
    "    print(values + \" =\",keys)\n"
   ]
  },
  {
   "cell_type": "markdown",
   "id": "edb5048d",
   "metadata": {},
   "source": [
    "# 6-2. Favourite Numbers:\n",
    "Use a dictionary to store people's favourite numbers. Think a five names, and use them as keys in your dictionary . Think of a favourite number for each person and store as a value in your dictionary. Print each person's name and their favourite number. For even more fun, poll a few friends and get some actual data for your program."
   ]
  },
  {
   "cell_type": "code",
   "execution_count": 11,
   "id": "a809fc9e",
   "metadata": {},
   "outputs": [
    {
     "name": "stdout",
     "output_type": "stream",
     "text": [
      "Subena's Favourite Number is: 19\n",
      "Farzana's Favourite Number is: 7\n",
      "Rahena's Favourite Number is: 70\n",
      "Shuli's Favourite Number is: 63\n",
      "Duha's Favourite Number is: 18\n"
     ]
    }
   ],
   "source": [
    "peopleFavNum = {\n",
    "    \"Subena\":19,\n",
    "    \"Farzana\":7,\n",
    "    \"Rahena\":70,\n",
    "    \"Shuli\":63,\n",
    "    \"Duha\":18\n",
    "}\n",
    "for name, number in peopleFavNum.items():\n",
    "    print(f\"{name.title()}'s Favourite Number is: {number}\")"
   ]
  },
  {
   "cell_type": "code",
   "execution_count": 15,
   "id": "c8024dd8",
   "metadata": {},
   "outputs": [
    {
     "name": "stdout",
     "output_type": "stream",
     "text": [
      "Subena's Favourite Number is: 19\n",
      "Farzana's Favourite Number is: 7\n",
      "Rahena's Favourite Number is: 70\n",
      "Shuli's Favourite Number is: 63\n",
      "Duha's Favourite Number is: 18\n"
     ]
    }
   ],
   "source": [
    "peopleFavNum[\"Achia\"] = 20\n",
    "peopleFavNum = {\n",
    "    \"Subena\":19,\n",
    "    \"Farzana\":7,\n",
    "    \"Rahena\":70,\n",
    "    \"Shuli\":63,\n",
    "    \"Duha\":18\n",
    "}\n",
    "for name, number in peopleFavNum.items():\n",
    "    print(f\"{name.title()}'s Favourite Number is: {number}\")"
   ]
  },
  {
   "cell_type": "markdown",
   "id": "1f78bd9f",
   "metadata": {},
   "source": [
    "# 6-3. Glossary:\n",
    "A python dictionary can be used to model an actual dictionary. However to avoid confusion let's call it a glossary.\n",
    "* Think of five programming words you've learned about in the pervious chapters. Use these words as the keys in your glossary and store their meanings as values.\n",
    "* Print each word and it's meaning as neatly formatted output . You might print the word followed by a colon and then its meaning or print the word on one line and then print its meaning indented on a second line. Use the newline character(\\n) to insert a blank line between each word-meaning pair in your output."
   ]
  },
  {
   "cell_type": "code",
   "execution_count": null,
   "id": "1df01c41",
   "metadata": {},
   "outputs": [],
   "source": []
  },
  {
   "cell_type": "markdown",
   "id": "7a1299ef",
   "metadata": {},
   "source": [
    "# 6-4: Glossar 2: \n",
    "Now that you know how loop throiugh a dictioinary., clean up the code from exercise 6-3 by replacing your series of print() calls with a loop that runs the dictionary's keys and values. When you're sure that your loop add five more python terms to your glossary. When you run your program again, these new words and meanings should automatically be included in the output."
   ]
  },
  {
   "cell_type": "code",
   "execution_count": null,
   "id": "9833e4d3",
   "metadata": {},
   "outputs": [],
   "source": []
  },
  {
   "cell_type": "markdown",
   "id": "87e88dab",
   "metadata": {},
   "source": [
    "# 6-5. Rivers:\n",
    "MAke a dictionary containing three major rivers and the country each river runs through . One key-value pair might be 'nile': 'egypt'.\n",
    "* use a loop to print a sentence about each river, such as The Naile runs throgh Egyptt.\n",
    "* Use a lopp to print the name of each river included in the dictionary.\n",
    "* Use a lopp to print the name of each country included in the dictionary."
   ]
  },
  {
   "cell_type": "code",
   "execution_count": null,
   "id": "d8191821",
   "metadata": {},
   "outputs": [],
   "source": []
  },
  {
   "cell_type": "markdown",
   "id": "a8dd1dbe",
   "metadata": {},
   "source": [
    "# 6-6. Polling:\n",
    "Use the code in favouriteLanguages.py\n",
    "* Make a list of people who should take the favourite languages poll. Includes some names that are already in the dictionary and some that ar not.\n",
    "* Loop through the list of people who sholud take the poll. If they have already taken the poll. print a message thanking them for responding. If they have not yet taken the poll, print a message inviting them to take the poll.."
   ]
  },
  {
   "cell_type": "code",
   "execution_count": null,
   "id": "80a24843",
   "metadata": {},
   "outputs": [],
   "source": []
  },
  {
   "cell_type": "markdown",
   "id": "a4b727da",
   "metadata": {},
   "source": [
    "# 6-7. People:\n",
    "Start with the program you erote for exercise 6-1. Make two new dictionaries represnting different people and store all these dictionaries in a list called people . Loop through your list of people. As you loop through the liost print everything you know about each person."
   ]
  },
  {
   "cell_type": "code",
   "execution_count": null,
   "id": "eb7c2c22",
   "metadata": {},
   "outputs": [],
   "source": []
  },
  {
   "cell_type": "markdown",
   "id": "c1eea0f4",
   "metadata": {},
   "source": [
    "# 6-8. Pets:\n",
    "Make several dictionaries where each dictionary represents a different pet. In each dictionary include the kind of animal and the owner's name. Store these dictionaries in a list called pets. Next loop through your list and as you do print everything you know about each pet."
   ]
  },
  {
   "cell_type": "code",
   "execution_count": null,
   "id": "8a616f05",
   "metadata": {},
   "outputs": [],
   "source": []
  },
  {
   "cell_type": "markdown",
   "id": "4d306132",
   "metadata": {},
   "source": [
    "# 6-9. favourite Places:\n",
    "Make a dictionary called favouritePlaces. Think of three names to use as keys in the dictionary and store one to three favourite places for each person. To make this exercise a bit more interesting ask some firends to name a few of their exercise a bit more interesting ask some friends to name a few of their favourite places. Loop through the dictionary and print each person's name and their favourite places."
   ]
  },
  {
   "cell_type": "code",
   "execution_count": null,
   "id": "73ac247a",
   "metadata": {},
   "outputs": [],
   "source": []
  },
  {
   "cell_type": "markdown",
   "id": "204c8589",
   "metadata": {},
   "source": [
    "# 6-10. Favourite Numbers:\n",
    "Modify your program from exercise 6-2 so each person can have more than one favourite number. Then print each person's name and their favourite numbers."
   ]
  },
  {
   "cell_type": "code",
   "execution_count": null,
   "id": "d66462db",
   "metadata": {},
   "outputs": [],
   "source": []
  },
  {
   "cell_type": "markdown",
   "id": "edcde77d",
   "metadata": {},
   "source": [
    "# 6-11. Cities:\n",
    "Make a dictionary called cities. Use the names of three eities as keys in your dictionary. Create a dictioanry of information about each city and include the country that the city is in approximate population and one fact about that city. The keys for each eicty's dictionary should be something like country , population and fact. Print the name of each city and all of the information you have stored about it."
   ]
  },
  {
   "cell_type": "code",
   "execution_count": null,
   "id": "cdbeb619",
   "metadata": {},
   "outputs": [],
   "source": []
  },
  {
   "cell_type": "markdown",
   "id": "86f05205",
   "metadata": {},
   "source": [
    "# 6-12. Extensions: \n",
    "We are now working with examples that are comples enough that they can be ectended in any number of ways. use one of the example programs from this chapter and exted it by adding new keys and values changingt the context of the program or improvimg the formatting the output"
   ]
  },
  {
   "cell_type": "code",
   "execution_count": null,
   "id": "ae7a6d8c",
   "metadata": {},
   "outputs": [],
   "source": []
  }
 ],
 "metadata": {
  "kernelspec": {
   "display_name": "Python 3 (ipykernel)",
   "language": "python",
   "name": "python3"
  },
  "language_info": {
   "codemirror_mode": {
    "name": "ipython",
    "version": 3
   },
   "file_extension": ".py",
   "mimetype": "text/x-python",
   "name": "python",
   "nbconvert_exporter": "python",
   "pygments_lexer": "ipython3",
   "version": "3.11.5"
  }
 },
 "nbformat": 4,
 "nbformat_minor": 5
}
