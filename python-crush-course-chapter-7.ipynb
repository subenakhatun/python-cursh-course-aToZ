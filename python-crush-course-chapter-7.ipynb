{
 "cells": [
  {
   "cell_type": "markdown",
   "id": "f6ec06cc",
   "metadata": {},
   "source": [
    "# User Input And While Loop"
   ]
  },
  {
   "cell_type": "code",
   "execution_count": 1,
   "id": "3dbd08f6",
   "metadata": {},
   "outputs": [
    {
     "name": "stdout",
     "output_type": "stream",
     "text": [
      "Tell me something and i will repeat ti back you: hello, How are yoy?\n",
      "hello, How are yoy?\n"
     ]
    }
   ],
   "source": [
    "# How to input function works\n",
    "? an input function takes one arguments\n",
    "message = input(\"Tell me something and i will repeat ti back you: \")\n",
    "print(message)"
   ]
  },
  {
   "cell_type": "code",
   "execution_count": 2,
   "id": "26d6de23",
   "metadata": {},
   "outputs": [
    {
     "name": "stdout",
     "output_type": "stream",
     "text": [
      "Please enter your name: subena\n",
      "subena\n"
     ]
    }
   ],
   "source": [
    "# Written Clear promts\n",
    "name= input(\"Please enter your name: \")\n",
    "print(name)"
   ]
  },
  {
   "cell_type": "code",
   "execution_count": 6,
   "id": "45c998b9",
   "metadata": {},
   "outputs": [
    {
     "name": "stdout",
     "output_type": "stream",
     "text": [
      "If you share your name , we can personalize the messages you see.\n",
      "What is your first name? subena\n",
      "Subena\n"
     ]
    }
   ],
   "source": [
    "prompt = \"If you share your name , we can personalize the messages you see.\"\n",
    "prompt += \"\\nWhat is your first name? \"\n",
    "name = input(prompt)\n",
    "print(name.title())"
   ]
  },
  {
   "cell_type": "code",
   "execution_count": 8,
   "id": "963939c7",
   "metadata": {},
   "outputs": [
    {
     "name": "stdout",
     "output_type": "stream",
     "text": [
      "enter your age: 30\n",
      "30\n"
     ]
    },
    {
     "ename": "TypeError",
     "evalue": "'>' not supported between instances of 'str' and 'int'",
     "output_type": "error",
     "traceback": [
      "\u001b[1;31m---------------------------------------------------------------------------\u001b[0m",
      "\u001b[1;31mTypeError\u001b[0m                                 Traceback (most recent call last)",
      "Cell \u001b[1;32mIn[8], line 4\u001b[0m\n\u001b[0;32m      2\u001b[0m age \u001b[38;5;241m=\u001b[39m \u001b[38;5;28minput\u001b[39m(\u001b[38;5;124m\"\u001b[39m\u001b[38;5;124menter your age: \u001b[39m\u001b[38;5;124m\"\u001b[39m)\n\u001b[0;32m      3\u001b[0m \u001b[38;5;28mprint\u001b[39m(age)\n\u001b[1;32m----> 4\u001b[0m age \u001b[38;5;241m>\u001b[39m \u001b[38;5;241m20\u001b[39m\n",
      "\u001b[1;31mTypeError\u001b[0m: '>' not supported between instances of 'str' and 'int'"
     ]
    }
   ],
   "source": [
    "# Using int() to accept numerical input\n",
    "age = input(\"enter your age: \")\n",
    "print(age)\n",
    "age > 20"
   ]
  },
  {
   "cell_type": "code",
   "execution_count": 9,
   "id": "eb962da6",
   "metadata": {},
   "outputs": [
    {
     "name": "stdout",
     "output_type": "stream",
     "text": [
      "30\n"
     ]
    }
   ],
   "source": [
    "print(int(age))"
   ]
  },
  {
   "cell_type": "code",
   "execution_count": 11,
   "id": "5068c70d",
   "metadata": {},
   "outputs": [
    {
     "data": {
      "text/plain": [
       "True"
      ]
     },
     "execution_count": 11,
     "metadata": {},
     "output_type": "execute_result"
    }
   ],
   "source": [
    "int(age) > 20"
   ]
  },
  {
   "cell_type": "code",
   "execution_count": 12,
   "id": "ea442082",
   "metadata": {},
   "outputs": [
    {
     "data": {
      "text/plain": [
       "1"
      ]
     },
     "execution_count": 12,
     "metadata": {},
     "output_type": "execute_result"
    }
   ],
   "source": [
    "# The modulo operator\n",
    "4 % 3"
   ]
  },
  {
   "cell_type": "code",
   "execution_count": 13,
   "id": "afea90bc",
   "metadata": {},
   "outputs": [
    {
     "data": {
      "text/plain": [
       "2.0"
      ]
     },
     "execution_count": 13,
     "metadata": {},
     "output_type": "execute_result"
    }
   ],
   "source": [
    "6/3"
   ]
  },
  {
   "cell_type": "code",
   "execution_count": 14,
   "id": "545c3029",
   "metadata": {},
   "outputs": [
    {
     "name": "stdout",
     "output_type": "stream",
     "text": [
      "Enter a number and i will tell you if it is even or odd: 60\n",
      "\n",
      "The number 60 is even\n"
     ]
    }
   ],
   "source": [
    "# When one number is divisible by another number the reminder is 0. so the modulu operator always returns 0\n",
    "number = input(\"Enter a number and i will tell you if it is even or odd: \")\n",
    "number = int(number)\n",
    "if number % 2 == 0:\n",
    "    print(f\"\\nThe number {number} is even\")\n",
    "else:\n",
    "    print(f\"\\nThe number {number} is Odd\")"
   ]
  },
  {
   "cell_type": "markdown",
   "id": "3569f6b3",
   "metadata": {},
   "source": [
    "# 7-1: Rental car:\n",
    "Write a program that asks the user what kind of rental car they would like. Print a message about that car such as, \"Let me see if can find you a Subaru\""
   ]
  },
  {
   "cell_type": "code",
   "execution_count": 15,
   "id": "e906630a",
   "metadata": {},
   "outputs": [
    {
     "name": "stdout",
     "output_type": "stream",
     "text": [
      "Let me see if can find you a  Sabaru\n",
      "Sabaru\n"
     ]
    }
   ],
   "source": [
    "carental = input(\"Let me see if can find you a  \")\n",
    "print(carental)"
   ]
  },
  {
   "cell_type": "markdown",
   "id": "d6339064",
   "metadata": {},
   "source": [
    "# 7-2: Restaurant Seating:\n",
    "Write a program that asks the user how many people are in thier dinner group. If the answer is more than eight, print a message saying they will have to wait for a table. otherwise report that thier table is ready."
   ]
  },
  {
   "cell_type": "code",
   "execution_count": 16,
   "id": "085e7b49",
   "metadata": {},
   "outputs": [
    {
     "name": "stdout",
     "output_type": "stream",
     "text": [
      "Hoiw many people are in dinnar? 8\n",
      "table is ready\n"
     ]
    }
   ],
   "source": [
    "people = input(\"Hoiw many people are in dinnar? \")\n",
    "people = int(people)\n",
    "if people > 8:\n",
    "    print(\"Please you will have to wait for a table\")\n",
    "else:\n",
    "    print(\"table is ready\")"
   ]
  },
  {
   "cell_type": "markdown",
   "id": "17472b7c",
   "metadata": {},
   "source": [
    "# 7-3: Multiples of Ten:\n",
    "Ask the user for a number and then report wheather the number is a multiple of 10 or not"
   ]
  },
  {
   "cell_type": "code",
   "execution_count": 17,
   "id": "f63939d2",
   "metadata": {},
   "outputs": [
    {
     "name": "stdout",
     "output_type": "stream",
     "text": [
      "Enter anumber for test: 40\n",
      "Number is a multiple of 10\n"
     ]
    }
   ],
   "source": [
    "testNumber = int(input(\"Enter anumber for test: \"))\n",
    "if number%10 == 0:\n",
    "    print(\"Number is a multiple of 10\")\n",
    "else:\n",
    "    print(\"Enter a number which is multiple of 10\")"
   ]
  },
  {
   "cell_type": "markdown",
   "id": "dc6ef393",
   "metadata": {},
   "source": [
    "# Introducing while loops"
   ]
  },
  {
   "cell_type": "code",
   "execution_count": null,
   "id": "ff028958",
   "metadata": {},
   "outputs": [],
   "source": [
    "# The while loop in action\n",
    "# you can use a while loop to count up through a series of numbers.\n",
    "# for example the following while loop counts from 1 to 5\n",
    "currentNumber = 1\n",
    "while currentNumber <= 5:\n",
    "    print(currentNumber)\n",
    "    currentNumber = currentNumber + 1"
   ]
  },
  {
   "cell_type": "code",
   "execution_count": null,
   "id": "6debb368",
   "metadata": {},
   "outputs": [],
   "source": [
    "x = 1\n",
    "while x <= 5;\n",
    "    print(x)\n",
    "    x += 1\n",
    "print(x)"
   ]
  },
  {
   "cell_type": "markdown",
   "id": "3e51717b",
   "metadata": {},
   "source": [
    "# 7-4: Pizza Toppings:\n",
    "Write a loop that prompts the use to enter a series of pizza toppings until they enter a \"quit\" value. As they enter each topping print a message saying you will add that topping to thier pizza."
   ]
  },
  {
   "cell_type": "code",
   "execution_count": 5,
   "id": "9f7eb551",
   "metadata": {},
   "outputs": [
    {
     "name": "stdout",
     "output_type": "stream",
     "text": [
      "Enter Quit:  dflkjd\n"
     ]
    },
    {
     "ename": "TypeError",
     "evalue": "'int' object is not iterable",
     "output_type": "error",
     "traceback": [
      "\u001b[1;31m---------------------------------------------------------------------------\u001b[0m",
      "\u001b[1;31mTypeError\u001b[0m                                 Traceback (most recent call last)",
      "Cell \u001b[1;32mIn[5], line 3\u001b[0m\n\u001b[0;32m      1\u001b[0m prompts \u001b[38;5;241m=\u001b[39m \u001b[38;5;28minput\u001b[39m(\u001b[38;5;124m\"\u001b[39m\u001b[38;5;124mEnter Quit:  \u001b[39m\u001b[38;5;124m\"\u001b[39m)\n\u001b[0;32m      2\u001b[0m pizza \u001b[38;5;241m=\u001b[39m []\n\u001b[1;32m----> 3\u001b[0m \u001b[38;5;28;01mfor\u001b[39;00m i \u001b[38;5;129;01min\u001b[39;00m \u001b[38;5;241m5\u001b[39m:\n\u001b[0;32m      4\u001b[0m     pizza\u001b[38;5;241m.\u001b[39madd[prompts]\n\u001b[0;32m      5\u001b[0m     \u001b[38;5;28mprint\u001b[39m(pizza)\n",
      "\u001b[1;31mTypeError\u001b[0m: 'int' object is not iterable"
     ]
    }
   ],
   "source": [
    "prompts = input(\"Enter Quit:  \")\n",
    "pizza = []"
   ]
  },
  {
   "cell_type": "markdown",
   "id": "69f1aef6",
   "metadata": {},
   "source": [
    "# 7-5: Movie Tickets: \n",
    "A movie theater charges different ticket prices depneding on a person's age. If a person in under the age of 3 the ticket is free if they are between 3 and 12 the ticket is $10 and if they are over age 12 the ticket is $15. Write a loop in which you ask users thier age and then tell them the cost of thier movie ticket."
   ]
  },
  {
   "cell_type": "code",
   "execution_count": null,
   "id": "7d5ce45c",
   "metadata": {},
   "outputs": [],
   "source": []
  },
  {
   "cell_type": "markdown",
   "id": "65f2d031",
   "metadata": {},
   "source": [
    "# 7-6: Three exits:\n",
    "Write different versions of either Exerciese 7.4 or 7.5 that do each of the following at least once.\n",
    "* Use a conditional test in the while statement to stop the loop\n",
    "* Use an active variable to control how long the lopp runs.\n",
    "* Use a break statement to exit the loop when the user enter's a \"quit\" value."
   ]
  },
  {
   "cell_type": "code",
   "execution_count": null,
   "id": "e697e3ae",
   "metadata": {},
   "outputs": [],
   "source": []
  },
  {
   "cell_type": "markdown",
   "id": "afb82a92",
   "metadata": {},
   "source": [
    "# 7-7. Infinity:\n",
    "Write a loop that never ends and run it."
   ]
  },
  {
   "cell_type": "code",
   "execution_count": null,
   "id": "83349d27",
   "metadata": {},
   "outputs": [],
   "source": []
  },
  {
   "cell_type": "code",
   "execution_count": null,
   "id": "e9d6929b",
   "metadata": {},
   "outputs": [],
   "source": []
  },
  {
   "cell_type": "code",
   "execution_count": null,
   "id": "d32d8d6c",
   "metadata": {},
   "outputs": [],
   "source": []
  },
  {
   "cell_type": "code",
   "execution_count": null,
   "id": "366559af",
   "metadata": {},
   "outputs": [],
   "source": []
  }
 ],
 "metadata": {
  "kernelspec": {
   "display_name": "Python 3 (ipykernel)",
   "language": "python",
   "name": "python3"
  },
  "language_info": {
   "codemirror_mode": {
    "name": "ipython",
    "version": 3
   },
   "file_extension": ".py",
   "mimetype": "text/x-python",
   "name": "python",
   "nbconvert_exporter": "python",
   "pygments_lexer": "ipython3",
   "version": "3.11.5"
  }
 },
 "nbformat": 4,
 "nbformat_minor": 5
}
