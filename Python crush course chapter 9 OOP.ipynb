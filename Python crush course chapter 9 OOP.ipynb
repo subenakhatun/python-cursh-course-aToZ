{
 "cells": [
  {
   "cell_type": "markdown",
   "id": "bd64b5c9",
   "metadata": {},
   "source": [
    "# OOP\n",
    "In object oriented programming you write classes that represent real-world things and situation and you create objects based on these classes."
   ]
  },
  {
   "cell_type": "markdown",
   "id": "baa0d7ed",
   "metadata": {},
   "source": [
    "### Creating the Dog class\n",
    "#### Each instance created from the dog class will store a nmae and an age and cechk each dog the ability to sit() and roll_over():"
   ]
  },
  {
   "cell_type": "code",
   "execution_count": 1,
   "id": "a2043cc8",
   "metadata": {},
   "outputs": [
    {
     "name": "stdout",
     "output_type": "stream",
     "text": [
      "My Dog name is : khalu and Age is: 6\n"
     ]
    }
   ],
   "source": [
    "class Dog:\n",
    "    \"\"\"A simple attempt to model a dog\"\"\"\n",
    "    def __init__(self, name, age):\n",
    "        \"\"\"Initialize name and age attributes\"\"\"\n",
    "        self.name = name\n",
    "        self.age = age\n",
    "    def sit(self):\n",
    "        \"\"\"Simulate a dog sitting in rsponse to a command\"\"\"\n",
    "        print(f\"{self.name} is now sitting.\")\n",
    "    def roll_over(self):\n",
    "        \"\"\"Simulate a dog rolling over in rsponse to a command\"\"\"\n",
    "        print(f\"{self.name} rolled over.\")\n",
    "# making an instance from a class\n",
    "my_dog = Dog(\"khalu\", 6)\n",
    "my_dog\n",
    "print(f\"My Dog name is : {my_dog.name} and Age is: {my_dog.age}\")"
   ]
  },
  {
   "cell_type": "code",
   "execution_count": 2,
   "id": "a134f13d",
   "metadata": {},
   "outputs": [
    {
     "name": "stdout",
     "output_type": "stream",
     "text": [
      "khalu is now sitting.\n",
      "khalu rolled over.\n"
     ]
    }
   ],
   "source": [
    "# calling methods:\n",
    "my_dog.sit()\n",
    "my_dog.roll_over()"
   ]
  },
  {
   "cell_type": "code",
   "execution_count": 3,
   "id": "b3450c78",
   "metadata": {},
   "outputs": [
    {
     "name": "stdout",
     "output_type": "stream",
     "text": [
      "Your Dog name is : Megi and Age is: 4\n"
     ]
    }
   ],
   "source": [
    "# creating Multiple  Instances\n",
    "your_dog = Dog(\"Megi\",4)\n",
    "print(f\"Your Dog name is : {your_dog.name} and Age is: {your_dog.age}\")"
   ]
  },
  {
   "cell_type": "markdown",
   "id": "ab035cce",
   "metadata": {},
   "source": [
    "## 9-1: Restaurant:\n",
    "Make a class called Restaurant. The __init__() method for Restaurant should store two attributes: a restaurant_name and a cuisine_type. Make a method called describe_restaurant() that print these two pieces of information and a method called open_restaurant() that prints a message indicating that the restaurant is open.<br>\n",
    "Make an instance called restaurant from your class. Print the two attributes individually and then call both methods.\n"
   ]
  },
  {
   "cell_type": "code",
   "execution_count": 4,
   "id": "db96993d",
   "metadata": {},
   "outputs": [
    {
     "name": "stdout",
     "output_type": "stream",
     "text": [
      "This Restaurnat name is: SSFoodCorder and this is the  Bangali Restaurant.\n",
      "The Restaurant is open.\n"
     ]
    }
   ],
   "source": [
    "class Restaurant:\n",
    "    def __init__(self, restaurant_name, cuisine_type):\n",
    "        self.restaurant_name =restaurant_name\n",
    "        self.cuisine_type = cuisine_type\n",
    "        \n",
    "    def describe_restaurant(self):\n",
    "        print(f\"This Restaurnat name is: {self.restaurant_name} and this is the  {self.cuisine_type} Restaurant.\")\n",
    "    \n",
    "    def open_restaurant(self):\n",
    "        print(\"The Restaurant is open.\")\n",
    "        \n",
    "# create instnces \n",
    "restaurant = Restaurant(\"SSFoodCorder\",\"Bangali\")\n",
    "restaurant.describe_restaurant()\n",
    "restaurant.open_restaurant()"
   ]
  },
  {
   "cell_type": "markdown",
   "id": "7eb3c2ec",
   "metadata": {},
   "source": [
    "## 9-2:Three Restaurant: \n",
    "Start with your class from 9-1 . create three different instances from theclass and call describe_restaurant() for each instance."
   ]
  },
  {
   "cell_type": "code",
   "execution_count": 5,
   "id": "2d7d6d2b",
   "metadata": {},
   "outputs": [
    {
     "name": "stdout",
     "output_type": "stream",
     "text": [
      "This Restaurnat name is: SSFoodCorder and this is the  Bangali Restaurant.\n",
      "This Restaurnat name is: BFC and this is the  Chainess Restaurant.\n",
      "This Restaurnat name is: Al-Arabian and this is the  Sweets Restaurant.\n"
     ]
    }
   ],
   "source": [
    "restaurant1 = Restaurant(\"SSFoodCorder\",\"Bangali\")\n",
    "restaurant1.describe_restaurant()\n",
    "\n",
    "restaurant2 = Restaurant(\"BFC\",\"Chainess\")\n",
    "restaurant2.describe_restaurant()\n",
    "\n",
    "restaurant3 = Restaurant(\"Al-Arabian\",\"Sweets\")\n",
    "restaurant3.describe_restaurant()"
   ]
  },
  {
   "cell_type": "markdown",
   "id": "94425310",
   "metadata": {},
   "source": [
    "## 9-3: USers:\n",
    "Make a class called User. Create two attributes called first_name and last_name and then create other attributes that are typically stored in a user profile. Make a method called describe_user() that prints a summary of the user's information. Make another method called greet_user() that prints a personalized greeting to the user.<br>\n",
    "Create several instances representing different users and call both methods for each user."
   ]
  },
  {
   "cell_type": "code",
   "execution_count": 6,
   "id": "04e0bbdc",
   "metadata": {},
   "outputs": [
    {
     "name": "stdout",
     "output_type": "stream",
     "text": [
      "First name of the User: Subena\n",
      "Last anme of the User: Khatun\n",
      "Welcome to the New world. \n",
      "\n",
      "First name of the User: Munirazzam\n",
      "Last anme of the User: Dhoha\n",
      "Welcome to the New world. \n",
      "\n",
      "First name of the User: Unknown\n",
      "Last anme of the User: Unknown\n",
      "Welcome to the New world. \n",
      "\n"
     ]
    }
   ],
   "source": [
    "class User:\n",
    "    def __init__(self, first_name, last_name):\n",
    "        self.first_name = first_name\n",
    "        self.last_name = last_name\n",
    "        \n",
    "    def describe_user(self):\n",
    "        print(f\"First name of the User: {self.first_name}\")\n",
    "        print(f\"Last anme of the User: {self.last_name}\")\n",
    "        \n",
    "    def greet_user(self):\n",
    "        print(\"Welcome to the New world. \\n\")\n",
    "\n",
    "user1 = User(\"Subena\", \"Khatun\") \n",
    "user1.describe_user()\n",
    "user1.greet_user()\n",
    "\n",
    "user2 = User(\"Munirazzam\", \"Dhoha\") \n",
    "user2.describe_user()\n",
    "user2.greet_user()\n",
    "\n",
    "user3 = User(\"Unknown\", \"Unknown\") \n",
    "user3.describe_user()\n",
    "user3.greet_user()"
   ]
  },
  {
   "cell_type": "code",
   "execution_count": 7,
   "id": "ff285316",
   "metadata": {},
   "outputs": [
    {
     "name": "stdout",
     "output_type": "stream",
     "text": [
      "2024 Audi A4\n"
     ]
    }
   ],
   "source": [
    "# Workig with Classes and Instances\n",
    "# The Car class\n",
    "\n",
    "class Car:\n",
    "    def __init__(self, make, model, year):\n",
    "        \"\"\"Initialize attributes to describe a car.\"\"\"\n",
    "        self.make = make\n",
    "        self.model = model\n",
    "        self.year = year\n",
    "    \n",
    "    def get_descriptive_name(self):\n",
    "        \"\"\"Return a neatly formatted dexriptive name.\"\"\"\n",
    "        long_name = f\"{self.year} {self.make} {self.model}\"\n",
    "        \n",
    "        return long_name.title()\n",
    "    \n",
    "    \n",
    "# Create object instance\n",
    "my_new_car = Car(\"audi\",\"a4\", 2024)\n",
    "print(my_new_car.get_descriptive_name())"
   ]
  },
  {
   "cell_type": "code",
   "execution_count": 8,
   "id": "79a6ef84",
   "metadata": {},
   "outputs": [
    {
     "name": "stdout",
     "output_type": "stream",
     "text": [
      "This car has 0 miles on it.\n"
     ]
    }
   ],
   "source": [
    "# Setting a Default Value for an Attribute\n",
    "class Car:\n",
    "    def __init__(self, make, model, year):\n",
    "        \"\"\"Initialize attributes to describe a car.\"\"\"\n",
    "        self.make = make\n",
    "        self.model = model\n",
    "        self.year = year\n",
    "        self.odometer_reading = 0\n",
    "    \n",
    "    def get_descriptive_name(self):\n",
    "        \"\"\"Return a neatly formatted dexriptive name.\"\"\"\n",
    "        long_name = f\"{self.year} {self.make} {self.model}\"\n",
    "        \n",
    "        return long_name.title()\n",
    "    \n",
    "    def read_odometer(self):\n",
    "        print(f\"This car has {self.odometer_reading} miles on it.\")\n",
    "    \n",
    "# Create object instance\n",
    "my_new_car = Car(\"audi\",\"a4\", 2024)\n",
    "my_new_car.read_odometer()"
   ]
  },
  {
   "cell_type": "code",
   "execution_count": 9,
   "id": "0e187cf9",
   "metadata": {},
   "outputs": [
    {
     "name": "stdout",
     "output_type": "stream",
     "text": [
      "This car has 23 miles on it.\n"
     ]
    }
   ],
   "source": [
    "# modifying attributes values\n",
    "my_new_car.odometer_reading = 23\n",
    "my_new_car.read_odometer()"
   ]
  },
  {
   "cell_type": "code",
   "execution_count": 10,
   "id": "6b0bdb1d",
   "metadata": {},
   "outputs": [
    {
     "name": "stdout",
     "output_type": "stream",
     "text": [
      "This car has 45 miles on it.\n"
     ]
    }
   ],
   "source": [
    "class Car:\n",
    "    def __init__(self, make, model, year):\n",
    "        \"\"\"Initialize attributes to describe a car.\"\"\"\n",
    "        self.make = make\n",
    "        self.model = model\n",
    "        self.year = year\n",
    "        self.odometer_reading = 0\n",
    "    \n",
    "    def get_descriptive_name(self):\n",
    "        \"\"\"Return a neatly formatted dexriptive name.\"\"\"\n",
    "        long_name = f\"{self.year} {self.make} {self.model}\"\n",
    "        \n",
    "        return long_name.title()\n",
    "    \n",
    "    def read_odometer(self):\n",
    "        print(f\"This car has {self.odometer_reading} miles on it.\")\n",
    "        \n",
    "    def update_odometers(self,mileges):\n",
    "        if mileges >= self.odometer_reading:\n",
    "            self.odometer_reading = mileges\n",
    "        else: \n",
    "            print(\"You can not roll back an odometer!\")\n",
    "    \n",
    "# Create object instance\n",
    "my_new_car = Car(\"audi\",\"a4\", 2024)\n",
    "my_new_car.update_odometers(45)\n",
    "my_new_car.read_odometer()"
   ]
  },
  {
   "cell_type": "code",
   "execution_count": 11,
   "id": "b7fd2cc9",
   "metadata": {},
   "outputs": [
    {
     "name": "stdout",
     "output_type": "stream",
     "text": [
      "You can not roll back an odometer!\n"
     ]
    }
   ],
   "source": [
    "my_new_car.update_odometers(14)"
   ]
  },
  {
   "cell_type": "code",
   "execution_count": 12,
   "id": "cc4339a5",
   "metadata": {},
   "outputs": [
    {
     "name": "stdout",
     "output_type": "stream",
     "text": [
      "This car has 995 miles on it.\n"
     ]
    }
   ],
   "source": [
    "# Incrementing an Attributes Value Through a Method\n",
    "class Car:\n",
    "    def __init__(self, make, model, year):\n",
    "        \"\"\"Initialize attributes to describe a car.\"\"\"\n",
    "        self.make = make\n",
    "        self.model = model\n",
    "        self.year = year\n",
    "        self.odometer_reading = 0\n",
    "    \n",
    "    def get_descriptive_name(self):\n",
    "        \"\"\"Return a neatly formatted dexriptive name.\"\"\"\n",
    "        long_name = f\"{self.year} {self.make} {self.model}\"\n",
    "        \n",
    "        return long_name.title()\n",
    "    \n",
    "    def read_odometer(self):\n",
    "        print(f\"This car has {self.odometer_reading} miles on it.\")\n",
    "        \n",
    "    def update_odometers(self,mileges):\n",
    "        if mileges >= self.odometer_reading:\n",
    "            self.odometer_reading = mileges\n",
    "        else: \n",
    "            print(\"You can not roll back an odometer!\")\n",
    "    def increment_odometer(self,miles):\n",
    "        self.odometer_reading += miles\n",
    "    \n",
    "# Create object instance\n",
    "my_new_car = Car(\"audi\",\"a4\", 2024)\n",
    "my_new_car.update_odometers(895)\n",
    "\n",
    "my_new_car.increment_odometer(100)\n",
    "my_new_car.read_odometer()"
   ]
  },
  {
   "cell_type": "markdown",
   "id": "37566243",
   "metadata": {},
   "source": []
  },
  {
   "cell_type": "code",
   "execution_count": null,
   "id": "7e5d8546",
   "metadata": {},
   "outputs": [],
   "source": []
  },
  {
   "cell_type": "markdown",
   "id": "302a7891",
   "metadata": {},
   "source": [
    "## 9-4: Number Served:\n",
    "Start with your program from ex9-1 Add an attribute called number_served with a default value of ). Create an instance called restaurant from this class. Print the number of customers the restaurant has served and then changes this value and print it again. <br>\n",
    "Add a method called set_number_srved() that lest you set the number of customers that have been served. Call this method with a new number and print the value again. <br>\n",
    "Add a method called increment_number_served() that lets you increment the number of customers who have been served. Call the method with any number you like that could represnt how many customers were served in sa a day of business."
   ]
  },
  {
   "cell_type": "code",
   "execution_count": 13,
   "id": "d70e6114",
   "metadata": {},
   "outputs": [
    {
     "name": "stdout",
     "output_type": "stream",
     "text": [
      "This Restaurnat name is: SSFoodCorder\n",
      "and this is the  Bangali  Restaurant.\n",
      "total served customer in the retaurant 40\n"
     ]
    }
   ],
   "source": [
    "class Restaurant:\n",
    "    def __init__(self, restaurant_name, cuisine_type, number_served):\n",
    "        self.restaurant_name =restaurant_name\n",
    "        self.cuisine_type = cuisine_type\n",
    "        self.number_served = 0\n",
    "    \n",
    "    def describe_restaurant(self):\n",
    "        print(f\"This Restaurnat name is: {self.restaurant_name}\")\n",
    "        print(f\"and this is the  {self.cuisine_type}  Restaurant.\")\n",
    "        print(f\"total served customer in the retaurant {self.number_served}\")\n",
    "    \n",
    "    def open_restaurant(self):\n",
    "        print(\"The Restaurant is open.\")\n",
    "        \n",
    "    def increment_served(self,number):\n",
    "        if number >= self.number_served:\n",
    "            self.number_served = number\n",
    "            self.number_served += number\n",
    "        \n",
    "# create instnces \n",
    "restaurant = Restaurant(\"SSFoodCorder\",\"Bangali\", 10)\n",
    "\n",
    "restaurant.increment_served(20)\n",
    "restaurant.describe_restaurant()"
   ]
  },
  {
   "cell_type": "markdown",
   "id": "b9447114",
   "metadata": {},
   "source": [
    "\n",
    "\n",
    "## 9-5: Login Attempts:\n",
    "Add an attribute called login_attempts to your user class from ex 9-3 . Write a method called increment_login_attempts() that increments the value of login_attempts by 1. Write another method called reset_login_attempts() that resets the value of login_attempts to 0. <br>\n",
    "MAke an instance of the User class and call increment_login_attempts() several times. Print the value of login_attempts(). Print login_attempts again to make sure it was reset to 0."
   ]
  },
  {
   "cell_type": "code",
   "execution_count": 14,
   "id": "f79b9183",
   "metadata": {},
   "outputs": [],
   "source": [
    "# try it agian\n",
    "class User:\n",
    "    def __init__(self, first_name, last_name, login_attemps):\n",
    "        self.first_name = first_name\n",
    "        self.last_name = last_name\n",
    "        self.login_attemps = login_attemps\n",
    "        \n",
    "    def describe_user(self):\n",
    "        print(f\"First name of the User: {self.first_name}\")\n",
    "        print(f\"Last anme of the User: {self.last_name}\")\n",
    "        \n",
    "    def greet_user(self):\n",
    "        print(\"Welcome to the New world. \\n\")\n",
    "    \n",
    "#     def increment_login_attmps(self):\n",
    "#         self.login_attemps = 1\n",
    "#         def reset_attempts(self):\n",
    "#             self.login_attemps = 0\n",
    "#             print(self.login_attemps)\n",
    "\n",
    "user1 = User(\"Subena\", \"Khatun\", 1) \n",
    "# user1.increment_login_attmps()\n",
    "# user1.increment_login_attmps()"
   ]
  },
  {
   "cell_type": "markdown",
   "id": "db837a06",
   "metadata": {},
   "source": [
    "### Ingeritance\n",
    "If the class you are witing is a specialized version of another class yoy wrote you can use inheritance.<br>\n",
    "When one class inherits from another it takes on the attributes and methods of the first class. <br>\n",
    "The orginal class can inherit any or all of the attributes and methods of the class. <br>\n",
    "The original class is called the parent class and the new class ids the child class. <br>\n",
    "The child class can inherit any or all of the attributes and methods of its parent class but it's a;so free to define new attributes and methods of its own.\n",
    "\n",
    "#### The __init__() method for a child class:\n",
    "When you are a new class based on an existing class, you will often want to call the __init__() method from the parent class. This will initialize any attributes that were defined in the parent __init__() method and make them avaialeble in the child class."
   ]
  },
  {
   "cell_type": "code",
   "execution_count": 15,
   "id": "d65e311b",
   "metadata": {},
   "outputs": [
    {
     "name": "stdout",
     "output_type": "stream",
     "text": [
      "2024 Nissan Leaf\n"
     ]
    }
   ],
   "source": [
    "# simple version of elecrical class\n",
    "class Car:\n",
    "    def __init__(self, make, model, year):\n",
    "        \"\"\"Initialize attributes to describe a car.\"\"\"\n",
    "        self.make = make\n",
    "        self.model = model\n",
    "        self.year = year\n",
    "        self.odometer_reading = 0\n",
    "    \n",
    "    def get_descriptive_name(self):\n",
    "        \"\"\"Return a neatly formatted dexriptive name.\"\"\"\n",
    "        long_name = f\"{self.year} {self.make} {self.model}\"\n",
    "        return long_name.title()\n",
    "    \n",
    "    def read_odometer(self):\n",
    "        print(f\"This car has {self.odometer_reading} miles on it.\")\n",
    "        \n",
    "    def update_odometers(self,mileges):\n",
    "        if mileges >= self.odometer_reading:\n",
    "            self.odometer_reading = mileges\n",
    "        else: \n",
    "            print(\"You can not roll back an odometer!\")\n",
    "    def increment_odometer(self,miles):\n",
    "        self.odometer_reading += miles\n",
    "\n",
    "# elecrical class\n",
    "class ElectricCar(Car):\n",
    "    def __init__(self, make, model, year):\n",
    "        \"\"\"initialize attributes of the parent class\"\"\"\n",
    "        super().__init__(make, model, year)\n",
    "\n",
    "myelectirc = ElectricCar(\"nissan\", \"leaf\", 2024)\n",
    "print(myelectirc.get_descriptive_name())"
   ]
  },
  {
   "cell_type": "markdown",
   "id": "bff5028e",
   "metadata": {},
   "source": [
    "### Defining Attributes and methods for the child class\n",
    "once you have a child class that inherits from a parent class, you can add any new attributes and methods necessary to differentiate the child class from the parent class."
   ]
  },
  {
   "cell_type": "code",
   "execution_count": 16,
   "id": "234ae99b",
   "metadata": {},
   "outputs": [
    {
     "name": "stdout",
     "output_type": "stream",
     "text": [
      "This car has a 40 - kwh battery.\n",
      "None\n"
     ]
    }
   ],
   "source": [
    "class Car:\n",
    "    def __init__(self, make, model, year):\n",
    "        \"\"\"Initialize attributes to describe a car.\"\"\"\n",
    "        self.make = make\n",
    "        self.model = model\n",
    "        self.year = year\n",
    "        self.odometer_reading = 0\n",
    "    \n",
    "    def get_descriptive_name(self):\n",
    "        \"\"\"Return a neatly formatted dexriptive name.\"\"\"\n",
    "        long_name = f\"{self.year} {self.make} {self.model}\"\n",
    "        return long_name.title()\n",
    "    \n",
    "    def read_odometer(self):\n",
    "        print(f\"This car has {self.odometer_reading} miles on it.\")\n",
    "        \n",
    "    def update_odometers(self,mileges):\n",
    "        if mileges >= self.odometer_reading:\n",
    "            self.odometer_reading = mileges\n",
    "        else: \n",
    "            print(\"You can not roll back an odometer!\")\n",
    "    def increment_odometer(self,miles):\n",
    "        self.odometer_reading += miles\n",
    "\n",
    "# elecrical class\n",
    "class ElectricCar(Car):\n",
    "    def __init__(self, make, model, year):\n",
    "        \"\"\"initialize attributes of the parent class\"\"\"\n",
    "        super().__init__(make, model, year)\n",
    "        # change attribute values\n",
    "        self.battery_size = 40\n",
    "    \n",
    "    def describe_battery(self):\n",
    "        print(f\"This car has a {self.battery_size} - kwh battery.\")\n",
    "    \n",
    "    \n",
    "myelectirc = ElectricCar(\"nissan\", \"leaf\", 2024)\n",
    "print(myelectirc.describe_battery())"
   ]
  },
  {
   "cell_type": "markdown",
   "id": "20b19b02",
   "metadata": {},
   "source": [
    "### instances as Attributes\n",
    "When modeling something from the real world in code, you may find that you are adding more and more detail to a class. you will find that you have a growing list of attributes and methods and that your files are becoming lengthy. In these situations you might recognize that part of one class can be written as a sepearte class. you can break large class into smaller classes that wirk together this approach is called composition."
   ]
  },
  {
   "cell_type": "code",
   "execution_count": 17,
   "id": "f4fa7d4a",
   "metadata": {},
   "outputs": [
    {
     "name": "stdout",
     "output_type": "stream",
     "text": [
      "This car has a 0-kwh battery\n",
      "This car can go about<class 'range'> miles on a full charge.\n"
     ]
    }
   ],
   "source": [
    "class Car:\n",
    "    def __init__(self, make, model, year):\n",
    "        \"\"\"Initialize attributes to describe a car.\"\"\"\n",
    "        self.make = make\n",
    "        self.model = model\n",
    "        self.year = year\n",
    "        self.odometer_reading = 0\n",
    "    \n",
    "#     def get_descriptive_name(self):\n",
    "#         \"\"\"Return a neatly formatted dexriptive name.\"\"\"\n",
    "#         long_name = f\"{self.year} {self.make} {self.model}\"\n",
    "#         return long_name.title()\n",
    "    \n",
    "#     def read_odometer(self):\n",
    "#         print(f\"This car has {self.odometer_reading} miles on it.\")\n",
    "        \n",
    "#     def update_odometers(self,mileges):\n",
    "#         if mileges >= self.odometer_reading:\n",
    "#             self.odometer_reading = mileges\n",
    "#         else: \n",
    "#             print(\"You can not roll back an odometer!\")\n",
    "#     def increment_odometer(self,miles):\n",
    "#         self.odometer_reading += miles\n",
    "\n",
    "        \n",
    "# Battary class\n",
    "class Battary:\n",
    "    def __init__(self,battery_size = 0):\n",
    "        self.battery_size = battery_size\n",
    "    \n",
    "    def describe_battery(self):\n",
    "        print(f\"This car has a {self.battery_size}-kwh battery\")\n",
    "    \n",
    "    def get_range(self):\n",
    "        \"\"\"Print a statement about the range this battery provides.\"\"\"\n",
    "        if self.battery_size == 40:\n",
    "            self.range = 150\n",
    "        elif self.battery_size == 65:\n",
    "            self.range = 225\n",
    "        print(f\"This car can go about{range} miles on a full charge.\")\n",
    "        \n",
    "# elecrical class\n",
    "class ElectricCar(Car):\n",
    "    def __init__(self, make, model, year):\n",
    "        \"\"\"initialize attributes of the parent class\"\"\"\n",
    "        super().__init__(make, model, year)\n",
    "        # change attribute values\n",
    "        self.battery_size = 40\n",
    "        self.range = range\n",
    "        # add Battary class as attributes\n",
    "        self.battary = Battary()\n",
    "    \n",
    "    \n",
    "myelectirc = ElectricCar(\"nissan\", \"leaf\", 2024)\n",
    "myelectirc.battary.describe_battery()\n",
    "myelectirc.battary.get_range()"
   ]
  },
  {
   "cell_type": "markdown",
   "id": "48bb5c49",
   "metadata": {},
   "source": []
  },
  {
   "cell_type": "markdown",
   "id": "97dd1f6c",
   "metadata": {},
   "source": [
    "## 9-6: ice cream stand:\n",
    "An ice cream is a specific kind of restaurant. Write a calss called IceCreamStand that inherits from the Restaurant class you worte in ex9-1 or 9-4. Either version of the class will work just pick the one you like better. Add an attribute called flavours that stores a list of ice cream falvours. Write a method that displys these flavours. Create an instance of IceCreamStand and call this method.\n"
   ]
  },
  {
   "cell_type": "code",
   "execution_count": 18,
   "id": "c234a3d5",
   "metadata": {},
   "outputs": [
    {
     "name": "stdout",
     "output_type": "stream",
     "text": [
      "list1\n",
      "list2\n",
      "list3\n"
     ]
    }
   ],
   "source": [
    "# Restaurant class\n",
    "class Restaurant:\n",
    "    def __init__(self):\n",
    "        self.name = 1\n",
    "        self.falvours = [\"list1\",\"list2\",\"list3\"]\n",
    "restarunt =  Restaurant()  \n",
    "\n",
    "\n",
    "# IceCreamStand class\n",
    "class IceCreamStand(Restaurant):\n",
    "    def __init__(self):\n",
    "        super().__init__()\n",
    "    \n",
    "    def falovours(self):\n",
    "        for falvour in self.falvours:\n",
    "            print(falvour)\n",
    "icecream = IceCreamStand()\n",
    "icecream.falovours()\n",
    "    "
   ]
  },
  {
   "cell_type": "markdown",
   "id": "1c5e1429",
   "metadata": {},
   "source": [
    "## 9-7. Admin: \n",
    "An administaration is a special kind of user. Write a class called Admin that inherits from the User class you worte in ex 9-3 or ex 9-5. Add an attribute privilegs that stores a list of strings like \"can add post\", \"can delete post\",\"can ban user\" and so on.<br>\n",
    "Write a method called show_privileges() that lists the administrations set of privileges. Create an instance of Admin and call your method."
   ]
  },
  {
   "cell_type": "code",
   "execution_count": 19,
   "id": "82a9b0b5",
   "metadata": {},
   "outputs": [
    {
     "name": "stdout",
     "output_type": "stream",
     "text": [
      "can add post\n",
      "can delete post\n",
      "can ban user\n"
     ]
    }
   ],
   "source": [
    "class User:\n",
    "    def __init__(self):\n",
    "        self.priviling = [\"can add post\", \"can delete post\", \"can ban user\"]\n",
    "        \n",
    "#     def describe_user(self):\n",
    "#         print(f\"First name of the User: {self.first_name}\")\n",
    "#         print(f\"Last anme of the User: {self.last_name}\")\n",
    "        \n",
    "#     def greet_user(self):\n",
    "#         print(\"Welcome to the New world. \\n\")\n",
    "\n",
    "        \n",
    "        \n",
    "# Admin class and use user \n",
    "class Admin(User):\n",
    "    def __init__(self):\n",
    "        super().__init__()\n",
    "        \n",
    "    def show_privileges(self):\n",
    "        for privi in self.priviling :\n",
    "            print(privi)\n",
    "\n",
    "user1 = User() \n",
    "\n",
    "admin = Admin()\n",
    "admin.show_privileges()\n"
   ]
  },
  {
   "cell_type": "markdown",
   "id": "031ceee2",
   "metadata": {},
   "source": [
    "## 9-8: Privileges:\n",
    "Write a separate Privileges class. The class should have one attribute privileges that stores a list of strings as described in ex 9-7. Move the show_privilegs() method to this class. Make a Privileges instacne as an attribute in the Admin class. Create a new instance ofAdmin and use your method to show its privileges."
   ]
  },
  {
   "cell_type": "code",
   "execution_count": 20,
   "id": "505fba23",
   "metadata": {},
   "outputs": [],
   "source": [
    "# Privileges class\n",
    "# class Privileges:\n",
    "#     def __init__(self, privileges = 0):\n",
    "#         self.privileges = privileges"
   ]
  },
  {
   "cell_type": "markdown",
   "id": "af2d557a",
   "metadata": {},
   "source": [
    "\n",
    "## 9-9. BAttery Upgrade.\n",
    "Use the final version of electric_car.ipy from this section. Add a method to the Battery class called upgrade_batter(). This method should check the battery size and set the capacity to 65 if it is not already. Make an electric car with a default battery size call get_range() once and then call get_range() a secod time after upgrading the battery. You should see on increse in the car's range."
   ]
  },
  {
   "cell_type": "code",
   "execution_count": null,
   "id": "863f0b15",
   "metadata": {},
   "outputs": [],
   "source": []
  },
  {
   "cell_type": "code",
   "execution_count": null,
   "id": "72319748",
   "metadata": {},
   "outputs": [],
   "source": []
  },
  {
   "cell_type": "code",
   "execution_count": null,
   "id": "3f4d814c",
   "metadata": {},
   "outputs": [],
   "source": []
  },
  {
   "cell_type": "markdown",
   "id": "146274c1",
   "metadata": {},
   "source": [
    "## 9-10: Imported Restaurant:\n",
    "Using your latest Restarant class, store it in a module. Make a separate file that imports Restaurant. Make a Restaurant instance and call one Restaurants methods to show that the import statement is working properly.\n",
    "\n",
    "## 9-11. Imported Admin:\n",
    "start with your work from ex 9-8 . Stre the classes User , Privileges and Admin in one module and store the Privileges and Admin instance and call show_privileges() to show that everything is working correctly.\n",
    "\n",
    "## 9-12: Multiple Modules: \n",
    "Store the User class in one module and store the Privilegs and Admin classes ia a seperate module . In a seperate file, create an Admin instance and call show_privileges() to show that everything is still working correctly."
   ]
  },
  {
   "cell_type": "code",
   "execution_count": null,
   "id": "c8ef1c2a",
   "metadata": {},
   "outputs": [],
   "source": []
  },
  {
   "cell_type": "code",
   "execution_count": null,
   "id": "dfd4d577",
   "metadata": {},
   "outputs": [],
   "source": []
  },
  {
   "cell_type": "code",
   "execution_count": null,
   "id": "2b3e6172",
   "metadata": {},
   "outputs": [],
   "source": []
  },
  {
   "cell_type": "code",
   "execution_count": null,
   "id": "74528006",
   "metadata": {},
   "outputs": [],
   "source": []
  },
  {
   "cell_type": "code",
   "execution_count": null,
   "id": "171a3c85",
   "metadata": {},
   "outputs": [],
   "source": []
  },
  {
   "cell_type": "code",
   "execution_count": null,
   "id": "8b4fc3b2",
   "metadata": {},
   "outputs": [],
   "source": []
  },
  {
   "cell_type": "markdown",
   "id": "42d3fc4c",
   "metadata": {},
   "source": [
    "## 9-13: Dice:\n",
    "MAke a class Die with one attribute called sides, which has a default value 6. Write a method called roll_die() that prints a random number between 1 and the number of sides the die has. MAke a 6 sided die and roll it 10 times. <br>\n",
    "MAke a 10 sided die and a 20 sided die. roll each die 10 times.\n",
    "\n",
    "## 9-14. Lottery.\n",
    "MAke a list or tuple containing a series of 10 numbers and 5 letters. Randomly select 4 numbers or letters frm the list and print a message saying that any ticket matching these 4 numbers or letters wins a prize.\n",
    "\n",
    "## 9-15: Lottery Analysis:\n",
    "You can use a loop to see how hard it might be to win the kind of lottery you just modeled. MAke a list tor tuple called my_ticket. Write a loop that keeps pulling numbers until your ticket wins. Print a message repoting how many times th eloop had to run to give you a winning ticket.\n",
    "\n",
    "## 9-16. Python Module of the week.\n",
    "One excellent resource for exploring the Python standard library is a site called Python MOdule of the Week. Go to hhtps://pymotw.com and look at the table of contents . Find a module that looks interesting to you and read about it perhaps starting with the random module."
   ]
  },
  {
   "cell_type": "code",
   "execution_count": null,
   "id": "db679467",
   "metadata": {},
   "outputs": [],
   "source": []
  },
  {
   "cell_type": "code",
   "execution_count": null,
   "id": "10152312",
   "metadata": {},
   "outputs": [],
   "source": []
  },
  {
   "cell_type": "code",
   "execution_count": null,
   "id": "781afcf6",
   "metadata": {},
   "outputs": [],
   "source": []
  },
  {
   "cell_type": "code",
   "execution_count": null,
   "id": "745d2462",
   "metadata": {},
   "outputs": [],
   "source": []
  },
  {
   "cell_type": "code",
   "execution_count": null,
   "id": "50b282eb",
   "metadata": {},
   "outputs": [],
   "source": []
  },
  {
   "cell_type": "code",
   "execution_count": null,
   "id": "79a03413",
   "metadata": {},
   "outputs": [],
   "source": []
  },
  {
   "cell_type": "code",
   "execution_count": null,
   "id": "e0e62935",
   "metadata": {},
   "outputs": [],
   "source": []
  },
  {
   "cell_type": "code",
   "execution_count": null,
   "id": "9cd692f7",
   "metadata": {},
   "outputs": [],
   "source": []
  }
 ],
 "metadata": {
  "kernelspec": {
   "display_name": "Python 3 (ipykernel)",
   "language": "python",
   "name": "python3"
  },
  "language_info": {
   "codemirror_mode": {
    "name": "ipython",
    "version": 3
   },
   "file_extension": ".py",
   "mimetype": "text/x-python",
   "name": "python",
   "nbconvert_exporter": "python",
   "pygments_lexer": "ipython3",
   "version": "3.11.5"
  }
 },
 "nbformat": 4,
 "nbformat_minor": 5
}
