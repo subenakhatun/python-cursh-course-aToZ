{
 "cells": [
  {
   "cell_type": "code",
   "execution_count": 1,
   "id": "4d54599f",
   "metadata": {},
   "outputs": [
    {
     "name": "stdout",
     "output_type": "stream",
     "text": [
      "Hello World\n"
     ]
    }
   ],
   "source": [
    "print(\"Hello World\")"
   ]
  },
  {
   "cell_type": "markdown",
   "id": "5c167a2b",
   "metadata": {},
   "source": [
    "2-1. Simple Message: Assign a message to a varibale and then print that messasge."
   ]
  },
  {
   "cell_type": "code",
   "execution_count": 2,
   "id": "d5d8d54c",
   "metadata": {},
   "outputs": [
    {
     "name": "stdout",
     "output_type": "stream",
     "text": [
      "Today is the Raida's Biryday.\n"
     ]
    }
   ],
   "source": [
    "message = \"Today is the Raida's Biryday.\"\n",
    "print(message)"
   ]
  },
  {
   "cell_type": "markdown",
   "id": "95584146",
   "metadata": {},
   "source": [
    "2-2. Simple Messages: Assign a messages to a varaible and print that message. Then change the value of the varaible to a new message and print the new message."
   ]
  },
  {
   "cell_type": "code",
   "execution_count": 3,
   "id": "f46706a4",
   "metadata": {},
   "outputs": [
    {
     "name": "stdout",
     "output_type": "stream",
     "text": [
      "Raida is my daughter. But now she always ignore me. Why i don't know. it's hurt me.\n"
     ]
    }
   ],
   "source": [
    "new_message = \"Raida is my daughter. But now she always ignore me. Why i don't know. it's hurt me.\"\n",
    "print(new_message)"
   ]
  },
  {
   "cell_type": "markdown",
   "id": "6e5dcecf",
   "metadata": {},
   "source": [
    "# Introducing Lists\n",
    "What is list: \n",
    "A list is a collection of items in a particular order. I can make a list that includes the letters of the alphabet, the digits from 0-9 or the names of all the people in my family.\n",
    "List identify by [] brackets and list ar mutable menas can change ."
   ]
  },
  {
   "cell_type": "code",
   "execution_count": 4,
   "id": "8c3e1276",
   "metadata": {},
   "outputs": [
    {
     "name": "stdout",
     "output_type": "stream",
     "text": [
      "['trek', 'cannodale', 'redline', 'specialized']\n"
     ]
    }
   ],
   "source": [
    "#  bycyles list\n",
    "bicycles = ['trek','cannodale','redline','specialized']\n",
    "print(bicycles)"
   ]
  },
  {
   "cell_type": "code",
   "execution_count": 5,
   "id": "78a7d161",
   "metadata": {},
   "outputs": [
    {
     "name": "stdout",
     "output_type": "stream",
     "text": [
      "redline\n"
     ]
    }
   ],
   "source": [
    "# Accessinf Elements in a list\n",
    "# Index position always start at 0 not 1 . so becarful\n",
    "print(bicycles[2]) # redline will be show"
   ]
  },
  {
   "cell_type": "code",
   "execution_count": 6,
   "id": "c5576dff",
   "metadata": {},
   "outputs": [
    {
     "name": "stdout",
     "output_type": "stream",
     "text": [
      "Cannodale\n"
     ]
    }
   ],
   "source": [
    "print(bicycles[1].title()) # It show as a title format"
   ]
  },
  {
   "cell_type": "code",
   "execution_count": 7,
   "id": "1ac020a0",
   "metadata": {},
   "outputs": [
    {
     "name": "stdout",
     "output_type": "stream",
     "text": [
      "Specialized\n"
     ]
    }
   ],
   "source": [
    "# Python has a special syntax for accessing the last elements in a list. -1\n",
    "print(bicycles[-1].title())"
   ]
  },
  {
   "cell_type": "code",
   "execution_count": 8,
   "id": "d058a8dc",
   "metadata": {},
   "outputs": [
    {
     "name": "stdout",
     "output_type": "stream",
     "text": [
      "My First bicyle was a Cannodale\n"
     ]
    }
   ],
   "source": [
    "# Using Individual values from a list\n",
    "message = f\"My First bicyle was a {bicycles[1].title()}\"\n",
    "print(message)"
   ]
  },
  {
   "cell_type": "code",
   "execution_count": 9,
   "id": "490f0840",
   "metadata": {},
   "outputs": [
    {
     "name": "stdout",
     "output_type": "stream",
     "text": [
      "My First bicyle was a {bicycles[1].title()}\n"
     ]
    }
   ],
   "source": [
    "# if i don't use f-format what will be it's output? output just show me as a string.\n",
    "message = \"My First bicyle was a {bicycles[1].title()}\"\n",
    "print(message)"
   ]
  },
  {
   "cell_type": "markdown",
   "id": "162b1009",
   "metadata": {},
   "source": [
    "# 3-1.Names: Store the names of a few of your friends in a list called names. Print each person's name by accessing element in the list , one at a time"
   ]
  },
  {
   "cell_type": "code",
   "execution_count": 10,
   "id": "d7d98adb",
   "metadata": {},
   "outputs": [
    {
     "name": "stdout",
     "output_type": "stream",
     "text": [
      "['Subena', 'tajmun nahar', 'rumi', 'popy', 'pinky', 'farzana', 'rahena', 'shuli']\n"
     ]
    }
   ],
   "source": [
    "FriendsName = ['Subena','tajmun nahar','rumi','popy','pinky','farzana','rahena','shuli']\n",
    "print(FriendsName)"
   ]
  },
  {
   "cell_type": "code",
   "execution_count": 11,
   "id": "15e7c920",
   "metadata": {},
   "outputs": [
    {
     "name": "stdout",
     "output_type": "stream",
     "text": [
      "Subena\n"
     ]
    }
   ],
   "source": [
    "print(FriendsName[0].title())"
   ]
  },
  {
   "cell_type": "code",
   "execution_count": 12,
   "id": "ec3487cc",
   "metadata": {},
   "outputs": [
    {
     "name": "stdout",
     "output_type": "stream",
     "text": [
      "Tajmun Nahar\n"
     ]
    }
   ],
   "source": [
    "print(FriendsName[1].title())"
   ]
  },
  {
   "cell_type": "code",
   "execution_count": 13,
   "id": "74d7a5c7",
   "metadata": {},
   "outputs": [
    {
     "name": "stdout",
     "output_type": "stream",
     "text": [
      "Rumi\n"
     ]
    }
   ],
   "source": [
    "print(FriendsName[2].title())"
   ]
  },
  {
   "cell_type": "code",
   "execution_count": 14,
   "id": "59cb51d2",
   "metadata": {},
   "outputs": [
    {
     "name": "stdout",
     "output_type": "stream",
     "text": [
      "Popy\n"
     ]
    }
   ],
   "source": [
    "print(FriendsName[3].title())"
   ]
  },
  {
   "cell_type": "code",
   "execution_count": 15,
   "id": "7ac62469",
   "metadata": {},
   "outputs": [
    {
     "name": "stdout",
     "output_type": "stream",
     "text": [
      "Pinky\n"
     ]
    }
   ],
   "source": [
    "print(FriendsName[4].title())"
   ]
  },
  {
   "cell_type": "code",
   "execution_count": 16,
   "id": "a50b9841",
   "metadata": {},
   "outputs": [
    {
     "name": "stdout",
     "output_type": "stream",
     "text": [
      "Farzana\n"
     ]
    }
   ],
   "source": [
    "print(FriendsName[5].title())"
   ]
  },
  {
   "cell_type": "code",
   "execution_count": 17,
   "id": "920ab6f2",
   "metadata": {},
   "outputs": [
    {
     "name": "stdout",
     "output_type": "stream",
     "text": [
      "Rahena\n"
     ]
    }
   ],
   "source": [
    "print(FriendsName[6].title())"
   ]
  },
  {
   "cell_type": "code",
   "execution_count": 18,
   "id": "3b10001f",
   "metadata": {},
   "outputs": [
    {
     "name": "stdout",
     "output_type": "stream",
     "text": [
      "Shuli\n"
     ]
    }
   ],
   "source": [
    "print(FriendsName[7].title())"
   ]
  },
  {
   "cell_type": "code",
   "execution_count": 19,
   "id": "0968d902",
   "metadata": {},
   "outputs": [
    {
     "name": "stdout",
     "output_type": "stream",
     "text": [
      "Shuli\n"
     ]
    }
   ],
   "source": [
    "print(FriendsName[-1].title())"
   ]
  },
  {
   "cell_type": "markdown",
   "id": "09b0031a",
   "metadata": {},
   "source": [
    "# 3-2: Greetings: Start with list used in 3-1, but instead of just printing each person's name, print a message to them. The text of each message should be the same, but each should be personalized with the person's name."
   ]
  },
  {
   "cell_type": "code",
   "execution_count": 20,
   "id": "90d86c2b",
   "metadata": {},
   "outputs": [
    {
     "name": "stdout",
     "output_type": "stream",
     "text": [
      " Subena are my best friends and you ar my comfort zone.\n"
     ]
    }
   ],
   "source": [
    "message=f\" {FriendsName[0].title()} are my best friends and you ar my comfort zone.\"\n",
    "print(message)"
   ]
  },
  {
   "cell_type": "code",
   "execution_count": 21,
   "id": "4eb3bd18",
   "metadata": {},
   "outputs": [
    {
     "name": "stdout",
     "output_type": "stream",
     "text": [
      " Tajmun Nahar are my best friends and you ar my comfort zone.\n"
     ]
    }
   ],
   "source": [
    "message=f\" {FriendsName[1].title()} are my best friends and you ar my comfort zone.\"\n",
    "print(message)"
   ]
  },
  {
   "cell_type": "code",
   "execution_count": 22,
   "id": "b557ca92",
   "metadata": {},
   "outputs": [
    {
     "name": "stdout",
     "output_type": "stream",
     "text": [
      " Rumi are my best friends and you ar my comfort zone.\n"
     ]
    }
   ],
   "source": [
    "message=f\" {FriendsName[2].title()} are my best friends and you ar my comfort zone.\"\n",
    "print(message)"
   ]
  },
  {
   "cell_type": "code",
   "execution_count": 23,
   "id": "f0a3de35",
   "metadata": {},
   "outputs": [
    {
     "name": "stdout",
     "output_type": "stream",
     "text": [
      " Popy are my best friends and you ar my comfort zone.\n"
     ]
    }
   ],
   "source": [
    "message=f\" {FriendsName[3].title()} are my best friends and you ar my comfort zone.\"\n",
    "print(message)"
   ]
  },
  {
   "cell_type": "code",
   "execution_count": 24,
   "id": "4c075f4f",
   "metadata": {},
   "outputs": [
    {
     "name": "stdout",
     "output_type": "stream",
     "text": [
      " Pinky are my best friends and you ar my comfort zone.\n"
     ]
    }
   ],
   "source": [
    "message=f\" {FriendsName[4].title()} are my best friends and you ar my comfort zone.\"\n",
    "print(message)"
   ]
  },
  {
   "cell_type": "code",
   "execution_count": 25,
   "id": "df23a3ad",
   "metadata": {},
   "outputs": [
    {
     "name": "stdout",
     "output_type": "stream",
     "text": [
      " Farzana are my best friends and you ar my comfort zone.\n"
     ]
    }
   ],
   "source": [
    "message=f\" {FriendsName[5].title()} are my best friends and you ar my comfort zone.\"\n",
    "print(message)"
   ]
  },
  {
   "cell_type": "code",
   "execution_count": 26,
   "id": "ae817d0c",
   "metadata": {},
   "outputs": [
    {
     "name": "stdout",
     "output_type": "stream",
     "text": [
      " Rahena are my best friends and you ar my comfort zone.\n"
     ]
    }
   ],
   "source": [
    "message=f\" {FriendsName[6].title()} are my best friends and you ar my comfort zone.\"\n",
    "print(message)"
   ]
  },
  {
   "cell_type": "code",
   "execution_count": 27,
   "id": "c6e5dac9",
   "metadata": {},
   "outputs": [
    {
     "name": "stdout",
     "output_type": "stream",
     "text": [
      " Shuli are my best friends and you ar my comfort zone.\n"
     ]
    }
   ],
   "source": [
    "message=f\" {FriendsName[7].title()} are my best friends and you ar my comfort zone.\"\n",
    "print(message)"
   ]
  },
  {
   "cell_type": "markdown",
   "id": "9e2ab3ff",
   "metadata": {},
   "source": [
    "# Modifying , Addingg and Removing Elements"
   ]
  },
  {
   "cell_type": "code",
   "execution_count": 28,
   "id": "cbc9cfcf",
   "metadata": {},
   "outputs": [
    {
     "name": "stdout",
     "output_type": "stream",
     "text": [
      "['honda', 'yamha', 'suzuki']\n"
     ]
    }
   ],
   "source": [
    "# Modifyin Elements in a list\n",
    "motorcycles = ['honda','yamha','suzuki']\n",
    "print(motorcycles)"
   ]
  },
  {
   "cell_type": "code",
   "execution_count": 29,
   "id": "59c2a900",
   "metadata": {},
   "outputs": [
    {
     "name": "stdout",
     "output_type": "stream",
     "text": [
      "['ducati', 'yamha', 'suzuki']\n"
     ]
    }
   ],
   "source": [
    "# I want to change honda into ducati\n",
    "motorcycles[0] = 'ducati'\n",
    "print(motorcycles)"
   ]
  },
  {
   "cell_type": "code",
   "execution_count": 30,
   "id": "94c68172",
   "metadata": {},
   "outputs": [
    {
     "name": "stdout",
     "output_type": "stream",
     "text": [
      "['honda', 'yamha', 'suzuki', 'ducati']\n"
     ]
    }
   ],
   "source": [
    "# aDDING eLEMENTS TO A LIST. using .append() method and this method always add any elements to the end of the list.\n",
    "motorcycles = ['honda','yamha','suzuki']\n",
    "motorcycles.append('ducati')\n",
    "print(motorcycles)"
   ]
  },
  {
   "cell_type": "code",
   "execution_count": 31,
   "id": "0b50c516",
   "metadata": {},
   "outputs": [
    {
     "name": "stdout",
     "output_type": "stream",
     "text": [
      "['honda1', 'honda2', 'honda3', 'honda4', 'honda5']\n"
     ]
    }
   ],
   "source": [
    "newMotorCycles = []\n",
    "newMotorCycles.append('honda1')\n",
    "newMotorCycles.append('honda2')\n",
    "newMotorCycles.append('honda3')\n",
    "newMotorCycles.append('honda4')\n",
    "newMotorCycles.append('honda5')\n",
    "print(newMotorCycles)"
   ]
  },
  {
   "cell_type": "code",
   "execution_count": 32,
   "id": "44be0c7f",
   "metadata": {},
   "outputs": [
    {
     "name": "stdout",
     "output_type": "stream",
     "text": [
      "['honda1', 'honda2', 'Suzuki', 'honda3', 'honda4', 'Ducati', 'honda5']\n"
     ]
    }
   ],
   "source": [
    "# Inserting Elements into a list. \n",
    "## I can add a new element at any position in my list by using the insert()method. specifying index no\n",
    "newMotorCycles.insert(2,'Suzuki')\n",
    "newMotorCycles.insert(-1,'Ducati')\n",
    "print(newMotorCycles)"
   ]
  },
  {
   "cell_type": "code",
   "execution_count": 33,
   "id": "ba5f5fe0",
   "metadata": {},
   "outputs": [
    {
     "name": "stdout",
     "output_type": "stream",
     "text": [
      "['honda1', 'honda2', 'Suzuki', 'honda4', 'Ducati', 'honda5']\n"
     ]
    }
   ],
   "source": [
    "# Removinf elements from a list: i can use del but it removes an element permanently from the list. \n",
    "del newMotorCycles[3]\n",
    "print(newMotorCycles)"
   ]
  },
  {
   "cell_type": "markdown",
   "id": "2f8aac81",
   "metadata": {},
   "source": [
    "# there is the another way for removing any item but can use again. using pop() method. but this method always remove last elements."
   ]
  },
  {
   "cell_type": "code",
   "execution_count": 34,
   "id": "edf408a6",
   "metadata": {},
   "outputs": [
    {
     "name": "stdout",
     "output_type": "stream",
     "text": [
      "['honda1', 'honda2', 'Suzuki', 'honda4', 'Ducati', 'honda5']\n",
      "['honda1', 'honda2', 'Suzuki', 'honda4', 'Ducati']\n"
     ]
    }
   ],
   "source": [
    "print(newMotorCycles)\n",
    "newMotorCycles.pop()\n",
    "print(newMotorCycles)"
   ]
  },
  {
   "cell_type": "code",
   "execution_count": 35,
   "id": "11126054",
   "metadata": {},
   "outputs": [
    {
     "name": "stdout",
     "output_type": "stream",
     "text": [
      "['honda1', 'honda2', 'Suzuki', 'honda4', 'Ducati']\n",
      "['honda1', 'honda2', 'Suzuki', 'Ducati']\n"
     ]
    }
   ],
   "source": [
    "print(newMotorCycles)\n",
    "newMotorCycles.pop(3)\n",
    "print(newMotorCycles)"
   ]
  },
  {
   "cell_type": "code",
   "execution_count": 36,
   "id": "d2e46b87",
   "metadata": {},
   "outputs": [
    {
     "name": "stdout",
     "output_type": "stream",
     "text": [
      "['honda1', 'honda2', 'Ducati']\n"
     ]
    }
   ],
   "source": [
    "# Removing an item by value use remove() method\n",
    "newMotorCycles.remove('Suzuki')\n",
    "print(newMotorCycles)"
   ]
  },
  {
   "cell_type": "markdown",
   "id": "8a87eb93",
   "metadata": {},
   "source": [
    "# Exercises"
   ]
  },
  {
   "cell_type": "markdown",
   "id": "77f79cc8",
   "metadata": {},
   "source": [
    "# Guest List: If you invite anyone , living or deceased , to dinner, who would you invite? Make a list at least three people you'd like to invite to dinner. Then use your list to print a message to each person, inviting them to dinner."
   ]
  },
  {
   "cell_type": "code",
   "execution_count": 37,
   "id": "a73a5d31",
   "metadata": {},
   "outputs": [
    {
     "data": {
      "text/plain": [
       "\"Pinky i hope you don't miss my dinner invitation. If possible try to attend.\""
      ]
     },
     "execution_count": 37,
     "metadata": {},
     "output_type": "execute_result"
    }
   ],
   "source": [
    "dinnerInvitation = ['Pinky',' duha','samira']\n",
    "message = f\"{dinnerInvitation[0].title()} i hope you don't miss my dinner invitation. If possible try to attend.\"\n",
    "message"
   ]
  },
  {
   "cell_type": "code",
   "execution_count": 38,
   "id": "b3343c61",
   "metadata": {},
   "outputs": [
    {
     "data": {
      "text/plain": [
       "\" Duha i hope you don't miss my dinner invitation. If possible try to attend.\""
      ]
     },
     "execution_count": 38,
     "metadata": {},
     "output_type": "execute_result"
    }
   ],
   "source": [
    "message = f\"{dinnerInvitation[1].title()} i hope you don't miss my dinner invitation. If possible try to attend.\"\n",
    "message"
   ]
  },
  {
   "cell_type": "code",
   "execution_count": 39,
   "id": "6d35e99e",
   "metadata": {},
   "outputs": [
    {
     "data": {
      "text/plain": [
       "\"Samira i hope you don't miss my dinner invitation. If possible try to attend.\""
      ]
     },
     "execution_count": 39,
     "metadata": {},
     "output_type": "execute_result"
    }
   ],
   "source": [
    "message = f\"{dinnerInvitation[2].title()} i hope you don't miss my dinner invitation. If possible try to attend.\"\n",
    "message"
   ]
  },
  {
   "cell_type": "markdown",
   "id": "7c3d38ca",
   "metadata": {},
   "source": [
    "# Changing Guest Lists:  \n",
    "You just heard that one of your guests can't make the dinner, so you need to send out new set of invitations. You'll have to think of someone else to invite.\n",
    "-- Start with your program from before prblems. Add a print() call at the end of your program, stating the name of the guest who can't make it.\n",
    "-- Modify your list , replacing the name of the guest who can't make it with the name of the new person you ar inviting\n",
    "-- Print a second set of invition messages, one for each person who is still in your list"
   ]
  },
  {
   "cell_type": "code",
   "execution_count": 40,
   "id": "e7d8613b",
   "metadata": {},
   "outputs": [
    {
     "name": "stdout",
     "output_type": "stream",
     "text": [
      "['Pinky', ' duha', 'samira']\n",
      "['rumi', ' duha', 'samira']\n"
     ]
    }
   ],
   "source": [
    "dinnerInvitation = ['Pinky',' duha','samira']\n",
    "print(dinnerInvitation)\n",
    "dinnerInvitation[0] = 'rumi'\n",
    "print(dinnerInvitation)"
   ]
  },
  {
   "cell_type": "code",
   "execution_count": 41,
   "id": "58b94692",
   "metadata": {},
   "outputs": [
    {
     "data": {
      "text/plain": [
       "\"Rumi i hope you don't miss my dinner invitation. If possible try to attend.\""
      ]
     },
     "execution_count": 41,
     "metadata": {},
     "output_type": "execute_result"
    }
   ],
   "source": [
    "message = f\"{dinnerInvitation[0].title()} i hope you don't miss my dinner invitation. If possible try to attend.\"\n",
    "message"
   ]
  },
  {
   "cell_type": "code",
   "execution_count": 42,
   "id": "3017078c",
   "metadata": {},
   "outputs": [
    {
     "data": {
      "text/plain": [
       "\" Duha i hope you don't miss my dinner invitation. If possible try to attend.\""
      ]
     },
     "execution_count": 42,
     "metadata": {},
     "output_type": "execute_result"
    }
   ],
   "source": [
    "message = f\"{dinnerInvitation[1].title()} i hope you don't miss my dinner invitation. If possible try to attend.\"\n",
    "message"
   ]
  },
  {
   "cell_type": "code",
   "execution_count": 43,
   "id": "f2c8a39a",
   "metadata": {},
   "outputs": [
    {
     "data": {
      "text/plain": [
       "\"Samira i hope you don't miss my dinner invitation. If possible try to attend.\""
      ]
     },
     "execution_count": 43,
     "metadata": {},
     "output_type": "execute_result"
    }
   ],
   "source": [
    "message = f\"{dinnerInvitation[2].title()} i hope you don't miss my dinner invitation. If possible try to attend.\"\n",
    "message"
   ]
  },
  {
   "cell_type": "markdown",
   "id": "ce5d1011",
   "metadata": {},
   "source": [
    "# More Guests: \n",
    "you just found a bigger dinner table, so now more space is available. Think of three more guests to invite to dinner.\n",
    "* Start with your program from Guests list and changing Guests list. Add a print() call to the end of your program, informing people that you found a bigger table.\n",
    "* Use insert() to add one new guest to the beginning of your list.\n",
    "* Use insert() to add new one guest to the middle of your list\n",
    "* Use append() to add new guest to the end of your list.\n",
    "* Print a new set of invitation message , one for each person in your list"
   ]
  },
  {
   "cell_type": "code",
   "execution_count": 44,
   "id": "fbc7707b",
   "metadata": {},
   "outputs": [
    {
     "name": "stdout",
     "output_type": "stream",
     "text": [
      "['rumi', ' duha', 'samira']\n"
     ]
    }
   ],
   "source": [
    "print(dinnerInvitation)"
   ]
  },
  {
   "cell_type": "code",
   "execution_count": 45,
   "id": "9c133f1c",
   "metadata": {},
   "outputs": [
    {
     "name": "stdout",
     "output_type": "stream",
     "text": [
      "['Farzana Apa', 'Rahena apa', 'rumi', ' duha', 'samira', 'Boro Apa']\n"
     ]
    }
   ],
   "source": [
    "dinnerInvitation.insert(0,'Farzana Apa')\n",
    "dinnerInvitation.insert(1,'Rahena apa')\n",
    "dinnerInvitation.append('Boro Apa')\n",
    "print(dinnerInvitation)"
   ]
  },
  {
   "cell_type": "code",
   "execution_count": 46,
   "id": "afe32394",
   "metadata": {},
   "outputs": [
    {
     "data": {
      "text/plain": [
       "\"Farzana Apa i hope you don't miss my dinner invitation. If possible try to attend.\""
      ]
     },
     "execution_count": 46,
     "metadata": {},
     "output_type": "execute_result"
    }
   ],
   "source": [
    "message = f\"{dinnerInvitation[0].title()} i hope you don't miss my dinner invitation. If possible try to attend.\"\n",
    "message"
   ]
  },
  {
   "cell_type": "code",
   "execution_count": 47,
   "id": "daef6810",
   "metadata": {},
   "outputs": [
    {
     "data": {
      "text/plain": [
       "\"Rahena Apa i hope you don't miss my dinner invitation. If possible try to attend.\""
      ]
     },
     "execution_count": 47,
     "metadata": {},
     "output_type": "execute_result"
    }
   ],
   "source": [
    "message = f\"{dinnerInvitation[1].title()} i hope you don't miss my dinner invitation. If possible try to attend.\"\n",
    "message"
   ]
  },
  {
   "cell_type": "code",
   "execution_count": 48,
   "id": "20346f27",
   "metadata": {},
   "outputs": [
    {
     "data": {
      "text/plain": [
       "\"Rumi i hope you don't miss my dinner invitation. If possible try to attend.\""
      ]
     },
     "execution_count": 48,
     "metadata": {},
     "output_type": "execute_result"
    }
   ],
   "source": [
    "message = f\"{dinnerInvitation[2].title()} i hope you don't miss my dinner invitation. If possible try to attend.\"\n",
    "message"
   ]
  },
  {
   "cell_type": "code",
   "execution_count": 49,
   "id": "e4c6ba43",
   "metadata": {},
   "outputs": [
    {
     "data": {
      "text/plain": [
       "\" Duha i hope you don't miss my dinner invitation. If possible try to attend.\""
      ]
     },
     "execution_count": 49,
     "metadata": {},
     "output_type": "execute_result"
    }
   ],
   "source": [
    "message = f\"{dinnerInvitation[3].title()} i hope you don't miss my dinner invitation. If possible try to attend.\"\n",
    "message"
   ]
  },
  {
   "cell_type": "code",
   "execution_count": 50,
   "id": "2ed8e6a5",
   "metadata": {},
   "outputs": [
    {
     "data": {
      "text/plain": [
       "\"Samira i hope you don't miss my dinner invitation. If possible try to attend.\""
      ]
     },
     "execution_count": 50,
     "metadata": {},
     "output_type": "execute_result"
    }
   ],
   "source": [
    "message = f\"{dinnerInvitation[4].title()} i hope you don't miss my dinner invitation. If possible try to attend.\"\n",
    "message"
   ]
  },
  {
   "cell_type": "code",
   "execution_count": 51,
   "id": "bc287be5",
   "metadata": {},
   "outputs": [
    {
     "data": {
      "text/plain": [
       "\"Boro Apa i hope you don't miss my dinner invitation. If possible try to attend.\""
      ]
     },
     "execution_count": 51,
     "metadata": {},
     "output_type": "execute_result"
    }
   ],
   "source": [
    "message = f\"{dinnerInvitation[5].title()} i hope you don't miss my dinner invitation. If possible try to attend.\"\n",
    "message"
   ]
  },
  {
   "cell_type": "markdown",
   "id": "ee95eb77",
   "metadata": {},
   "source": [
    "# shirinking Guest list:\n",
    "you just found out that your new dinner table wont arrive in time for the dinner and now you have space for only two guests.\n",
    "* Start with your program from # More Guest \n",
    "  add a new line that prints a message saying that you can invite only two people for dinner.\n",
    "* Use pop() to remove guests from your list one at a time until only two names remain in your list. Each time you pop a name frim your list , print a message to that person letting them know you're sorry you can't invite them dinner\n",
    "* Print a message to each of the two people still on your list , letting then know they are still invited.\n",
    "* Use del to remove the last two names from your list , so you have an empty list. Print your list to make you actually have an empty list at the end of your program."
   ]
  },
  {
   "cell_type": "code",
   "execution_count": 52,
   "id": "31555eb2",
   "metadata": {},
   "outputs": [
    {
     "name": "stdout",
     "output_type": "stream",
     "text": [
      "['Farzana Apa', 'Rahena apa', 'rumi', ' duha', 'samira', 'Boro Apa']\n"
     ]
    }
   ],
   "source": [
    "print(dinnerInvitation)"
   ]
  },
  {
   "cell_type": "code",
   "execution_count": 53,
   "id": "a0376f09",
   "metadata": {},
   "outputs": [
    {
     "data": {
      "text/plain": [
       "'Boro Apa'"
      ]
     },
     "execution_count": 53,
     "metadata": {},
     "output_type": "execute_result"
    }
   ],
   "source": [
    "dinnerInvitation.pop()"
   ]
  },
  {
   "cell_type": "code",
   "execution_count": 54,
   "id": "db2b5eba",
   "metadata": {},
   "outputs": [
    {
     "data": {
      "text/plain": [
       "'samira'"
      ]
     },
     "execution_count": 54,
     "metadata": {},
     "output_type": "execute_result"
    }
   ],
   "source": [
    "dinnerInvitation.pop()"
   ]
  },
  {
   "cell_type": "code",
   "execution_count": 55,
   "id": "5ac032c6",
   "metadata": {},
   "outputs": [
    {
     "data": {
      "text/plain": [
       "' duha'"
      ]
     },
     "execution_count": 55,
     "metadata": {},
     "output_type": "execute_result"
    }
   ],
   "source": [
    "dinnerInvitation.pop()"
   ]
  },
  {
   "cell_type": "code",
   "execution_count": 56,
   "id": "59d831a8",
   "metadata": {},
   "outputs": [
    {
     "data": {
      "text/plain": [
       "'rumi'"
      ]
     },
     "execution_count": 56,
     "metadata": {},
     "output_type": "execute_result"
    }
   ],
   "source": [
    "dinnerInvitation.pop()"
   ]
  },
  {
   "cell_type": "code",
   "execution_count": 57,
   "id": "210bad09",
   "metadata": {},
   "outputs": [
    {
     "name": "stdout",
     "output_type": "stream",
     "text": [
      "['Farzana Apa', 'Rahena apa']\n"
     ]
    }
   ],
   "source": [
    "print(dinnerInvitation)"
   ]
  },
  {
   "cell_type": "code",
   "execution_count": 58,
   "id": "087c9161",
   "metadata": {},
   "outputs": [
    {
     "data": {
      "text/plain": [
       "\"Farzana Apa i hope you don't miss my dinner invitation. If possible try to attend.\""
      ]
     },
     "execution_count": 58,
     "metadata": {},
     "output_type": "execute_result"
    }
   ],
   "source": [
    "message = f\"{dinnerInvitation[0].title()} i hope you don't miss my dinner invitation. If possible try to attend.\"\n",
    "message"
   ]
  },
  {
   "cell_type": "code",
   "execution_count": 59,
   "id": "472e4907",
   "metadata": {},
   "outputs": [
    {
     "data": {
      "text/plain": [
       "\"Rahena Apa i hope you don't miss my dinner invitation. If possible try to attend.\""
      ]
     },
     "execution_count": 59,
     "metadata": {},
     "output_type": "execute_result"
    }
   ],
   "source": [
    "message = f\"{dinnerInvitation[1].title()} i hope you don't miss my dinner invitation. If possible try to attend.\"\n",
    "message"
   ]
  },
  {
   "cell_type": "code",
   "execution_count": 60,
   "id": "343bbd2d",
   "metadata": {},
   "outputs": [],
   "source": [
    "del dinnerInvitation[0]"
   ]
  },
  {
   "cell_type": "code",
   "execution_count": 61,
   "id": "45bf063f",
   "metadata": {},
   "outputs": [
    {
     "name": "stdout",
     "output_type": "stream",
     "text": [
      "['Rahena apa']\n"
     ]
    }
   ],
   "source": [
    "print(dinnerInvitation)"
   ]
  },
  {
   "cell_type": "code",
   "execution_count": 62,
   "id": "d78c4731",
   "metadata": {},
   "outputs": [],
   "source": [
    "del dinnerInvitation[0]"
   ]
  },
  {
   "cell_type": "code",
   "execution_count": 63,
   "id": "f1a2d98a",
   "metadata": {},
   "outputs": [
    {
     "name": "stdout",
     "output_type": "stream",
     "text": [
      "[]\n"
     ]
    }
   ],
   "source": [
    "print(dinnerInvitation)"
   ]
  },
  {
   "cell_type": "markdown",
   "id": "ec8fc534",
   "metadata": {},
   "source": [
    "# Organize a list \n",
    "Often your list will be created in an unpredicable order, because you can't always control the order in which your users provide their data. \n",
    "# Sorting a list permanently with the sort() method\n",
    "python sort() method makes it relatively easy to sort a list . "
   ]
  },
  {
   "cell_type": "code",
   "execution_count": 64,
   "id": "186ce845",
   "metadata": {},
   "outputs": [
    {
     "name": "stdout",
     "output_type": "stream",
     "text": [
      "['bmw', 'audi', 'toyota', 'subru']\n"
     ]
    }
   ],
   "source": [
    "cars = ['bmw','audi','toyota','subru']\n",
    "print(cars)"
   ]
  },
  {
   "cell_type": "code",
   "execution_count": 65,
   "id": "15fef7d9",
   "metadata": {},
   "outputs": [
    {
     "name": "stdout",
     "output_type": "stream",
     "text": [
      "['audi', 'bmw', 'subru', 'toyota']\n"
     ]
    }
   ],
   "source": [
    "cars.sort()\n",
    "print(cars)"
   ]
  },
  {
   "cell_type": "code",
   "execution_count": 66,
   "id": "118256f3",
   "metadata": {},
   "outputs": [
    {
     "name": "stdout",
     "output_type": "stream",
     "text": [
      "['toyota', 'subru', 'bmw', 'audi']\n"
     ]
    }
   ],
   "source": [
    "cars.sort(reverse=True)\n",
    "print(cars)"
   ]
  },
  {
   "cell_type": "code",
   "execution_count": 67,
   "id": "375105f4",
   "metadata": {},
   "outputs": [
    {
     "name": "stdout",
     "output_type": "stream",
     "text": [
      "['audi', 'bmw', 'subru', 'toyota']\n"
     ]
    }
   ],
   "source": [
    "# Sorting a list temporarily with the sorted() Function\n",
    "print(sorted(cars))"
   ]
  },
  {
   "cell_type": "code",
   "execution_count": 68,
   "id": "2f105099",
   "metadata": {},
   "outputs": [
    {
     "name": "stdout",
     "output_type": "stream",
     "text": [
      "['toyota', 'subru', 'bmw', 'audi']\n"
     ]
    }
   ],
   "source": [
    "print(cars)"
   ]
  },
  {
   "cell_type": "code",
   "execution_count": 70,
   "id": "cd82e954",
   "metadata": {},
   "outputs": [
    {
     "name": "stdout",
     "output_type": "stream",
     "text": [
      "\n",
      " Here is the orginal list\n",
      "['toyota', 'subru', 'bmw', 'audi']\n"
     ]
    }
   ],
   "source": [
    "print(\"\\n Here is the orginal list\")\n",
    "print(cars)"
   ]
  },
  {
   "cell_type": "code",
   "execution_count": 71,
   "id": "109c708d",
   "metadata": {},
   "outputs": [
    {
     "name": "stdout",
     "output_type": "stream",
     "text": [
      "['audi', 'bmw', 'subru', 'toyota']\n"
     ]
    }
   ],
   "source": [
    "# printing a list in reverse order\n",
    "cars.reverse()\n",
    "print(cars)"
   ]
  },
  {
   "cell_type": "code",
   "execution_count": 72,
   "id": "ce2c63c8",
   "metadata": {},
   "outputs": [
    {
     "data": {
      "text/plain": [
       "4"
      ]
     },
     "execution_count": 72,
     "metadata": {},
     "output_type": "execute_result"
    }
   ],
   "source": [
    "# Finding the length of the lsit using len() method\n",
    "len(cars)"
   ]
  },
  {
   "cell_type": "markdown",
   "id": "a7808383",
   "metadata": {},
   "source": [
    "# Seeing the World:\n",
    "Think of at least five places in the world you'd like to visit\n",
    "* Store the location in alist. Make sure the list is not in alphabetical order.\n",
    "* print your list in it's orginal order. Don't worry about printing the list neatly, just print it as a raw python list.\n",
    "* use sorted() to print your list in revesre-alphabetical order without changing the order of the original list.\n",
    "* Show that your list is still in its orginal order by printing it again\n",
    "* Use revesre() to change the order of your list again. Print the list to show it's back to it's orginal order\n",
    "* Use sort() to change the order of your list so it's stored in alphabetical order. Print the list to show that it's order has been changed.\n",
    "* USe sort() to change ypur list so it's stored in reverse-alphabetical order. Print the list to show that its order has changed."
   ]
  },
  {
   "cell_type": "code",
   "execution_count": null,
   "id": "c5855b30",
   "metadata": {},
   "outputs": [],
   "source": []
  }
 ],
 "metadata": {
  "kernelspec": {
   "display_name": "Python 3 (ipykernel)",
   "language": "python",
   "name": "python3"
  },
  "language_info": {
   "codemirror_mode": {
    "name": "ipython",
    "version": 3
   },
   "file_extension": ".py",
   "mimetype": "text/x-python",
   "name": "python",
   "nbconvert_exporter": "python",
   "pygments_lexer": "ipython3",
   "version": "3.11.5"
  }
 },
 "nbformat": 4,
 "nbformat_minor": 5
}
